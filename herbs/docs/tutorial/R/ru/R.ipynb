{
 "cells": [
  {
   "cell_type": "markdown",
   "metadata": {},
   "source": [
    "# Автоматизация поисковых запросов на R\n",
    "\n",
    "Язык для статистического моделирования [R (S-plus)](http://r-project.org) широко распространен при решении научных и прикладных задач анализа данных.\n",
    "\n",
    "За время своего более 20-ти летнего существования, среда статистичекого моделирования R обзавелась огромной [экосистемой](https://cran.r-project.org/mirrors.html) различных проблемно-ориентированных пакетов, позволяющих автоматизировать процесс решения самых разнообразных научных и приклданых задач, связанных с обработкой данных.\n",
    "\n",
    "Выполняемый код в приводимом документе содержится в блоках, имеющих вид In[xxx]; его можно выполнить с использованием интерпретатора R, либо интерактивном режиме, либо предварительно сохранив в файл R-скрипта -- текстовой файл с расширением .r.\n",
    "\n",
    "Данный документ создан при помощи [Jupyter](http://jupyter.org) и [IRkernel](https://irkernel.github.io/)."
   ]
  },
  {
   "cell_type": "markdown",
   "metadata": {},
   "source": [
    "## Подготовка вычислительной среды"
   ]
  },
  {
   "cell_type": "markdown",
   "metadata": {},
   "source": [
    "Автоматизация поисковых запросов в среде R предполагает:\n",
    "* Формирование HTTP-запроса к серверу, согласно [HTTP-API](http://botsad.ru/herbarium/docs/ru/http_api.html);\n",
    "* Преобразование полученного JSON-ответа в удобный в среде R вид (например, DataFrame-объект);\n",
    "\n",
    "Для решения этих двух задач в экосистеме R имеется большое число пакетов. \n",
    "Приводимый далее код предполагает, что в вычислительной среде установлен пакет [jsonlite](https://cran.r-project.org/web/packages/jsonlite/index.html)"
   ]
  },
  {
   "cell_type": "code",
   "execution_count": 1,
   "metadata": {
    "collapsed": true
   },
   "outputs": [],
   "source": [
    "library(jsonlite)"
   ]
  },
  {
   "cell_type": "code",
   "execution_count": 2,
   "metadata": {
    "collapsed": true
   },
   "outputs": [],
   "source": [
    "data<-fromJSON('http://botsad.ru/hitem/json/?collectedby=Пименова')"
   ]
  },
  {
   "cell_type": "code",
   "execution_count": 3,
   "metadata": {},
   "outputs": [
    {
     "data": {
      "text/html": [
       "<table>\n",
       "<thead><tr><th scope=col>species_authorship</th><th scope=col>updated</th><th scope=col>family</th><th scope=col>acronym</th><th scope=col>species_status</th><th scope=col>significance</th><th scope=col>gpsbased</th><th scope=col>species_epithet</th><th scope=col>country</th><th scope=col>identification_finished</th><th scope=col>⋯</th><th scope=col>additionals</th><th scope=col>collection_finished</th><th scope=col>branch</th><th scope=col>short_note</th><th scope=col>latitude</th><th scope=col>region</th><th scope=col>genus</th><th scope=col>fieldid</th><th scope=col>infraspecific_epithet</th><th scope=col>details</th></tr></thead>\n",
       "<tbody>\n",
       "\t<tr><td>(Spenn.) Fée                                                      </td><td>2017-06-13                                                        </td><td>DRYOPTERIDACEAE                                                   </td><td>VBGI                                                              </td><td>From plantlist                                                    </td><td>                                                                  </td><td>FALSE                                                             </td><td>braunii                                                           </td><td>Russia                                                            </td><td>                                                                  </td><td>⋯                                                                 </td><td>NULL                                                              </td><td>                                                                  </td><td>                                                                  </td><td>                                                                  </td><td>43.06703                                                          </td><td>Приморский край                                                   </td><td>Polystichum                                                       </td><td>                                                                  </td><td>                                                                  </td><td>г. Ливадийская (Фалаза), кедрово-широколиственный лес             </td></tr>\n",
       "\t<tr><td>Hara                                                              </td><td>2017-06-13                                                        </td><td>CRASSULACEAE                                                      </td><td>VBGI                                                              </td><td>From plantlist                                                    </td><td>                                                                  </td><td> TRUE                                                             </td><td>iwarenge                                                          </td><td>Russia                                                            </td><td>                                                                  </td><td>⋯                                                                 </td><td>NULL                                                              </td><td>                                                                  </td><td>                                                                  </td><td>                                                                  </td><td>42.89162                                                          </td><td>Приморский край                                                   </td><td>Orostachys                                                        </td><td>                                                                  </td><td>                                                                  </td><td>Залив Восток, база \"Восток\", мыс Пашинникова, скалы на берегу моря</td></tr>\n",
       "\t<tr><td>Chaix                                                             </td><td>2017-06-13                                                        </td><td>JUNCACEAE                                                         </td><td>VBGI                                                              </td><td>From plantlist                                                    </td><td>                                                                  </td><td>FALSE                                                             </td><td>alpinoarticulatus                                                 </td><td>Russia                                                            </td><td>2015-04-01                                                        </td><td>⋯                                                                 </td><td>NULL                                                              </td><td>                                                                  </td><td>                                                                  </td><td>                                                                  </td><td>45.82908                                                          </td><td>Приморский край                                                   </td><td>Juncus                                                            </td><td>                                                                  </td><td>                                                                  </td><td>с. Амгу, близ устья р. Амгу                                       </td></tr>\n",
       "\t<tr><td><span style=white-space:pre-wrap>Willd. ex Schult. &amp; Schult.f.    </span>                             </td><td>2017-06-13                                                                                                </td><td>AMARYLLIDACEAE                                                                                            </td><td>VBGI                                                                                                      </td><td>From plantlist                                                                                            </td><td>                                                                                                          </td><td> TRUE                                                                                                     </td><td><span style=white-space:pre-wrap>splendens        </span>                                                 </td><td>Russia                                                                                                    </td><td>2015-04-01                                                                                                </td><td>⋯                                                                                                         </td><td>NULL                                                                                                      </td><td>                                                                                                          </td><td>                                                                                                          </td><td>                                                                                                          </td><td>45.89254                                                                                                  </td><td>Приморский край                                                                                           </td><td><span style=white-space:pre-wrap>Allium       </span>                                                     </td><td>                                                                                                          </td><td>                                                                                                          </td><td><span style=white-space:pre-wrap>г. Туман, щебнистая осыпь в подгольцовом поясе                    </span></td></tr>\n",
       "\t<tr><td>(Regel) Sojak                                                     </td><td>2017-06-13                                                        </td><td>POLYGONACEAE                                                      </td><td>VBGI                                                              </td><td>From plantlist                                                    </td><td>                                                                  </td><td> TRUE                                                             </td><td>maackianum                                                        </td><td>Russia                                                            </td><td>                                                                  </td><td>⋯                                                                 </td><td>NULL                                                              </td><td>                                                                  </td><td>                                                                  </td><td>                                                                  </td><td>42.45782                                                          </td><td>Приморский край                                                   </td><td>Truellum                                                          </td><td>                                                                  </td><td>                                                                  </td><td>оз. Лотос, на сплавине                                            </td></tr>\n",
       "\t<tr><td>(Regel) Sojak                                                     </td><td>2017-06-13                                                        </td><td>POLYGONACEAE                                                      </td><td>VBGI                                                              </td><td>From plantlist                                                    </td><td>                                                                  </td><td> TRUE                                                             </td><td>maackianum                                                        </td><td>Russia                                                            </td><td>                                                                  </td><td>⋯                                                                 </td><td>NULL                                                              </td><td>                                                                  </td><td>                                                                  </td><td>                                                                  </td><td>42.45782                                                          </td><td>Приморский край                                                   </td><td>Truellum                                                          </td><td>                                                                  </td><td>                                                                  </td><td>оз. Лотос, на сплавине                                            </td></tr>\n",
       "\t<tr><td>(Regel) Sojak                                                     </td><td>2017-06-13                                                        </td><td>POLYGONACEAE                                                      </td><td>VBGI                                                              </td><td>From plantlist                                                    </td><td>                                                                  </td><td> TRUE                                                             </td><td>maackianum                                                        </td><td>Russia                                                            </td><td>                                                                  </td><td>⋯                                                                 </td><td>NULL                                                              </td><td>                                                                  </td><td>                                                                  </td><td>                                                                  </td><td>42.45782                                                          </td><td>Приморский край                                                   </td><td>Truellum                                                          </td><td>                                                                  </td><td>                                                                  </td><td>оз. Лотос, на сплавине                                            </td></tr>\n",
       "\t<tr><td>(Maxim.) Maxim. ex Franch. &amp; Sav.                                                                     </td><td>2017-07-13                                                                                                </td><td><span style=white-space:pre-wrap>CUCURBITACEAE  </span>                                                   </td><td>VBGI                                                                                                      </td><td>From plantlist                                                                                            </td><td>                                                                                                          </td><td> TRUE                                                                                                     </td><td><span style=white-space:pre-wrap>lobatum          </span>                                                 </td><td>Russia                                                                                                    </td><td><span style=white-space:pre-wrap>          </span>                                                        </td><td>⋯                                                                                                         </td><td>NULL                                                                                                      </td><td>                                                                                                          </td><td>                                                                                                          </td><td>                                                                                                          </td><td>42.45782                                                                                                  </td><td>Приморский край                                                                                           </td><td>Actinostemma                                                                                              </td><td>                                                                                                          </td><td>                                                                                                          </td><td><span style=white-space:pre-wrap>оз. Лотос, на сплавине                                            </span></td></tr>\n",
       "\t<tr><td>(Buch.-Ham. ex Roxb.) Maxim.                                      </td><td>2017-06-13                                                        </td><td>LAMIACEAE                                                         </td><td>VBGI                                                              </td><td>From plantlist                                                    </td><td>                                                                  </td><td> TRUE                                                             </td><td>dianthera                                                         </td><td>Russia                                                            </td><td>                                                                  </td><td>⋯                                                                 </td><td>NULL                                                              </td><td>                                                                  </td><td>                                                                  </td><td>                                                                  </td><td>42.45782                                                          </td><td>Приморский край                                                   </td><td>Mosla                                                             </td><td>                                                                  </td><td>                                                                  </td><td>оз. Лотос, на сплавине                                            </td></tr>\n",
       "\t<tr><td>(Buch.-Ham. ex Roxb.) Maxim.                                      </td><td>2017-06-13                                                        </td><td>LAMIACEAE                                                         </td><td>VBGI                                                              </td><td>From plantlist                                                    </td><td>                                                                  </td><td> TRUE                                                             </td><td>dianthera                                                         </td><td>Russia                                                            </td><td>                                                                  </td><td>⋯                                                                 </td><td>NULL                                                              </td><td>                                                                  </td><td>                                                                  </td><td>                                                                  </td><td>42.45782                                                          </td><td>Приморский край                                                   </td><td>Mosla                                                             </td><td>                                                                  </td><td>                                                                  </td><td>оз. Лотос, на сплавине                                            </td></tr>\n",
       "\t<tr><td>Makino                                                            </td><td>2017-06-13                                                        </td><td>LAMIACEAE                                                         </td><td>VBGI                                                              </td><td>From plantlist                                                    </td><td>                                                                  </td><td> TRUE                                                             </td><td>jatabeana                                                         </td><td>Russia                                                            </td><td>                                                                  </td><td>⋯                                                                 </td><td>NULL                                                              </td><td>                                                                  </td><td>                                                                  </td><td>                                                                  </td><td>42.45782                                                          </td><td>Приморский край                                                   </td><td>Dysophylla                                                        </td><td>                                                                  </td><td>                                                                  </td><td>оз. Лотос, на сплавине                                            </td></tr>\n",
       "\t<tr><td>(R. Keller) Y. Kimura                                             </td><td>2017-06-13                                                        </td><td>HYPERICACEAE                                                      </td><td>VBGI                                                              </td><td>From plantlist                                                    </td><td>                                                                  </td><td> TRUE                                                             </td><td>japonicum                                                         </td><td>Russia                                                            </td><td>                                                                  </td><td>⋯                                                                 </td><td>NULL                                                              </td><td>                                                                  </td><td>                                                                  </td><td>                                                                  </td><td>42.45782                                                          </td><td>Приморский край                                                   </td><td>Triadenum                                                         </td><td>                                                                  </td><td>                                                                  </td><td>оз. Лотос, на сплавине                                            </td></tr>\n",
       "\t<tr><td>(R. Keller) Y. Kimura                                             </td><td>2017-06-13                                                        </td><td>HYPERICACEAE                                                      </td><td>VBGI                                                              </td><td>From plantlist                                                    </td><td>                                                                  </td><td> TRUE                                                             </td><td>japonicum                                                         </td><td>Russia                                                            </td><td>                                                                  </td><td>⋯                                                                 </td><td>NULL                                                              </td><td>                                                                  </td><td>                                                                  </td><td>                                                                  </td><td>42.45782                                                          </td><td>Приморский край                                                   </td><td>Triadenum                                                         </td><td>                                                                  </td><td>                                                                  </td><td>оз. Лотос, на сплавине                                            </td></tr>\n",
       "\t<tr><td>Benth.                                                            </td><td>2017-06-13                                                        </td><td>OROBANCHACEAE                                                     </td><td>VBGI                                                              </td><td>From plantlist                                                    </td><td>                                                                  </td><td>FALSE                                                             </td><td>chinensis                                                         </td><td>Russia                                                            </td><td>                                                                  </td><td>⋯                                                                 </td><td>NULL                                                              </td><td>                                                                  </td><td>                                                                  </td><td>                                                                  </td><td>42.56007                                                          </td><td>Приморский край                                                   </td><td>Siphonostegia                                                     </td><td>                                                                  </td><td>                                                                  </td><td>дорога к пос. Хасан, перевал                                      </td></tr>\n",
       "\t<tr><td>Benth.                                                            </td><td>2017-06-13                                                        </td><td>OROBANCHACEAE                                                     </td><td>VBGI                                                              </td><td>From plantlist                                                    </td><td>                                                                  </td><td>FALSE                                                             </td><td>chinensis                                                         </td><td>Russia                                                            </td><td>                                                                  </td><td>⋯                                                                 </td><td>NULL                                                              </td><td>                                                                  </td><td>                                                                  </td><td>                                                                  </td><td>42.55994                                                          </td><td>Приморский край                                                   </td><td>Siphonostegia                                                     </td><td>                                                                  </td><td>                                                                  </td><td>дорога к пос. Хасан, перевал                                      </td></tr>\n",
       "\t<tr><td>Miq.                                                              </td><td>2017-06-13                                                        </td><td>SALICACEAE                                                        </td><td>VBGI                                                              </td><td>From plantlist                                                    </td><td>                                                                  </td><td>FALSE                                                             </td><td>pierotii                                                          </td><td>Russia                                                            </td><td>                                                                  </td><td>⋯                                                                 </td><td>NULL                                                              </td><td>                                                                  </td><td>                                                                  </td><td>                                                                  </td><td>42.55981                                                          </td><td>Приморский край                                                   </td><td>Salix                                                             </td><td>                                                                  </td><td>                                                                  </td><td>дорога на пос. Хасан, скала у дороги                              </td></tr>\n",
       "\t<tr><td>L.                                                                </td><td>2017-06-13                                                        </td><td>SALICACEAE                                                        </td><td>VBGI                                                              </td><td>From plantlist                                                    </td><td>                                                                  </td><td>FALSE                                                             </td><td>caprea                                                            </td><td>Russia                                                            </td><td>                                                                  </td><td>⋯                                                                 </td><td>NULL                                                              </td><td>                                                                  </td><td>                                                                  </td><td>                                                                  </td><td>42.56045                                                          </td><td>Приморский край                                                   </td><td>Salix                                                             </td><td>                                                                  </td><td>                                                                  </td><td>дорога н апос. Хасан, скала у дороги                              </td></tr>\n",
       "\t<tr><td>(Thunb.) Schindl.                                                 </td><td>2017-06-13                                                        </td><td>LEGUMINOSAE                                                       </td><td>VBGI                                                              </td><td>From plantlist                                                    </td><td>                                                                  </td><td>FALSE                                                             </td><td>striata                                                           </td><td>Russia                                                            </td><td>                                                                  </td><td>⋯                                                                 </td><td>NULL                                                              </td><td>                                                                  </td><td>                                                                  </td><td>                                                                  </td><td>42.55943                                                          </td><td>Приморский край                                                   </td><td>Kummerowia                                                        </td><td>                                                                  </td><td>                                                                  </td><td>дорога на пос. Хасан, скала у дороги                              </td></tr>\n",
       "\t<tr><td>Miq.                                                              </td><td>2017-06-13                                                        </td><td>LEGUMINOSAE                                                       </td><td>VBGI                                                              </td><td>From plantlist                                                    </td><td>                                                                  </td><td>FALSE                                                             </td><td>cyrtobotrya                                                       </td><td>Russia                                                            </td><td>                                                                  </td><td>⋯                                                                 </td><td>NULL                                                              </td><td>                                                                  </td><td>                                                                  </td><td>                                                                  </td><td>42.47370                                                          </td><td>Приморский край                                                   </td><td>Lespedeza                                                         </td><td>                                                                  </td><td>                                                                  </td><td>перевал от оз. Лотос                                              </td></tr>\n",
       "\t<tr><td>Miq.                                                              </td><td>2017-06-13                                                        </td><td>LEGUMINOSAE                                                       </td><td>VBGI                                                              </td><td>From plantlist                                                    </td><td>                                                                  </td><td>FALSE                                                             </td><td>cyrtobotrya                                                       </td><td>Russia                                                            </td><td>                                                                  </td><td>⋯                                                                 </td><td>NULL                                                              </td><td>                                                                  </td><td>                                                                  </td><td>                                                                  </td><td>42.47415                                                          </td><td>Приморский край                                                   </td><td>Lespedeza                                                         </td><td>                                                                  </td><td>                                                                  </td><td>перевал от оз. Лотос                                              </td></tr>\n",
       "\t<tr><td>(Pall.) DC.                                                       </td><td>2017-06-13                                                        </td><td>LEGUMINOSAE                                                       </td><td>VBGI                                                              </td><td>From plantlist                                                    </td><td>                                                                  </td><td>FALSE                                                             </td><td>dahuricus                                                         </td><td>Russia                                                            </td><td>                                                                  </td><td>⋯                                                                 </td><td>NULL                                                              </td><td>                                                                  </td><td>                                                                  </td><td>                                                                  </td><td>42.87962                                                          </td><td>Приморский край                                                   </td><td>Astragalus                                                        </td><td>                                                                  </td><td>                                                                  </td><td>трасса после поворота на Славянку, обочина                        </td></tr>\n",
       "\t<tr><td>Thunb.                                                            </td><td>2017-06-13                                                        </td><td>FAGACEAE                                                          </td><td>VBGI                                                              </td><td>From plantlist                                                    </td><td>                                                                  </td><td> TRUE                                                             </td><td>dentata                                                           </td><td>Russia                                                            </td><td>                                                                  </td><td>⋯                                                                 </td><td>NULL                                                              </td><td>                                                                  </td><td>                                                                  </td><td>                                                                  </td><td>42.45782                                                          </td><td>Приморский край                                                   </td><td>Quercus                                                           </td><td>                                                                  </td><td>                                                                  </td><td>оз. Лотос, берег                                                  </td></tr>\n",
       "\t<tr><td>Thunb.                                                            </td><td>2017-06-13                                                        </td><td>FAGACEAE                                                          </td><td>VBGI                                                              </td><td>From plantlist                                                    </td><td>                                                                  </td><td> TRUE                                                             </td><td>dentata                                                           </td><td>Russia                                                            </td><td>                                                                  </td><td>⋯                                                                 </td><td>NULL                                                              </td><td>                                                                  </td><td>                                                                  </td><td>                                                                  </td><td>42.45782                                                          </td><td>Приморский край                                                   </td><td>Quercus                                                           </td><td>                                                                  </td><td>                                                                  </td><td>оз. Лотос, берег                                                  </td></tr>\n",
       "\t<tr><td>(Siebold et Zucc.) Sojak                                          </td><td>2017-06-13                                                        </td><td>POLYGONACEAE                                                      </td><td>VBGI                                                              </td><td>From plantlist                                                    </td><td>                                                                  </td><td> TRUE                                                             </td><td>thunbergii                                                        </td><td>Russia                                                            </td><td>                                                                  </td><td>⋯                                                                 </td><td>NULL                                                              </td><td>                                                                  </td><td>                                                                  </td><td>                                                                  </td><td>42.45782                                                          </td><td>Приморский край                                                   </td><td>Truellum                                                          </td><td>                                                                  </td><td>                                                                  </td><td>оз. Лотос, на сплавине                                            </td></tr>\n",
       "\t<tr><td>(Siebold et Zucc.) Sojak                                          </td><td>2017-06-13                                                        </td><td>POLYGONACEAE                                                      </td><td>VBGI                                                              </td><td>From plantlist                                                    </td><td>                                                                  </td><td> TRUE                                                             </td><td>thunbergii                                                        </td><td>Russia                                                            </td><td>                                                                  </td><td>⋯                                                                 </td><td>NULL                                                              </td><td>                                                                  </td><td>                                                                  </td><td>                                                                  </td><td>42.45782                                                          </td><td>Приморский край                                                   </td><td>Truellum                                                          </td><td>                                                                  </td><td>                                                                  </td><td>оз. Лотос, на сплавине                                            </td></tr>\n",
       "\t<tr><td>Hance                                                             </td><td>2017-06-13                                                        </td><td>COMPOSITAE                                                        </td><td>VBGI                                                              </td><td>From plantlist                                                    </td><td>                                                                  </td><td>FALSE                                                             </td><td>sinica                                                            </td><td>Russia                                                            </td><td>                                                                  </td><td>⋯                                                                 </td><td>NULL                                                              </td><td>                                                                  </td><td>                                                                  </td><td>                                                                  </td><td>42.44926                                                          </td><td>Приморский край                                                   </td><td>Anaphalis                                                         </td><td>                                                                  </td><td>                                                                  </td><td>оз. Лотос, разреженный дубняк                                     </td></tr>\n",
       "\t<tr><td>Willd.                                                            </td><td>2017-06-13                                                        </td><td>COMPOSITAE                                                        </td><td>VBGI                                                              </td><td>From plantlist                                                    </td><td>                                                                  </td><td>FALSE                                                             </td><td>parviflora                                                        </td><td>Russia                                                            </td><td>                                                                  </td><td>⋯                                                                 </td><td>NULL                                                              </td><td>                                                                  </td><td>                                                                  </td><td>                                                                  </td><td>42.55994                                                          </td><td>Приморский край                                                   </td><td>Bidens                                                            </td><td>                                                                  </td><td>                                                                  </td><td>дорога к пос. Хасан, скала у дороги                               </td></tr>\n",
       "\t<tr><td>Planch.                                                           </td><td>2017-06-13                                                        </td><td>LINACEAE                                                          </td><td>VBGI                                                              </td><td>From plantlist                                                    </td><td>                                                                  </td><td>FALSE                                                             </td><td>stelleroides                                                      </td><td>Russia                                                            </td><td>                                                                  </td><td>⋯                                                                 </td><td>NULL                                                              </td><td>                                                                  </td><td>                                                                  </td><td>                                                                  </td><td>42.55918                                                          </td><td>Приморский край                                                   </td><td>Linum                                                             </td><td>                                                                  </td><td>                                                                  </td><td>дорога к пос. Хасан, скала, обочина дороги                        </td></tr>\n",
       "\t<tr><td>Maxim.                                                            </td><td>2017-06-13                                                        </td><td>ORCHIDACEAE                                                       </td><td>VBGI                                                              </td><td>From plantlist                                                    </td><td>                                                                  </td><td> TRUE                                                             </td><td>hologlottis                                                       </td><td>Russia                                                            </td><td>                                                                  </td><td>⋯                                                                 </td><td>NULL                                                              </td><td>                                                                  </td><td>                                                                  </td><td>                                                                  </td><td>42.53378                                                          </td><td>Приморский край                                                   </td><td>Platanthera                                                       </td><td>                                                                  </td><td>                                                                  </td><td>небольшой перевал к оз. Птичье, сырой луг                         </td></tr>\n",
       "\t<tr><td>Maxim.                                                            </td><td>2017-06-13                                                        </td><td>ORCHIDACEAE                                                       </td><td>VBGI                                                              </td><td>From plantlist                                                    </td><td>                                                                  </td><td> TRUE                                                             </td><td>hologlottis                                                       </td><td>Russia                                                            </td><td>                                                                  </td><td>⋯                                                                 </td><td>NULL                                                              </td><td>                                                                  </td><td>                                                                  </td><td>                                                                  </td><td>42.53378                                                          </td><td>Приморский край                                                   </td><td>Platanthera                                                       </td><td>                                                                  </td><td>                                                                  </td><td>небольшой перевал к оз. Птичье, сырой луг                         </td></tr>\n",
       "\t<tr><td>⋮</td><td>⋮</td><td>⋮</td><td>⋮</td><td>⋮</td><td>⋮</td><td>⋮</td><td>⋮</td><td>⋮</td><td>⋮</td><td>⋱</td><td>⋮</td><td>⋮</td><td>⋮</td><td>⋮</td><td>⋮</td><td>⋮</td><td>⋮</td><td>⋮</td><td>⋮</td><td>⋮</td></tr>\n",
       "\t<tr><td>(Christ) Koidz.                                                                                                                                </td><td>2017-10-16                                                                                                                                     </td><td>ATHYRIACEAE                                                                                                                                    </td><td>VBGI                                                                                                                                           </td><td>Approved                                                                                                                                       </td><td>                                                                                                                                               </td><td> TRUE                                                                                                                                          </td><td>pycnosorum                                                                                                                                     </td><td>Russia                                                                                                                                         </td><td>                                                                                                                                               </td><td>⋯                                                                                                                                              </td><td>NULL                                                                                                                                           </td><td>                                                                                                                                               </td><td>                                                                                                                                               </td><td>                                                                                                                                               </td><td>43.38875                                                                                                                                       </td><td>Приморский край                                                                                                                                </td><td>Lunathyrium                                                                                                                                    </td><td>                                                                                                                                               </td><td>                                                                                                                                               </td><td>р. Амба, водораздел руч. Антоновского и Безымянного, смешанный влажный лес.                                                                    </td></tr>\n",
       "\t<tr><td>L.                                                                                                                                             </td><td>2017-10-17                                                                                                                                     </td><td>ONOCLEACEAE                                                                                                                                    </td><td>VBGI                                                                                                                                           </td><td>From plantlist                                                                                                                                 </td><td>                                                                                                                                               </td><td> TRUE                                                                                                                                          </td><td>sensibilis                                                                                                                                     </td><td>Russia                                                                                                                                         </td><td>                                                                                                                                               </td><td>⋯                                                                                                                                              </td><td>NULL                                                                                                                                           </td><td>                                                                                                                                               </td><td>                                                                                                                                               </td><td>                                                                                                                                               </td><td>43.36154                                                                                                                                       </td><td>Приморский край                                                                                                                                </td><td>Onoclea                                                                                                                                        </td><td>                                                                                                                                               </td><td>                                                                                                                                               </td><td>р. Грязная, юго-зап. склон к реке, у дороги.                                                                                                   </td></tr>\n",
       "\t<tr><td>L.                                                                                                                                             </td><td>2017-10-17                                                                                                                                     </td><td>ONOCLEACEAE                                                                                                                                    </td><td>VBGI                                                                                                                                           </td><td>From plantlist                                                                                                                                 </td><td>                                                                                                                                               </td><td> TRUE                                                                                                                                          </td><td>sensibilis                                                                                                                                     </td><td>Russia                                                                                                                                         </td><td>                                                                                                                                               </td><td>⋯                                                                                                                                              </td><td>NULL                                                                                                                                           </td><td>                                                                                                                                               </td><td>                                                                                                                                               </td><td>                                                                                                                                               </td><td>42.78200                                                                                                                                       </td><td>Приморский край                                                                                                                                </td><td>Onoclea                                                                                                                                        </td><td>                                                                                                                                               </td><td>                                                                                                                                               </td><td>с. Цуканово, долина реки у заставы.                                                                                                            </td></tr>\n",
       "\t<tr><td>Hayata                                                                                                                                         </td><td>2017-10-19                                                                                                                                     </td><td>ASPLENIACEAE                                                                                                                                   </td><td>VBGI                                                                                                                                           </td><td>From plantlist                                                                                                                                 </td><td>                                                                                                                                               </td><td> TRUE                                                                                                                                          </td><td>tenuicaule                                                                                                                                     </td><td>Russia                                                                                                                                         </td><td>                                                                                                                                               </td><td>⋯                                                                                                                                              </td><td>NULL                                                                                                                                           </td><td>                                                                                                                                               </td><td>                                                                                                                                               </td><td>                                                                                                                                               </td><td>43.39235                                                                                                                                       </td><td>Приморский край                                                                                                                                </td><td>Asplenium                                                                                                                                      </td><td>                                                                                                                                               </td><td>                                                                                                                                               </td><td>лощина у длинной скалы, на камне.                                                                                                              </td></tr>\n",
       "\t<tr><td>Hayata                                                                                                                                         </td><td>2017-10-19                                                                                                                                     </td><td>ASPLENIACEAE                                                                                                                                   </td><td>VBGI                                                                                                                                           </td><td>From plantlist                                                                                                                                 </td><td>                                                                                                                                               </td><td>FALSE                                                                                                                                          </td><td>tenuicaule                                                                                                                                     </td><td>Russia                                                                                                                                         </td><td>                                                                                                                                               </td><td>⋯                                                                                                                                              </td><td>NULL                                                                                                                                           </td><td>                                                                                                                                               </td><td>                                                                                                                                               </td><td>                                                                                                                                               </td><td>43.39235                                                                                                                                       </td><td>Приморский край                                                                                                                                </td><td>Asplenium                                                                                                                                      </td><td>                                                                                                                                               </td><td>                                                                                                                                               </td><td>Борисовское плато, верх. течение р. Нежинка, устье руч. Раздольненский, на скалах.                                                             </td></tr>\n",
       "\t<tr><td>Rupr.                                                                                                                                          </td><td>2017-10-19                                                                                                                                     </td><td>ASPLENIACEAE                                                                                                                                   </td><td>VBGI                                                                                                                                           </td><td>From plantlist                                                                                                                                 </td><td>                                                                                                                                               </td><td> TRUE                                                                                                                                          </td><td>sibiricus                                                                                                                                      </td><td>Russia                                                                                                                                         </td><td>                                                                                                                                               </td><td>⋯                                                                                                                                              </td><td>NULL                                                                                                                                           </td><td>                                                                                                                                               </td><td>                                                                                                                                               </td><td>                                                                                                                                               </td><td>43.32975                                                                                                                                       </td><td>Приморский край                                                                                                                                </td><td>Camptosorus                                                                                                                                    </td><td>                                                                                                                                               </td><td>                                                                                                                                               </td><td>р. Амба, скала.                                                                                                                                </td></tr>\n",
       "\t<tr><td>(Turcz. ex Kunze) Sa. Kurata                                                                                                                   </td><td>2017-10-19                                                                                                                                     </td><td>ATHYRIACEAE                                                                                                                                    </td><td>VBGI                                                                                                                                           </td><td>From plantlist                                                                                                                                 </td><td>                                                                                                                                               </td><td> TRUE                                                                                                                                          </td><td>sibiricum                                                                                                                                      </td><td>Russia                                                                                                                                         </td><td>                                                                                                                                               </td><td>⋯                                                                                                                                              </td><td>NULL                                                                                                                                           </td><td>                                                                                                                                               </td><td>                                                                                                                                               </td><td>                                                                                                                                               </td><td>43.35326                                                                                                                                       </td><td>Приморский край                                                                                                                                </td><td>Diplazium                                                                                                                                      </td><td>                                                                                                                                               </td><td>                                                                                                                                               </td><td>водораздел р. Грязная и р. КедровкаЖ, смешанный лес.                                                                                           </td></tr>\n",
       "\t<tr><td>(L.) Tod.                                                                                                                                      </td><td>2017-10-19                                                                                                                                     </td><td>ONOCLEACEAE                                                                                                                                    </td><td>VBGI                                                                                                                                           </td><td>From plantlist                                                                                                                                 </td><td>                                                                                                                                               </td><td> TRUE                                                                                                                                          </td><td>struthiopteris                                                                                                                                 </td><td>Russia                                                                                                                                         </td><td>                                                                                                                                               </td><td>⋯                                                                                                                                              </td><td>NULL                                                                                                                                           </td><td>                                                                                                                                               </td><td>                                                                                                                                               </td><td>                                                                                                                                               </td><td>42.78200                                                                                                                                       </td><td>Приморский край                                                                                                                                </td><td>Matteuccia                                                                                                                                     </td><td>                                                                                                                                               </td><td>                                                                                                                                               </td><td>с. Цуканово, долина р. у заставы.                                                                                                              </td></tr>\n",
       "\t<tr><td>(Baker) Kurata                                                                                                                                 </td><td>2017-10-20                                                                                                                                     </td><td>ATHYRIACEAE                                                                                                                                    </td><td>VBGI                                                                                                                                           </td><td>Approved                                                                                                                                       </td><td>                                                                                                                                               </td><td> TRUE                                                                                                                                          </td><td>henryi                                                                                                                                         </td><td>Russia                                                                                                                                         </td><td>                                                                                                                                               </td><td>⋯                                                                                                                                              </td><td>NULL                                                                                                                                           </td><td>                                                                                                                                               </td><td>                                                                                                                                               </td><td>                                                                                                                                               </td><td>43.38443                                                                                                                                       </td><td>Приморский край                                                                                                                                </td><td>Lunathyrium                                                                                                                                    </td><td>                                                                                                                                               </td><td>                                                                                                                                               </td><td>р. Амба, водораздел руч. Антоновского и руч. Безымянный, нижн. часть пологого склона, широколиственный лес.                                    </td></tr>\n",
       "\t<tr><td>(Baker) Kurata                                                                                                                                 </td><td>2017-10-20                                                                                                                                     </td><td>ATHYRIACEAE                                                                                                                                    </td><td>VBGI                                                                                                                                           </td><td>Approved                                                                                                                                       </td><td>                                                                                                                                               </td><td> TRUE                                                                                                                                          </td><td>henryi                                                                                                                                         </td><td>Russia                                                                                                                                         </td><td>                                                                                                                                               </td><td>⋯                                                                                                                                              </td><td>NULL                                                                                                                                           </td><td>                                                                                                                                               </td><td>                                                                                                                                               </td><td>                                                                                                                                               </td><td>43.38443                                                                                                                                       </td><td>Приморский край                                                                                                                                </td><td>Lunathyrium                                                                                                                                    </td><td>                                                                                                                                               </td><td>                                                                                                                                               </td><td>р. Амба, водораздел руч. Антоновского и руч. Безымянный, нижн. часть пологого склона, широколиственный лес.                                    </td></tr>\n",
       "\t<tr><td>(Hook.) Ching                                                                                                                                  </td><td>2017-10-20                                                                                                                                     </td><td>WOODSIACEAE                                                                                                                                    </td><td>VBGI                                                                                                                                           </td><td>Approved                                                                                                                                       </td><td>                                                                                                                                               </td><td> TRUE                                                                                                                                          </td><td>manchuriensis                                                                                                                                  </td><td>Russia                                                                                                                                         </td><td>                                                                                                                                               </td><td>⋯                                                                                                                                              </td><td>NULL                                                                                                                                           </td><td>                                                                                                                                               </td><td>                                                                                                                                               </td><td>                                                                                                                                               </td><td>43.32975                                                                                                                                       </td><td>Приморский край                                                                                                                                </td><td>Protowoodsia                                                                                                                                   </td><td>                                                                                                                                               </td><td>                                                                                                                                               </td><td>р. Амба, скала.                                                                                                                                </td></tr>\n",
       "\t<tr><td>(Kunze) Koidz.                                                                                                                                 </td><td>2017-10-26                                                                                                                                     </td><td>DRYOPTERIDACEAE                                                                                                                                </td><td>VBGI                                                                                                                                           </td><td>From plantlist                                                                                                                                 </td><td>                                                                                                                                               </td><td> TRUE                                                                                                                                          </td><td>goeringiana                                                                                                                                    </td><td>Russia                                                                                                                                         </td><td>                                                                                                                                               </td><td>⋯                                                                                                                                              </td><td>NULL                                                                                                                                           </td><td>                                                                                                                                               </td><td>                                                                                                                                               </td><td>                                                                                                                                               </td><td>43.29804                                                                                                                                       </td><td>Приморский край                                                                                                                                </td><td>Dryopteris                                                                                                                                     </td><td>                                                                                                                                               </td><td>                                                                                                                                               </td><td>р. Амба, влдораздел руч. Пятый и руч. Четвертый, верхняя часть, смешанно-широколиственный лес.                                                 </td></tr>\n",
       "\t<tr><td>L.                                                                                                                                             </td><td>2017-10-31                                                                                                                                     </td><td>PTERIDACEAE                                                                                                                                    </td><td>VBGI                                                                                                                                           </td><td>From plantlist                                                                                                                                 </td><td>                                                                                                                                               </td><td> TRUE                                                                                                                                          </td><td>pedatum                                                                                                                                        </td><td>Russia                                                                                                                                         </td><td>                                                                                                                                               </td><td>⋯                                                                                                                                              </td><td>NULL                                                                                                                                           </td><td>                                                                                                                                               </td><td>                                                                                                                                               </td><td>                                                                                                                                               </td><td>43.31606                                                                                                                                       </td><td>Приморский край                                                                                                                                </td><td>Adiantum                                                                                                                                       </td><td>                                                                                                                                               </td><td>                                                                                                                                               </td><td>р. Амба, водораздел руч. Пятый и руч. Кривой, смешанный лес.                                                                                   </td></tr>\n",
       "\t<tr><td>L.                                                                                                                                             </td><td>2017-10-31                                                                                                                                     </td><td>PTERIDACEAE                                                                                                                                    </td><td>VBGI                                                                                                                                           </td><td>From plantlist                                                                                                                                 </td><td>                                                                                                                                               </td><td> TRUE                                                                                                                                          </td><td>pedatum                                                                                                                                        </td><td>Russia                                                                                                                                         </td><td>                                                                                                                                               </td><td>⋯                                                                                                                                              </td><td>NULL                                                                                                                                           </td><td>                                                                                                                                               </td><td>                                                                                                                                               </td><td>                                                                                                                                               </td><td>43.31606                                                                                                                                       </td><td>Приморский край                                                                                                                                </td><td>Adiantum                                                                                                                                       </td><td>                                                                                                                                               </td><td>                                                                                                                                               </td><td>р. Амба, водораздел руч. Пятый и руч. Кривой, смешанный лес.                                                                                   </td></tr>\n",
       "\t<tr><td>L.                                                                                                                                             </td><td>2017-10-31                                                                                                                                     </td><td>PTERIDACEAE                                                                                                                                    </td><td>VBGI                                                                                                                                           </td><td>From plantlist                                                                                                                                 </td><td>                                                                                                                                               </td><td>FALSE                                                                                                                                          </td><td>pedatum                                                                                                                                        </td><td>Russia                                                                                                                                         </td><td>                                                                                                                                               </td><td>⋯                                                                                                                                              </td><td>NULL                                                                                                                                           </td><td>                                                                                                                                               </td><td>                                                                                                                                               </td><td>                                                                                                                                               </td><td>43.48235                                                                                                                                       </td><td>Приморский край                                                                                                                                </td><td>Adiantum                                                                                                                                       </td><td>                                                                                                                                               </td><td>                                                                                                                                               </td><td>Борисовское плато, верх. течение р. Нежинка, выше устья руч. Раздолненский, долинный лес.                                                      </td></tr>\n",
       "\t<tr><td>L.                                                                                                                                             </td><td>2017-10-31                                                                                                                                     </td><td>PTERIDACEAE                                                                                                                                    </td><td>VBGI                                                                                                                                           </td><td>From plantlist                                                                                                                                 </td><td>                                                                                                                                               </td><td>FALSE                                                                                                                                          </td><td>pedatum                                                                                                                                        </td><td>Russia                                                                                                                                         </td><td>                                                                                                                                               </td><td>⋯                                                                                                                                              </td><td>NULL                                                                                                                                           </td><td>                                                                                                                                               </td><td>                                                                                                                                               </td><td>                                                                                                                                               </td><td>43.48235                                                                                                                                       </td><td>Приморский край                                                                                                                                </td><td>Adiantum                                                                                                                                       </td><td>                                                                                                                                               </td><td>                                                                                                                                               </td><td>Борисовское плато, верх. течение р. Нежинка, выше устья руч. Раздолненский, долинный лес.                                                      </td></tr>\n",
       "\t<tr><td>(Makino) Nakai                                                                                                                                 </td><td>2017-11-01                                                                                                                                     </td><td>ATHYRIACEAE                                                                                                                                    </td><td>VBGI                                                                                                                                           </td><td>From plantlist                                                                                                                                 </td><td>                                                                                                                                               </td><td> TRUE                                                                                                                                          </td><td>crenulatoserrulata                                                                                                                             </td><td>Russia                                                                                                                                         </td><td>                                                                                                                                               </td><td>⋯                                                                                                                                              </td><td>NULL                                                                                                                                           </td><td>                                                                                                                                               </td><td>                                                                                                                                               </td><td>                                                                                                                                               </td><td>43.29804                                                                                                                                       </td><td>Приморский край                                                                                                                                </td><td>Cornopteris                                                                                                                                    </td><td>                                                                                                                                               </td><td>                                                                                                                                               </td><td>р. Амба,  верхняя часть водораздела руч. Пятый и руч. Четвертый, смешанно-широколиственный лес.                                                </td></tr>\n",
       "\t<tr><td>(Maxim.) Ching                                                                                                                                 </td><td>2017-11-01                                                                                                                                     </td><td>ATHYRIACEAE                                                                                                                                    </td><td>VBGI                                                                                                                                           </td><td>From plantlist                                                                                                                                 </td><td>                                                                                                                                               </td><td> TRUE                                                                                                                                          </td><td>spinulosa                                                                                                                                      </td><td>Russia                                                                                                                                         </td><td>                                                                                                                                               </td><td>⋯                                                                                                                                              </td><td>NULL                                                                                                                                           </td><td>                                                                                                                                               </td><td>                                                                                                                                               </td><td>                                                                                                                                               </td><td>43.31606                                                                                                                                       </td><td>Приморский край                                                                                                                                </td><td>Pseudocystopteris                                                                                                                              </td><td>                                                                                                                                               </td><td>                                                                                                                                               </td><td>р. Амба, водораздел руч. Пятый и руч. Кривой, смешанный лес.                                                                                   </td></tr>\n",
       "\t<tr><td>(Maxim.) Ching                                                                                                                                 </td><td>2017-11-01                                                                                                                                     </td><td>ATHYRIACEAE                                                                                                                                    </td><td>VBGI                                                                                                                                           </td><td>From plantlist                                                                                                                                 </td><td>                                                                                                                                               </td><td> TRUE                                                                                                                                          </td><td>spinulosa                                                                                                                                      </td><td>Russia                                                                                                                                         </td><td>                                                                                                                                               </td><td>⋯                                                                                                                                              </td><td>NULL                                                                                                                                           </td><td>                                                                                                                                               </td><td>                                                                                                                                               </td><td>                                                                                                                                               </td><td>43.31606                                                                                                                                       </td><td>Приморский край                                                                                                                                </td><td>Pseudocystopteris                                                                                                                              </td><td>                                                                                                                                               </td><td>                                                                                                                                               </td><td>р. Амба, водораздел руч. Пятый и руч. Кривой, смешанный лес.                                                                                   </td></tr>\n",
       "\t<tr><td>(Maxim.) Ching                                                                                                                                 </td><td>2017-11-01                                                                                                                                     </td><td>ATHYRIACEAE                                                                                                                                    </td><td>VBGI                                                                                                                                           </td><td>From plantlist                                                                                                                                 </td><td>                                                                                                                                               </td><td> TRUE                                                                                                                                          </td><td>spinulosa                                                                                                                                      </td><td>Russia                                                                                                                                         </td><td>                                                                                                                                               </td><td>⋯                                                                                                                                              </td><td>NULL                                                                                                                                           </td><td>                                                                                                                                               </td><td>                                                                                                                                               </td><td>                                                                                                                                               </td><td>43.31606                                                                                                                                       </td><td>Приморский край                                                                                                                                </td><td>Pseudocystopteris                                                                                                                              </td><td>                                                                                                                                               </td><td>                                                                                                                                               </td><td>р. Амба, водораздел руч. Пятый и руч. Кривой, смешанный лес.                                                                                   </td></tr>\n",
       "\t<tr><td>(Turcz. ex Kunze) Sa. Kurata                                                                                                                   </td><td>2017-11-09                                                                                                                                     </td><td>ATHYRIACEAE                                                                                                                                    </td><td>VBGI                                                                                                                                           </td><td>From plantlist                                                                                                                                 </td><td>                                                                                                                                               </td><td>FALSE                                                                                                                                          </td><td>sibiricum                                                                                                                                      </td><td>Russia                                                                                                                                         </td><td>                                                                                                                                               </td><td>⋯                                                                                                                                              </td><td>NULL                                                                                                                                           </td><td>                                                                                                                                               </td><td>                                                                                                                                               </td><td>                                                                                                                                               </td><td>43.49601                                                                                                                                       </td><td>Приморский край                                                                                                                                </td><td>Diplazium                                                                                                                                      </td><td>                                                                                                                                               </td><td>                                                                                                                                               </td><td>Борисовское плато, верх. течение р. Нежинка, водораздел руч. Раздольненский и р. Вторая Речка, склон, смешанный лес.                           </td></tr>\n",
       "\t<tr><td>(Turcz. ex Kunze) Sa. Kurata                                                                                                                   </td><td>2017-11-09                                                                                                                                     </td><td>ATHYRIACEAE                                                                                                                                    </td><td>VBGI                                                                                                                                           </td><td>From plantlist                                                                                                                                 </td><td>                                                                                                                                               </td><td> TRUE                                                                                                                                          </td><td>sibiricum                                                                                                                                      </td><td>Russia                                                                                                                                         </td><td>                                                                                                                                               </td><td>⋯                                                                                                                                              </td><td>NULL                                                                                                                                           </td><td>                                                                                                                                               </td><td>                                                                                                                                               </td><td>                                                                                                                                               </td><td>43.28614                                                                                                                                       </td><td>Приморский край                                                                                                                                </td><td>Diplazium                                                                                                                                      </td><td>                                                                                                                                               </td><td>                                                                                                                                               </td><td>р. Амба, правый берег, водораздел руч. Пятый и руч. Четвертый, крутой каменистый склон под скалами сев. эксп.                                  </td></tr>\n",
       "\t<tr><td>(Turcz. ex Kunze) Sa. Kurata                                                                                                                   </td><td>2017-11-09                                                                                                                                     </td><td>ATHYRIACEAE                                                                                                                                    </td><td>VBGI                                                                                                                                           </td><td>From plantlist                                                                                                                                 </td><td>                                                                                                                                               </td><td> TRUE                                                                                                                                          </td><td>sibiricum                                                                                                                                      </td><td>Russia                                                                                                                                         </td><td>                                                                                                                                               </td><td>⋯                                                                                                                                              </td><td>NULL                                                                                                                                           </td><td>                                                                                                                                               </td><td>                                                                                                                                               </td><td>                                                                                                                                               </td><td>43.28614                                                                                                                                       </td><td>Приморский край                                                                                                                                </td><td>Diplazium                                                                                                                                      </td><td>                                                                                                                                               </td><td>                                                                                                                                               </td><td>р. Амба, правый берег, водораздел руч. Пятый и руч. Четвертый, крутой каменистый склон под скалами сев. эксп.                                  </td></tr>\n",
       "\t<tr><td>(Turcz. ex Kunze) Sa. Kurata                                                                                                                   </td><td>2017-11-09                                                                                                                                     </td><td>ATHYRIACEAE                                                                                                                                    </td><td>VBGI                                                                                                                                           </td><td>From plantlist                                                                                                                                 </td><td>                                                                                                                                               </td><td> TRUE                                                                                                                                          </td><td>sibiricum                                                                                                                                      </td><td>Russia                                                                                                                                         </td><td>                                                                                                                                               </td><td>⋯                                                                                                                                              </td><td>NULL                                                                                                                                           </td><td>                                                                                                                                               </td><td>                                                                                                                                               </td><td>                                                                                                                                               </td><td>43.28614                                                                                                                                       </td><td>Приморский край                                                                                                                                </td><td>Diplazium                                                                                                                                      </td><td>                                                                                                                                               </td><td>                                                                                                                                               </td><td>р. Амба, правый берег, водораздел руч. Пятый и руч. Четвертый, крутой каменистый склон под скалами сев. эксп.                                  </td></tr>\n",
       "\t<tr><td>(Rupr.) Underw.                                                                                                                                </td><td>2017-11-09                                                                                                                                     </td><td>OPHIOGLOSSACEAE                                                                                                                                </td><td>VBGI                                                                                                                                           </td><td>From plantlist                                                                                                                                 </td><td>                                                                                                                                               </td><td>FALSE                                                                                                                                          </td><td>robustum                                                                                                                                       </td><td>Russia                                                                                                                                         </td><td>                                                                                                                                               </td><td>⋯                                                                                                                                              </td><td>NULL                                                                                                                                           </td><td>                                                                                                                                               </td><td>                                                                                                                                               </td><td>                                                                                                                                               </td><td>43.23689                                                                                                                                       </td><td>Приморский край                                                                                                                                </td><td>Botrychium                                                                                                                                     </td><td>                                                                                                                                               </td><td>                                                                                                                                               </td><td>5 км от с. Овчинниково на запад, ср. течение р. Барабашевка, левый приток, лиственный лес.                                                     </td></tr>\n",
       "\t<tr><td>(L.) Sw.                                                                                                                                       </td><td>2017-11-09                                                                                                                                     </td><td>OPHIOGLOSSACEAE                                                                                                                                </td><td>VBGI                                                                                                                                           </td><td>From plantlist                                                                                                                                 </td><td>                                                                                                                                               </td><td>FALSE                                                                                                                                          </td><td>lunaria                                                                                                                                        </td><td>Russia                                                                                                                                         </td><td>                                                                                                                                               </td><td>⋯                                                                                                                                              </td><td>NULL                                                                                                                                           </td><td>                                                                                                                                               </td><td>                                                                                                                                               </td><td>                                                                                                                                               </td><td>43.41527                                                                                                                                       </td><td>Приморский край                                                                                                                                </td><td>Botrychium                                                                                                                                     </td><td>                                                                                                                                               </td><td>                                                                                                                                               </td><td>Борисовское плато, верх. течение р. Нежинка, водораздел р. Нежинка и руч. Форелевый, крутой сухой склон, смешанный хвойно-широколиственный лес.</td></tr>\n",
       "\t<tr><td>(Fern.)  Tagawa                                                                                                                                </td><td>2017-11-10                                                                                                                                     </td><td>OSMUNDACEAE                                                                                                                                    </td><td>VBGI                                                                                                                                           </td><td>Approved                                                                                                                                       </td><td>                                                                                                                                               </td><td>FALSE                                                                                                                                          </td><td>asiaticum                                                                                                                                      </td><td>Russia                                                                                                                                         </td><td>                                                                                                                                               </td><td>⋯                                                                                                                                              </td><td>NULL                                                                                                                                           </td><td>                                                                                                                                               </td><td>                                                                                                                                               </td><td>                                                                                                                                               </td><td>43.49053                                                                                                                                       </td><td>Приморский край                                                                                                                                </td><td>Osmundastrum                                                                                                                                   </td><td>                                                                                                                                               </td><td>                                                                                                                                               </td><td>Борисовское плато, верх. течение р. Нежинка, водораздел руч. Раздольненский и р. Вторая Речка, влажные места, смешанный лес.                   </td></tr>\n",
       "\t<tr><td>(Fern.)  Tagawa                                                                                                                                </td><td>2017-11-10                                                                                                                                     </td><td>OSMUNDACEAE                                                                                                                                    </td><td>VBGI                                                                                                                                           </td><td>Approved                                                                                                                                       </td><td>                                                                                                                                               </td><td>FALSE                                                                                                                                          </td><td>asiaticum                                                                                                                                      </td><td>Russia                                                                                                                                         </td><td>                                                                                                                                               </td><td>⋯                                                                                                                                              </td><td>NULL                                                                                                                                           </td><td>                                                                                                                                               </td><td>                                                                                                                                               </td><td>                                                                                                                                               </td><td>43.49053                                                                                                                                       </td><td>Приморский край                                                                                                                                </td><td>Osmundastrum                                                                                                                                   </td><td>                                                                                                                                               </td><td>                                                                                                                                               </td><td>Борисовское плато, верх. течение р. Нежинка, водораздел руч. Раздольненский и р. Вторая Речка, влажные места, смешанный лес.                   </td></tr>\n",
       "\t<tr><td>(Fern.)  Tagawa                                                                                                                                </td><td>2017-11-10                                                                                                                                     </td><td>OSMUNDACEAE                                                                                                                                    </td><td>VBGI                                                                                                                                           </td><td>Approved                                                                                                                                       </td><td>                                                                                                                                               </td><td>FALSE                                                                                                                                          </td><td>asiaticum                                                                                                                                      </td><td>Russia                                                                                                                                         </td><td>                                                                                                                                               </td><td>⋯                                                                                                                                              </td><td>NULL                                                                                                                                           </td><td>                                                                                                                                               </td><td>                                                                                                                                               </td><td>                                                                                                                                               </td><td>50.33339                                                                                                                                       </td><td>Приморский край                                                                                                                                </td><td>Osmundastrum                                                                                                                                   </td><td>                                                                                                                                               </td><td>                                                                                                                                               </td><td>5 км от с. Овчинниково на запад, среднее течение р. Барабашевка, надпойменная терраса, лиственный лес.                                         </td></tr>\n",
       "\t<tr><td>(Christ) Ching                                                                                                                                 </td><td>2017-11-10                                                                                                                                     </td><td>POLYPODIACEAE                                                                                                                                  </td><td>VBGI                                                                                                                                           </td><td>From plantlist                                                                                                                                 </td><td>                                                                                                                                               </td><td>FALSE                                                                                                                                          </td><td>petiolosa                                                                                                                                      </td><td>Russia                                                                                                                                         </td><td>                                                                                                                                               </td><td>⋯                                                                                                                                              </td><td>NULL                                                                                                                                           </td><td>                                                                                                                                               </td><td>                                                                                                                                               </td><td>                                                                                                                                               </td><td>43.48107                                                                                                                                       </td><td>Приморский край                                                                                                                                </td><td>Pyrrosia                                                                                                                                       </td><td>                                                                                                                                               </td><td>                                                                                                                                               </td><td>Борисовское плато, верх. течение р. Нежинка, водораздел руч.... и руч. Форельный, на скалах.                                                   </td></tr>\n",
       "</tbody>\n",
       "</table>\n"
      ],
      "text/latex": [
       "\\begin{tabular}{r|lllllllllllllllllllllllllllllllllllllllll}\n",
       " species\\_authorship & updated & family & acronym & species\\_status & significance & gpsbased & species\\_epithet & country & identification\\_finished & ⋯ & additionals & collection\\_finished & branch & short\\_note & latitude & region & genus & fieldid & infraspecific\\_epithet & details\\\\\n",
       "\\hline\n",
       "\t (Spenn.) Fée                                                       & 2017-06-13                                                         & DRYOPTERIDACEAE                                                    & VBGI                                                               & From plantlist                                                     &                                                                    & FALSE                                                              & braunii                                                            & Russia                                                             &                                                                    & ⋯                                                                  & NULL                                                               &                                                                    &                                                                    &                                                                    & 43.06703                                                           & Приморский край                                                    & Polystichum                                                        &                                                                    &                                                                    & г. Ливадийская (Фалаза), кедрово-широколиственный лес             \\\\\n",
       "\t Hara                                                               & 2017-06-13                                                         & CRASSULACEAE                                                       & VBGI                                                               & From plantlist                                                     &                                                                    &  TRUE                                                              & iwarenge                                                           & Russia                                                             &                                                                    & ⋯                                                                  & NULL                                                               &                                                                    &                                                                    &                                                                    & 42.89162                                                           & Приморский край                                                    & Orostachys                                                         &                                                                    &                                                                    & Залив Восток, база \"Восток\", мыс Пашинникова, скалы на берегу моря\\\\\n",
       "\t Chaix                                                              & 2017-06-13                                                         & JUNCACEAE                                                          & VBGI                                                               & From plantlist                                                     &                                                                    & FALSE                                                              & alpinoarticulatus                                                  & Russia                                                             & 2015-04-01                                                         & ⋯                                                                  & NULL                                                               &                                                                    &                                                                    &                                                                    & 45.82908                                                           & Приморский край                                                    & Juncus                                                             &                                                                    &                                                                    & с. Амгу, близ устья р. Амгу                                       \\\\\n",
       "\t Willd. ex Schult. \\& Schult.f.                                    & 2017-06-13                                                         & AMARYLLIDACEAE                                                     & VBGI                                                               & From plantlist                                                     &                                                                    &  TRUE                                                              & splendens                                                          & Russia                                                             & 2015-04-01                                                         & ⋯                                                                  & NULL                                                               &                                                                    &                                                                    &                                                                    & 45.89254                                                           & Приморский край                                                    & Allium                                                             &                                                                    &                                                                    & г. Туман, щебнистая осыпь в подгольцовом поясе                    \\\\\n",
       "\t (Regel) Sojak                                                      & 2017-06-13                                                         & POLYGONACEAE                                                       & VBGI                                                               & From plantlist                                                     &                                                                    &  TRUE                                                              & maackianum                                                         & Russia                                                             &                                                                    & ⋯                                                                  & NULL                                                               &                                                                    &                                                                    &                                                                    & 42.45782                                                           & Приморский край                                                    & Truellum                                                           &                                                                    &                                                                    & оз. Лотос, на сплавине                                            \\\\\n",
       "\t (Regel) Sojak                                                      & 2017-06-13                                                         & POLYGONACEAE                                                       & VBGI                                                               & From plantlist                                                     &                                                                    &  TRUE                                                              & maackianum                                                         & Russia                                                             &                                                                    & ⋯                                                                  & NULL                                                               &                                                                    &                                                                    &                                                                    & 42.45782                                                           & Приморский край                                                    & Truellum                                                           &                                                                    &                                                                    & оз. Лотос, на сплавине                                            \\\\\n",
       "\t (Regel) Sojak                                                      & 2017-06-13                                                         & POLYGONACEAE                                                       & VBGI                                                               & From plantlist                                                     &                                                                    &  TRUE                                                              & maackianum                                                         & Russia                                                             &                                                                    & ⋯                                                                  & NULL                                                               &                                                                    &                                                                    &                                                                    & 42.45782                                                           & Приморский край                                                    & Truellum                                                           &                                                                    &                                                                    & оз. Лотос, на сплавине                                            \\\\\n",
       "\t (Maxim.) Maxim. ex Franch. \\& Sav.                                & 2017-07-13                                                         & CUCURBITACEAE                                                      & VBGI                                                               & From plantlist                                                     &                                                                    &  TRUE                                                              & lobatum                                                            & Russia                                                             &                                                                    & ⋯                                                                  & NULL                                                               &                                                                    &                                                                    &                                                                    & 42.45782                                                           & Приморский край                                                    & Actinostemma                                                       &                                                                    &                                                                    & оз. Лотос, на сплавине                                            \\\\\n",
       "\t (Buch.-Ham. ex Roxb.) Maxim.                                       & 2017-06-13                                                         & LAMIACEAE                                                          & VBGI                                                               & From plantlist                                                     &                                                                    &  TRUE                                                              & dianthera                                                          & Russia                                                             &                                                                    & ⋯                                                                  & NULL                                                               &                                                                    &                                                                    &                                                                    & 42.45782                                                           & Приморский край                                                    & Mosla                                                              &                                                                    &                                                                    & оз. Лотос, на сплавине                                            \\\\\n",
       "\t (Buch.-Ham. ex Roxb.) Maxim.                                       & 2017-06-13                                                         & LAMIACEAE                                                          & VBGI                                                               & From plantlist                                                     &                                                                    &  TRUE                                                              & dianthera                                                          & Russia                                                             &                                                                    & ⋯                                                                  & NULL                                                               &                                                                    &                                                                    &                                                                    & 42.45782                                                           & Приморский край                                                    & Mosla                                                              &                                                                    &                                                                    & оз. Лотос, на сплавине                                            \\\\\n",
       "\t Makino                                                             & 2017-06-13                                                         & LAMIACEAE                                                          & VBGI                                                               & From plantlist                                                     &                                                                    &  TRUE                                                              & jatabeana                                                          & Russia                                                             &                                                                    & ⋯                                                                  & NULL                                                               &                                                                    &                                                                    &                                                                    & 42.45782                                                           & Приморский край                                                    & Dysophylla                                                         &                                                                    &                                                                    & оз. Лотос, на сплавине                                            \\\\\n",
       "\t (R. Keller) Y. Kimura                                              & 2017-06-13                                                         & HYPERICACEAE                                                       & VBGI                                                               & From plantlist                                                     &                                                                    &  TRUE                                                              & japonicum                                                          & Russia                                                             &                                                                    & ⋯                                                                  & NULL                                                               &                                                                    &                                                                    &                                                                    & 42.45782                                                           & Приморский край                                                    & Triadenum                                                          &                                                                    &                                                                    & оз. Лотос, на сплавине                                            \\\\\n",
       "\t (R. Keller) Y. Kimura                                              & 2017-06-13                                                         & HYPERICACEAE                                                       & VBGI                                                               & From plantlist                                                     &                                                                    &  TRUE                                                              & japonicum                                                          & Russia                                                             &                                                                    & ⋯                                                                  & NULL                                                               &                                                                    &                                                                    &                                                                    & 42.45782                                                           & Приморский край                                                    & Triadenum                                                          &                                                                    &                                                                    & оз. Лотос, на сплавине                                            \\\\\n",
       "\t Benth.                                                             & 2017-06-13                                                         & OROBANCHACEAE                                                      & VBGI                                                               & From plantlist                                                     &                                                                    & FALSE                                                              & chinensis                                                          & Russia                                                             &                                                                    & ⋯                                                                  & NULL                                                               &                                                                    &                                                                    &                                                                    & 42.56007                                                           & Приморский край                                                    & Siphonostegia                                                      &                                                                    &                                                                    & дорога к пос. Хасан, перевал                                      \\\\\n",
       "\t Benth.                                                             & 2017-06-13                                                         & OROBANCHACEAE                                                      & VBGI                                                               & From plantlist                                                     &                                                                    & FALSE                                                              & chinensis                                                          & Russia                                                             &                                                                    & ⋯                                                                  & NULL                                                               &                                                                    &                                                                    &                                                                    & 42.55994                                                           & Приморский край                                                    & Siphonostegia                                                      &                                                                    &                                                                    & дорога к пос. Хасан, перевал                                      \\\\\n",
       "\t Miq.                                                               & 2017-06-13                                                         & SALICACEAE                                                         & VBGI                                                               & From plantlist                                                     &                                                                    & FALSE                                                              & pierotii                                                           & Russia                                                             &                                                                    & ⋯                                                                  & NULL                                                               &                                                                    &                                                                    &                                                                    & 42.55981                                                           & Приморский край                                                    & Salix                                                              &                                                                    &                                                                    & дорога на пос. Хасан, скала у дороги                              \\\\\n",
       "\t L.                                                                 & 2017-06-13                                                         & SALICACEAE                                                         & VBGI                                                               & From plantlist                                                     &                                                                    & FALSE                                                              & caprea                                                             & Russia                                                             &                                                                    & ⋯                                                                  & NULL                                                               &                                                                    &                                                                    &                                                                    & 42.56045                                                           & Приморский край                                                    & Salix                                                              &                                                                    &                                                                    & дорога н апос. Хасан, скала у дороги                              \\\\\n",
       "\t (Thunb.) Schindl.                                                  & 2017-06-13                                                         & LEGUMINOSAE                                                        & VBGI                                                               & From plantlist                                                     &                                                                    & FALSE                                                              & striata                                                            & Russia                                                             &                                                                    & ⋯                                                                  & NULL                                                               &                                                                    &                                                                    &                                                                    & 42.55943                                                           & Приморский край                                                    & Kummerowia                                                         &                                                                    &                                                                    & дорога на пос. Хасан, скала у дороги                              \\\\\n",
       "\t Miq.                                                               & 2017-06-13                                                         & LEGUMINOSAE                                                        & VBGI                                                               & From plantlist                                                     &                                                                    & FALSE                                                              & cyrtobotrya                                                        & Russia                                                             &                                                                    & ⋯                                                                  & NULL                                                               &                                                                    &                                                                    &                                                                    & 42.47370                                                           & Приморский край                                                    & Lespedeza                                                          &                                                                    &                                                                    & перевал от оз. Лотос                                              \\\\\n",
       "\t Miq.                                                               & 2017-06-13                                                         & LEGUMINOSAE                                                        & VBGI                                                               & From plantlist                                                     &                                                                    & FALSE                                                              & cyrtobotrya                                                        & Russia                                                             &                                                                    & ⋯                                                                  & NULL                                                               &                                                                    &                                                                    &                                                                    & 42.47415                                                           & Приморский край                                                    & Lespedeza                                                          &                                                                    &                                                                    & перевал от оз. Лотос                                              \\\\\n",
       "\t (Pall.) DC.                                                        & 2017-06-13                                                         & LEGUMINOSAE                                                        & VBGI                                                               & From plantlist                                                     &                                                                    & FALSE                                                              & dahuricus                                                          & Russia                                                             &                                                                    & ⋯                                                                  & NULL                                                               &                                                                    &                                                                    &                                                                    & 42.87962                                                           & Приморский край                                                    & Astragalus                                                         &                                                                    &                                                                    & трасса после поворота на Славянку, обочина                        \\\\\n",
       "\t Thunb.                                                             & 2017-06-13                                                         & FAGACEAE                                                           & VBGI                                                               & From plantlist                                                     &                                                                    &  TRUE                                                              & dentata                                                            & Russia                                                             &                                                                    & ⋯                                                                  & NULL                                                               &                                                                    &                                                                    &                                                                    & 42.45782                                                           & Приморский край                                                    & Quercus                                                            &                                                                    &                                                                    & оз. Лотос, берег                                                  \\\\\n",
       "\t Thunb.                                                             & 2017-06-13                                                         & FAGACEAE                                                           & VBGI                                                               & From plantlist                                                     &                                                                    &  TRUE                                                              & dentata                                                            & Russia                                                             &                                                                    & ⋯                                                                  & NULL                                                               &                                                                    &                                                                    &                                                                    & 42.45782                                                           & Приморский край                                                    & Quercus                                                            &                                                                    &                                                                    & оз. Лотос, берег                                                  \\\\\n",
       "\t (Siebold et Zucc.) Sojak                                           & 2017-06-13                                                         & POLYGONACEAE                                                       & VBGI                                                               & From plantlist                                                     &                                                                    &  TRUE                                                              & thunbergii                                                         & Russia                                                             &                                                                    & ⋯                                                                  & NULL                                                               &                                                                    &                                                                    &                                                                    & 42.45782                                                           & Приморский край                                                    & Truellum                                                           &                                                                    &                                                                    & оз. Лотос, на сплавине                                            \\\\\n",
       "\t (Siebold et Zucc.) Sojak                                           & 2017-06-13                                                         & POLYGONACEAE                                                       & VBGI                                                               & From plantlist                                                     &                                                                    &  TRUE                                                              & thunbergii                                                         & Russia                                                             &                                                                    & ⋯                                                                  & NULL                                                               &                                                                    &                                                                    &                                                                    & 42.45782                                                           & Приморский край                                                    & Truellum                                                           &                                                                    &                                                                    & оз. Лотос, на сплавине                                            \\\\\n",
       "\t Hance                                                              & 2017-06-13                                                         & COMPOSITAE                                                         & VBGI                                                               & From plantlist                                                     &                                                                    & FALSE                                                              & sinica                                                             & Russia                                                             &                                                                    & ⋯                                                                  & NULL                                                               &                                                                    &                                                                    &                                                                    & 42.44926                                                           & Приморский край                                                    & Anaphalis                                                          &                                                                    &                                                                    & оз. Лотос, разреженный дубняк                                     \\\\\n",
       "\t Willd.                                                             & 2017-06-13                                                         & COMPOSITAE                                                         & VBGI                                                               & From plantlist                                                     &                                                                    & FALSE                                                              & parviflora                                                         & Russia                                                             &                                                                    & ⋯                                                                  & NULL                                                               &                                                                    &                                                                    &                                                                    & 42.55994                                                           & Приморский край                                                    & Bidens                                                             &                                                                    &                                                                    & дорога к пос. Хасан, скала у дороги                               \\\\\n",
       "\t Planch.                                                            & 2017-06-13                                                         & LINACEAE                                                           & VBGI                                                               & From plantlist                                                     &                                                                    & FALSE                                                              & stelleroides                                                       & Russia                                                             &                                                                    & ⋯                                                                  & NULL                                                               &                                                                    &                                                                    &                                                                    & 42.55918                                                           & Приморский край                                                    & Linum                                                              &                                                                    &                                                                    & дорога к пос. Хасан, скала, обочина дороги                        \\\\\n",
       "\t Maxim.                                                             & 2017-06-13                                                         & ORCHIDACEAE                                                        & VBGI                                                               & From plantlist                                                     &                                                                    &  TRUE                                                              & hologlottis                                                        & Russia                                                             &                                                                    & ⋯                                                                  & NULL                                                               &                                                                    &                                                                    &                                                                    & 42.53378                                                           & Приморский край                                                    & Platanthera                                                        &                                                                    &                                                                    & небольшой перевал к оз. Птичье, сырой луг                         \\\\\n",
       "\t Maxim.                                                             & 2017-06-13                                                         & ORCHIDACEAE                                                        & VBGI                                                               & From plantlist                                                     &                                                                    &  TRUE                                                              & hologlottis                                                        & Russia                                                             &                                                                    & ⋯                                                                  & NULL                                                               &                                                                    &                                                                    &                                                                    & 42.53378                                                           & Приморский край                                                    & Platanthera                                                        &                                                                    &                                                                    & небольшой перевал к оз. Птичье, сырой луг                         \\\\\n",
       "\t ⋮ & ⋮ & ⋮ & ⋮ & ⋮ & ⋮ & ⋮ & ⋮ & ⋮ & ⋮ & ⋱ & ⋮ & ⋮ & ⋮ & ⋮ & ⋮ & ⋮ & ⋮ & ⋮ & ⋮ & ⋮\\\\\n",
       "\t (Christ) Koidz.                                                                                                                                 & 2017-10-16                                                                                                                                      & ATHYRIACEAE                                                                                                                                     & VBGI                                                                                                                                            & Approved                                                                                                                                        &                                                                                                                                                 &  TRUE                                                                                                                                           & pycnosorum                                                                                                                                      & Russia                                                                                                                                          &                                                                                                                                                 & ⋯                                                                                                                                               & NULL                                                                                                                                            &                                                                                                                                                 &                                                                                                                                                 &                                                                                                                                                 & 43.38875                                                                                                                                        & Приморский край                                                                                                                                 & Lunathyrium                                                                                                                                     &                                                                                                                                                 &                                                                                                                                                 & р. Амба, водораздел руч. Антоновского и Безымянного, смешанный влажный лес.                                                                    \\\\\n",
       "\t L.                                                                                                                                              & 2017-10-17                                                                                                                                      & ONOCLEACEAE                                                                                                                                     & VBGI                                                                                                                                            & From plantlist                                                                                                                                  &                                                                                                                                                 &  TRUE                                                                                                                                           & sensibilis                                                                                                                                      & Russia                                                                                                                                          &                                                                                                                                                 & ⋯                                                                                                                                               & NULL                                                                                                                                            &                                                                                                                                                 &                                                                                                                                                 &                                                                                                                                                 & 43.36154                                                                                                                                        & Приморский край                                                                                                                                 & Onoclea                                                                                                                                         &                                                                                                                                                 &                                                                                                                                                 & р. Грязная, юго-зап. склон к реке, у дороги.                                                                                                   \\\\\n",
       "\t L.                                                                                                                                              & 2017-10-17                                                                                                                                      & ONOCLEACEAE                                                                                                                                     & VBGI                                                                                                                                            & From plantlist                                                                                                                                  &                                                                                                                                                 &  TRUE                                                                                                                                           & sensibilis                                                                                                                                      & Russia                                                                                                                                          &                                                                                                                                                 & ⋯                                                                                                                                               & NULL                                                                                                                                            &                                                                                                                                                 &                                                                                                                                                 &                                                                                                                                                 & 42.78200                                                                                                                                        & Приморский край                                                                                                                                 & Onoclea                                                                                                                                         &                                                                                                                                                 &                                                                                                                                                 & с. Цуканово, долина реки у заставы.                                                                                                            \\\\\n",
       "\t Hayata                                                                                                                                          & 2017-10-19                                                                                                                                      & ASPLENIACEAE                                                                                                                                    & VBGI                                                                                                                                            & From plantlist                                                                                                                                  &                                                                                                                                                 &  TRUE                                                                                                                                           & tenuicaule                                                                                                                                      & Russia                                                                                                                                          &                                                                                                                                                 & ⋯                                                                                                                                               & NULL                                                                                                                                            &                                                                                                                                                 &                                                                                                                                                 &                                                                                                                                                 & 43.39235                                                                                                                                        & Приморский край                                                                                                                                 & Asplenium                                                                                                                                       &                                                                                                                                                 &                                                                                                                                                 & лощина у длинной скалы, на камне.                                                                                                              \\\\\n",
       "\t Hayata                                                                                                                                          & 2017-10-19                                                                                                                                      & ASPLENIACEAE                                                                                                                                    & VBGI                                                                                                                                            & From plantlist                                                                                                                                  &                                                                                                                                                 & FALSE                                                                                                                                           & tenuicaule                                                                                                                                      & Russia                                                                                                                                          &                                                                                                                                                 & ⋯                                                                                                                                               & NULL                                                                                                                                            &                                                                                                                                                 &                                                                                                                                                 &                                                                                                                                                 & 43.39235                                                                                                                                        & Приморский край                                                                                                                                 & Asplenium                                                                                                                                       &                                                                                                                                                 &                                                                                                                                                 & Борисовское плато, верх. течение р. Нежинка, устье руч. Раздольненский, на скалах.                                                             \\\\\n",
       "\t Rupr.                                                                                                                                           & 2017-10-19                                                                                                                                      & ASPLENIACEAE                                                                                                                                    & VBGI                                                                                                                                            & From plantlist                                                                                                                                  &                                                                                                                                                 &  TRUE                                                                                                                                           & sibiricus                                                                                                                                       & Russia                                                                                                                                          &                                                                                                                                                 & ⋯                                                                                                                                               & NULL                                                                                                                                            &                                                                                                                                                 &                                                                                                                                                 &                                                                                                                                                 & 43.32975                                                                                                                                        & Приморский край                                                                                                                                 & Camptosorus                                                                                                                                     &                                                                                                                                                 &                                                                                                                                                 & р. Амба, скала.                                                                                                                                \\\\\n",
       "\t (Turcz. ex Kunze) Sa. Kurata                                                                                                                    & 2017-10-19                                                                                                                                      & ATHYRIACEAE                                                                                                                                     & VBGI                                                                                                                                            & From plantlist                                                                                                                                  &                                                                                                                                                 &  TRUE                                                                                                                                           & sibiricum                                                                                                                                       & Russia                                                                                                                                          &                                                                                                                                                 & ⋯                                                                                                                                               & NULL                                                                                                                                            &                                                                                                                                                 &                                                                                                                                                 &                                                                                                                                                 & 43.35326                                                                                                                                        & Приморский край                                                                                                                                 & Diplazium                                                                                                                                       &                                                                                                                                                 &                                                                                                                                                 & водораздел р. Грязная и р. КедровкаЖ, смешанный лес.                                                                                           \\\\\n",
       "\t (L.) Tod.                                                                                                                                       & 2017-10-19                                                                                                                                      & ONOCLEACEAE                                                                                                                                     & VBGI                                                                                                                                            & From plantlist                                                                                                                                  &                                                                                                                                                 &  TRUE                                                                                                                                           & struthiopteris                                                                                                                                  & Russia                                                                                                                                          &                                                                                                                                                 & ⋯                                                                                                                                               & NULL                                                                                                                                            &                                                                                                                                                 &                                                                                                                                                 &                                                                                                                                                 & 42.78200                                                                                                                                        & Приморский край                                                                                                                                 & Matteuccia                                                                                                                                      &                                                                                                                                                 &                                                                                                                                                 & с. Цуканово, долина р. у заставы.                                                                                                              \\\\\n",
       "\t (Baker) Kurata                                                                                                                                  & 2017-10-20                                                                                                                                      & ATHYRIACEAE                                                                                                                                     & VBGI                                                                                                                                            & Approved                                                                                                                                        &                                                                                                                                                 &  TRUE                                                                                                                                           & henryi                                                                                                                                          & Russia                                                                                                                                          &                                                                                                                                                 & ⋯                                                                                                                                               & NULL                                                                                                                                            &                                                                                                                                                 &                                                                                                                                                 &                                                                                                                                                 & 43.38443                                                                                                                                        & Приморский край                                                                                                                                 & Lunathyrium                                                                                                                                     &                                                                                                                                                 &                                                                                                                                                 & р. Амба, водораздел руч. Антоновского и руч. Безымянный, нижн. часть пологого склона, широколиственный лес.                                    \\\\\n",
       "\t (Baker) Kurata                                                                                                                                  & 2017-10-20                                                                                                                                      & ATHYRIACEAE                                                                                                                                     & VBGI                                                                                                                                            & Approved                                                                                                                                        &                                                                                                                                                 &  TRUE                                                                                                                                           & henryi                                                                                                                                          & Russia                                                                                                                                          &                                                                                                                                                 & ⋯                                                                                                                                               & NULL                                                                                                                                            &                                                                                                                                                 &                                                                                                                                                 &                                                                                                                                                 & 43.38443                                                                                                                                        & Приморский край                                                                                                                                 & Lunathyrium                                                                                                                                     &                                                                                                                                                 &                                                                                                                                                 & р. Амба, водораздел руч. Антоновского и руч. Безымянный, нижн. часть пологого склона, широколиственный лес.                                    \\\\\n",
       "\t (Hook.) Ching                                                                                                                                   & 2017-10-20                                                                                                                                      & WOODSIACEAE                                                                                                                                     & VBGI                                                                                                                                            & Approved                                                                                                                                        &                                                                                                                                                 &  TRUE                                                                                                                                           & manchuriensis                                                                                                                                   & Russia                                                                                                                                          &                                                                                                                                                 & ⋯                                                                                                                                               & NULL                                                                                                                                            &                                                                                                                                                 &                                                                                                                                                 &                                                                                                                                                 & 43.32975                                                                                                                                        & Приморский край                                                                                                                                 & Protowoodsia                                                                                                                                    &                                                                                                                                                 &                                                                                                                                                 & р. Амба, скала.                                                                                                                                \\\\\n",
       "\t (Kunze) Koidz.                                                                                                                                  & 2017-10-26                                                                                                                                      & DRYOPTERIDACEAE                                                                                                                                 & VBGI                                                                                                                                            & From plantlist                                                                                                                                  &                                                                                                                                                 &  TRUE                                                                                                                                           & goeringiana                                                                                                                                     & Russia                                                                                                                                          &                                                                                                                                                 & ⋯                                                                                                                                               & NULL                                                                                                                                            &                                                                                                                                                 &                                                                                                                                                 &                                                                                                                                                 & 43.29804                                                                                                                                        & Приморский край                                                                                                                                 & Dryopteris                                                                                                                                      &                                                                                                                                                 &                                                                                                                                                 & р. Амба, влдораздел руч. Пятый и руч. Четвертый, верхняя часть, смешанно-широколиственный лес.                                                 \\\\\n",
       "\t L.                                                                                                                                              & 2017-10-31                                                                                                                                      & PTERIDACEAE                                                                                                                                     & VBGI                                                                                                                                            & From plantlist                                                                                                                                  &                                                                                                                                                 &  TRUE                                                                                                                                           & pedatum                                                                                                                                         & Russia                                                                                                                                          &                                                                                                                                                 & ⋯                                                                                                                                               & NULL                                                                                                                                            &                                                                                                                                                 &                                                                                                                                                 &                                                                                                                                                 & 43.31606                                                                                                                                        & Приморский край                                                                                                                                 & Adiantum                                                                                                                                        &                                                                                                                                                 &                                                                                                                                                 & р. Амба, водораздел руч. Пятый и руч. Кривой, смешанный лес.                                                                                   \\\\\n",
       "\t L.                                                                                                                                              & 2017-10-31                                                                                                                                      & PTERIDACEAE                                                                                                                                     & VBGI                                                                                                                                            & From plantlist                                                                                                                                  &                                                                                                                                                 &  TRUE                                                                                                                                           & pedatum                                                                                                                                         & Russia                                                                                                                                          &                                                                                                                                                 & ⋯                                                                                                                                               & NULL                                                                                                                                            &                                                                                                                                                 &                                                                                                                                                 &                                                                                                                                                 & 43.31606                                                                                                                                        & Приморский край                                                                                                                                 & Adiantum                                                                                                                                        &                                                                                                                                                 &                                                                                                                                                 & р. Амба, водораздел руч. Пятый и руч. Кривой, смешанный лес.                                                                                   \\\\\n",
       "\t L.                                                                                                                                              & 2017-10-31                                                                                                                                      & PTERIDACEAE                                                                                                                                     & VBGI                                                                                                                                            & From plantlist                                                                                                                                  &                                                                                                                                                 & FALSE                                                                                                                                           & pedatum                                                                                                                                         & Russia                                                                                                                                          &                                                                                                                                                 & ⋯                                                                                                                                               & NULL                                                                                                                                            &                                                                                                                                                 &                                                                                                                                                 &                                                                                                                                                 & 43.48235                                                                                                                                        & Приморский край                                                                                                                                 & Adiantum                                                                                                                                        &                                                                                                                                                 &                                                                                                                                                 & Борисовское плато, верх. течение р. Нежинка, выше устья руч. Раздолненский, долинный лес.                                                      \\\\\n",
       "\t L.                                                                                                                                              & 2017-10-31                                                                                                                                      & PTERIDACEAE                                                                                                                                     & VBGI                                                                                                                                            & From plantlist                                                                                                                                  &                                                                                                                                                 & FALSE                                                                                                                                           & pedatum                                                                                                                                         & Russia                                                                                                                                          &                                                                                                                                                 & ⋯                                                                                                                                               & NULL                                                                                                                                            &                                                                                                                                                 &                                                                                                                                                 &                                                                                                                                                 & 43.48235                                                                                                                                        & Приморский край                                                                                                                                 & Adiantum                                                                                                                                        &                                                                                                                                                 &                                                                                                                                                 & Борисовское плато, верх. течение р. Нежинка, выше устья руч. Раздолненский, долинный лес.                                                      \\\\\n",
       "\t (Makino) Nakai                                                                                                                                  & 2017-11-01                                                                                                                                      & ATHYRIACEAE                                                                                                                                     & VBGI                                                                                                                                            & From plantlist                                                                                                                                  &                                                                                                                                                 &  TRUE                                                                                                                                           & crenulatoserrulata                                                                                                                              & Russia                                                                                                                                          &                                                                                                                                                 & ⋯                                                                                                                                               & NULL                                                                                                                                            &                                                                                                                                                 &                                                                                                                                                 &                                                                                                                                                 & 43.29804                                                                                                                                        & Приморский край                                                                                                                                 & Cornopteris                                                                                                                                     &                                                                                                                                                 &                                                                                                                                                 & р. Амба,  верхняя часть водораздела руч. Пятый и руч. Четвертый, смешанно-широколиственный лес.                                                \\\\\n",
       "\t (Maxim.) Ching                                                                                                                                  & 2017-11-01                                                                                                                                      & ATHYRIACEAE                                                                                                                                     & VBGI                                                                                                                                            & From plantlist                                                                                                                                  &                                                                                                                                                 &  TRUE                                                                                                                                           & spinulosa                                                                                                                                       & Russia                                                                                                                                          &                                                                                                                                                 & ⋯                                                                                                                                               & NULL                                                                                                                                            &                                                                                                                                                 &                                                                                                                                                 &                                                                                                                                                 & 43.31606                                                                                                                                        & Приморский край                                                                                                                                 & Pseudocystopteris                                                                                                                               &                                                                                                                                                 &                                                                                                                                                 & р. Амба, водораздел руч. Пятый и руч. Кривой, смешанный лес.                                                                                   \\\\\n",
       "\t (Maxim.) Ching                                                                                                                                  & 2017-11-01                                                                                                                                      & ATHYRIACEAE                                                                                                                                     & VBGI                                                                                                                                            & From plantlist                                                                                                                                  &                                                                                                                                                 &  TRUE                                                                                                                                           & spinulosa                                                                                                                                       & Russia                                                                                                                                          &                                                                                                                                                 & ⋯                                                                                                                                               & NULL                                                                                                                                            &                                                                                                                                                 &                                                                                                                                                 &                                                                                                                                                 & 43.31606                                                                                                                                        & Приморский край                                                                                                                                 & Pseudocystopteris                                                                                                                               &                                                                                                                                                 &                                                                                                                                                 & р. Амба, водораздел руч. Пятый и руч. Кривой, смешанный лес.                                                                                   \\\\\n",
       "\t (Maxim.) Ching                                                                                                                                  & 2017-11-01                                                                                                                                      & ATHYRIACEAE                                                                                                                                     & VBGI                                                                                                                                            & From plantlist                                                                                                                                  &                                                                                                                                                 &  TRUE                                                                                                                                           & spinulosa                                                                                                                                       & Russia                                                                                                                                          &                                                                                                                                                 & ⋯                                                                                                                                               & NULL                                                                                                                                            &                                                                                                                                                 &                                                                                                                                                 &                                                                                                                                                 & 43.31606                                                                                                                                        & Приморский край                                                                                                                                 & Pseudocystopteris                                                                                                                               &                                                                                                                                                 &                                                                                                                                                 & р. Амба, водораздел руч. Пятый и руч. Кривой, смешанный лес.                                                                                   \\\\\n",
       "\t (Turcz. ex Kunze) Sa. Kurata                                                                                                                    & 2017-11-09                                                                                                                                      & ATHYRIACEAE                                                                                                                                     & VBGI                                                                                                                                            & From plantlist                                                                                                                                  &                                                                                                                                                 & FALSE                                                                                                                                           & sibiricum                                                                                                                                       & Russia                                                                                                                                          &                                                                                                                                                 & ⋯                                                                                                                                               & NULL                                                                                                                                            &                                                                                                                                                 &                                                                                                                                                 &                                                                                                                                                 & 43.49601                                                                                                                                        & Приморский край                                                                                                                                 & Diplazium                                                                                                                                       &                                                                                                                                                 &                                                                                                                                                 & Борисовское плато, верх. течение р. Нежинка, водораздел руч. Раздольненский и р. Вторая Речка, склон, смешанный лес.                           \\\\\n",
       "\t (Turcz. ex Kunze) Sa. Kurata                                                                                                                    & 2017-11-09                                                                                                                                      & ATHYRIACEAE                                                                                                                                     & VBGI                                                                                                                                            & From plantlist                                                                                                                                  &                                                                                                                                                 &  TRUE                                                                                                                                           & sibiricum                                                                                                                                       & Russia                                                                                                                                          &                                                                                                                                                 & ⋯                                                                                                                                               & NULL                                                                                                                                            &                                                                                                                                                 &                                                                                                                                                 &                                                                                                                                                 & 43.28614                                                                                                                                        & Приморский край                                                                                                                                 & Diplazium                                                                                                                                       &                                                                                                                                                 &                                                                                                                                                 & р. Амба, правый берег, водораздел руч. Пятый и руч. Четвертый, крутой каменистый склон под скалами сев. эксп.                                  \\\\\n",
       "\t (Turcz. ex Kunze) Sa. Kurata                                                                                                                    & 2017-11-09                                                                                                                                      & ATHYRIACEAE                                                                                                                                     & VBGI                                                                                                                                            & From plantlist                                                                                                                                  &                                                                                                                                                 &  TRUE                                                                                                                                           & sibiricum                                                                                                                                       & Russia                                                                                                                                          &                                                                                                                                                 & ⋯                                                                                                                                               & NULL                                                                                                                                            &                                                                                                                                                 &                                                                                                                                                 &                                                                                                                                                 & 43.28614                                                                                                                                        & Приморский край                                                                                                                                 & Diplazium                                                                                                                                       &                                                                                                                                                 &                                                                                                                                                 & р. Амба, правый берег, водораздел руч. Пятый и руч. Четвертый, крутой каменистый склон под скалами сев. эксп.                                  \\\\\n",
       "\t (Turcz. ex Kunze) Sa. Kurata                                                                                                                    & 2017-11-09                                                                                                                                      & ATHYRIACEAE                                                                                                                                     & VBGI                                                                                                                                            & From plantlist                                                                                                                                  &                                                                                                                                                 &  TRUE                                                                                                                                           & sibiricum                                                                                                                                       & Russia                                                                                                                                          &                                                                                                                                                 & ⋯                                                                                                                                               & NULL                                                                                                                                            &                                                                                                                                                 &                                                                                                                                                 &                                                                                                                                                 & 43.28614                                                                                                                                        & Приморский край                                                                                                                                 & Diplazium                                                                                                                                       &                                                                                                                                                 &                                                                                                                                                 & р. Амба, правый берег, водораздел руч. Пятый и руч. Четвертый, крутой каменистый склон под скалами сев. эксп.                                  \\\\\n",
       "\t (Rupr.) Underw.                                                                                                                                 & 2017-11-09                                                                                                                                      & OPHIOGLOSSACEAE                                                                                                                                 & VBGI                                                                                                                                            & From plantlist                                                                                                                                  &                                                                                                                                                 & FALSE                                                                                                                                           & robustum                                                                                                                                        & Russia                                                                                                                                          &                                                                                                                                                 & ⋯                                                                                                                                               & NULL                                                                                                                                            &                                                                                                                                                 &                                                                                                                                                 &                                                                                                                                                 & 43.23689                                                                                                                                        & Приморский край                                                                                                                                 & Botrychium                                                                                                                                      &                                                                                                                                                 &                                                                                                                                                 & 5 км от с. Овчинниково на запад, ср. течение р. Барабашевка, левый приток, лиственный лес.                                                     \\\\\n",
       "\t (L.) Sw.                                                                                                                                        & 2017-11-09                                                                                                                                      & OPHIOGLOSSACEAE                                                                                                                                 & VBGI                                                                                                                                            & From plantlist                                                                                                                                  &                                                                                                                                                 & FALSE                                                                                                                                           & lunaria                                                                                                                                         & Russia                                                                                                                                          &                                                                                                                                                 & ⋯                                                                                                                                               & NULL                                                                                                                                            &                                                                                                                                                 &                                                                                                                                                 &                                                                                                                                                 & 43.41527                                                                                                                                        & Приморский край                                                                                                                                 & Botrychium                                                                                                                                      &                                                                                                                                                 &                                                                                                                                                 & Борисовское плато, верх. течение р. Нежинка, водораздел р. Нежинка и руч. Форелевый, крутой сухой склон, смешанный хвойно-широколиственный лес.\\\\\n",
       "\t (Fern.)  Tagawa                                                                                                                                 & 2017-11-10                                                                                                                                      & OSMUNDACEAE                                                                                                                                     & VBGI                                                                                                                                            & Approved                                                                                                                                        &                                                                                                                                                 & FALSE                                                                                                                                           & asiaticum                                                                                                                                       & Russia                                                                                                                                          &                                                                                                                                                 & ⋯                                                                                                                                               & NULL                                                                                                                                            &                                                                                                                                                 &                                                                                                                                                 &                                                                                                                                                 & 43.49053                                                                                                                                        & Приморский край                                                                                                                                 & Osmundastrum                                                                                                                                    &                                                                                                                                                 &                                                                                                                                                 & Борисовское плато, верх. течение р. Нежинка, водораздел руч. Раздольненский и р. Вторая Речка, влажные места, смешанный лес.                   \\\\\n",
       "\t (Fern.)  Tagawa                                                                                                                                 & 2017-11-10                                                                                                                                      & OSMUNDACEAE                                                                                                                                     & VBGI                                                                                                                                            & Approved                                                                                                                                        &                                                                                                                                                 & FALSE                                                                                                                                           & asiaticum                                                                                                                                       & Russia                                                                                                                                          &                                                                                                                                                 & ⋯                                                                                                                                               & NULL                                                                                                                                            &                                                                                                                                                 &                                                                                                                                                 &                                                                                                                                                 & 43.49053                                                                                                                                        & Приморский край                                                                                                                                 & Osmundastrum                                                                                                                                    &                                                                                                                                                 &                                                                                                                                                 & Борисовское плато, верх. течение р. Нежинка, водораздел руч. Раздольненский и р. Вторая Речка, влажные места, смешанный лес.                   \\\\\n",
       "\t (Fern.)  Tagawa                                                                                                                                 & 2017-11-10                                                                                                                                      & OSMUNDACEAE                                                                                                                                     & VBGI                                                                                                                                            & Approved                                                                                                                                        &                                                                                                                                                 & FALSE                                                                                                                                           & asiaticum                                                                                                                                       & Russia                                                                                                                                          &                                                                                                                                                 & ⋯                                                                                                                                               & NULL                                                                                                                                            &                                                                                                                                                 &                                                                                                                                                 &                                                                                                                                                 & 50.33339                                                                                                                                        & Приморский край                                                                                                                                 & Osmundastrum                                                                                                                                    &                                                                                                                                                 &                                                                                                                                                 & 5 км от с. Овчинниково на запад, среднее течение р. Барабашевка, надпойменная терраса, лиственный лес.                                         \\\\\n",
       "\t (Christ) Ching                                                                                                                                  & 2017-11-10                                                                                                                                      & POLYPODIACEAE                                                                                                                                   & VBGI                                                                                                                                            & From plantlist                                                                                                                                  &                                                                                                                                                 & FALSE                                                                                                                                           & petiolosa                                                                                                                                       & Russia                                                                                                                                          &                                                                                                                                                 & ⋯                                                                                                                                               & NULL                                                                                                                                            &                                                                                                                                                 &                                                                                                                                                 &                                                                                                                                                 & 43.48107                                                                                                                                        & Приморский край                                                                                                                                 & Pyrrosia                                                                                                                                        &                                                                                                                                                 &                                                                                                                                                 & Борисовское плато, верх. течение р. Нежинка, водораздел руч.... и руч. Форельный, на скалах.                                                   \\\\\n",
       "\\end{tabular}\n"
      ],
      "text/markdown": [
       "\n",
       "species_authorship | updated | family | acronym | species_status | significance | gpsbased | species_epithet | country | identification_finished | ⋯ | additionals | collection_finished | branch | short_note | latitude | region | genus | fieldid | infraspecific_epithet | details | \n",
       "|---|---|---|---|---|---|---|---|---|---|---|---|---|---|---|---|---|---|---|---|---|---|---|---|---|---|---|---|---|---|---|---|---|---|---|---|---|---|---|---|---|---|---|---|---|---|---|---|---|---|---|---|---|---|---|---|---|---|---|---|---|\n",
       "| (Spenn.) Fée                                                       | 2017-06-13                                                         | DRYOPTERIDACEAE                                                    | VBGI                                                               | From plantlist                                                     |                                                                    | FALSE                                                              | braunii                                                            | Russia                                                             |                                                                    | ⋯                                                                  | NULL                                                               |                                                                    |                                                                    |                                                                    | 43.06703                                                           | Приморский край                                                    | Polystichum                                                        |                                                                    |                                                                    | г. Ливадийская (Фалаза), кедрово-широколиственный лес              | \n",
       "| Hara                                                               | 2017-06-13                                                         | CRASSULACEAE                                                       | VBGI                                                               | From plantlist                                                     |                                                                    |  TRUE                                                              | iwarenge                                                           | Russia                                                             |                                                                    | ⋯                                                                  | NULL                                                               |                                                                    |                                                                    |                                                                    | 42.89162                                                           | Приморский край                                                    | Orostachys                                                         |                                                                    |                                                                    | Залив Восток, база \"Восток\", мыс Пашинникова, скалы на берегу моря | \n",
       "| Chaix                                                              | 2017-06-13                                                         | JUNCACEAE                                                          | VBGI                                                               | From plantlist                                                     |                                                                    | FALSE                                                              | alpinoarticulatus                                                  | Russia                                                             | 2015-04-01                                                         | ⋯                                                                  | NULL                                                               |                                                                    |                                                                    |                                                                    | 45.82908                                                           | Приморский край                                                    | Juncus                                                             |                                                                    |                                                                    | с. Амгу, близ устья р. Амгу                                        | \n",
       "| Willd. ex Schult. & Schult.f.                                      | 2017-06-13                                                         | AMARYLLIDACEAE                                                     | VBGI                                                               | From plantlist                                                     |                                                                    |  TRUE                                                              | splendens                                                          | Russia                                                             | 2015-04-01                                                         | ⋯                                                                  | NULL                                                               |                                                                    |                                                                    |                                                                    | 45.89254                                                           | Приморский край                                                    | Allium                                                             |                                                                    |                                                                    | г. Туман, щебнистая осыпь в подгольцовом поясе                     | \n",
       "| (Regel) Sojak                                                      | 2017-06-13                                                         | POLYGONACEAE                                                       | VBGI                                                               | From plantlist                                                     |                                                                    |  TRUE                                                              | maackianum                                                         | Russia                                                             |                                                                    | ⋯                                                                  | NULL                                                               |                                                                    |                                                                    |                                                                    | 42.45782                                                           | Приморский край                                                    | Truellum                                                           |                                                                    |                                                                    | оз. Лотос, на сплавине                                             | \n",
       "| (Regel) Sojak                                                      | 2017-06-13                                                         | POLYGONACEAE                                                       | VBGI                                                               | From plantlist                                                     |                                                                    |  TRUE                                                              | maackianum                                                         | Russia                                                             |                                                                    | ⋯                                                                  | NULL                                                               |                                                                    |                                                                    |                                                                    | 42.45782                                                           | Приморский край                                                    | Truellum                                                           |                                                                    |                                                                    | оз. Лотос, на сплавине                                             | \n",
       "| (Regel) Sojak                                                      | 2017-06-13                                                         | POLYGONACEAE                                                       | VBGI                                                               | From plantlist                                                     |                                                                    |  TRUE                                                              | maackianum                                                         | Russia                                                             |                                                                    | ⋯                                                                  | NULL                                                               |                                                                    |                                                                    |                                                                    | 42.45782                                                           | Приморский край                                                    | Truellum                                                           |                                                                    |                                                                    | оз. Лотос, на сплавине                                             | \n",
       "| (Maxim.) Maxim. ex Franch. & Sav.                                  | 2017-07-13                                                         | CUCURBITACEAE                                                      | VBGI                                                               | From plantlist                                                     |                                                                    |  TRUE                                                              | lobatum                                                            | Russia                                                             |                                                                    | ⋯                                                                  | NULL                                                               |                                                                    |                                                                    |                                                                    | 42.45782                                                           | Приморский край                                                    | Actinostemma                                                       |                                                                    |                                                                    | оз. Лотос, на сплавине                                             | \n",
       "| (Buch.-Ham. ex Roxb.) Maxim.                                       | 2017-06-13                                                         | LAMIACEAE                                                          | VBGI                                                               | From plantlist                                                     |                                                                    |  TRUE                                                              | dianthera                                                          | Russia                                                             |                                                                    | ⋯                                                                  | NULL                                                               |                                                                    |                                                                    |                                                                    | 42.45782                                                           | Приморский край                                                    | Mosla                                                              |                                                                    |                                                                    | оз. Лотос, на сплавине                                             | \n",
       "| (Buch.-Ham. ex Roxb.) Maxim.                                       | 2017-06-13                                                         | LAMIACEAE                                                          | VBGI                                                               | From plantlist                                                     |                                                                    |  TRUE                                                              | dianthera                                                          | Russia                                                             |                                                                    | ⋯                                                                  | NULL                                                               |                                                                    |                                                                    |                                                                    | 42.45782                                                           | Приморский край                                                    | Mosla                                                              |                                                                    |                                                                    | оз. Лотос, на сплавине                                             | \n",
       "| Makino                                                             | 2017-06-13                                                         | LAMIACEAE                                                          | VBGI                                                               | From plantlist                                                     |                                                                    |  TRUE                                                              | jatabeana                                                          | Russia                                                             |                                                                    | ⋯                                                                  | NULL                                                               |                                                                    |                                                                    |                                                                    | 42.45782                                                           | Приморский край                                                    | Dysophylla                                                         |                                                                    |                                                                    | оз. Лотос, на сплавине                                             | \n",
       "| (R. Keller) Y. Kimura                                              | 2017-06-13                                                         | HYPERICACEAE                                                       | VBGI                                                               | From plantlist                                                     |                                                                    |  TRUE                                                              | japonicum                                                          | Russia                                                             |                                                                    | ⋯                                                                  | NULL                                                               |                                                                    |                                                                    |                                                                    | 42.45782                                                           | Приморский край                                                    | Triadenum                                                          |                                                                    |                                                                    | оз. Лотос, на сплавине                                             | \n",
       "| (R. Keller) Y. Kimura                                              | 2017-06-13                                                         | HYPERICACEAE                                                       | VBGI                                                               | From plantlist                                                     |                                                                    |  TRUE                                                              | japonicum                                                          | Russia                                                             |                                                                    | ⋯                                                                  | NULL                                                               |                                                                    |                                                                    |                                                                    | 42.45782                                                           | Приморский край                                                    | Triadenum                                                          |                                                                    |                                                                    | оз. Лотос, на сплавине                                             | \n",
       "| Benth.                                                             | 2017-06-13                                                         | OROBANCHACEAE                                                      | VBGI                                                               | From plantlist                                                     |                                                                    | FALSE                                                              | chinensis                                                          | Russia                                                             |                                                                    | ⋯                                                                  | NULL                                                               |                                                                    |                                                                    |                                                                    | 42.56007                                                           | Приморский край                                                    | Siphonostegia                                                      |                                                                    |                                                                    | дорога к пос. Хасан, перевал                                       | \n",
       "| Benth.                                                             | 2017-06-13                                                         | OROBANCHACEAE                                                      | VBGI                                                               | From plantlist                                                     |                                                                    | FALSE                                                              | chinensis                                                          | Russia                                                             |                                                                    | ⋯                                                                  | NULL                                                               |                                                                    |                                                                    |                                                                    | 42.55994                                                           | Приморский край                                                    | Siphonostegia                                                      |                                                                    |                                                                    | дорога к пос. Хасан, перевал                                       | \n",
       "| Miq.                                                               | 2017-06-13                                                         | SALICACEAE                                                         | VBGI                                                               | From plantlist                                                     |                                                                    | FALSE                                                              | pierotii                                                           | Russia                                                             |                                                                    | ⋯                                                                  | NULL                                                               |                                                                    |                                                                    |                                                                    | 42.55981                                                           | Приморский край                                                    | Salix                                                              |                                                                    |                                                                    | дорога на пос. Хасан, скала у дороги                               | \n",
       "| L.                                                                 | 2017-06-13                                                         | SALICACEAE                                                         | VBGI                                                               | From plantlist                                                     |                                                                    | FALSE                                                              | caprea                                                             | Russia                                                             |                                                                    | ⋯                                                                  | NULL                                                               |                                                                    |                                                                    |                                                                    | 42.56045                                                           | Приморский край                                                    | Salix                                                              |                                                                    |                                                                    | дорога н апос. Хасан, скала у дороги                               | \n",
       "| (Thunb.) Schindl.                                                  | 2017-06-13                                                         | LEGUMINOSAE                                                        | VBGI                                                               | From plantlist                                                     |                                                                    | FALSE                                                              | striata                                                            | Russia                                                             |                                                                    | ⋯                                                                  | NULL                                                               |                                                                    |                                                                    |                                                                    | 42.55943                                                           | Приморский край                                                    | Kummerowia                                                         |                                                                    |                                                                    | дорога на пос. Хасан, скала у дороги                               | \n",
       "| Miq.                                                               | 2017-06-13                                                         | LEGUMINOSAE                                                        | VBGI                                                               | From plantlist                                                     |                                                                    | FALSE                                                              | cyrtobotrya                                                        | Russia                                                             |                                                                    | ⋯                                                                  | NULL                                                               |                                                                    |                                                                    |                                                                    | 42.47370                                                           | Приморский край                                                    | Lespedeza                                                          |                                                                    |                                                                    | перевал от оз. Лотос                                               | \n",
       "| Miq.                                                               | 2017-06-13                                                         | LEGUMINOSAE                                                        | VBGI                                                               | From plantlist                                                     |                                                                    | FALSE                                                              | cyrtobotrya                                                        | Russia                                                             |                                                                    | ⋯                                                                  | NULL                                                               |                                                                    |                                                                    |                                                                    | 42.47415                                                           | Приморский край                                                    | Lespedeza                                                          |                                                                    |                                                                    | перевал от оз. Лотос                                               | \n",
       "| (Pall.) DC.                                                        | 2017-06-13                                                         | LEGUMINOSAE                                                        | VBGI                                                               | From plantlist                                                     |                                                                    | FALSE                                                              | dahuricus                                                          | Russia                                                             |                                                                    | ⋯                                                                  | NULL                                                               |                                                                    |                                                                    |                                                                    | 42.87962                                                           | Приморский край                                                    | Astragalus                                                         |                                                                    |                                                                    | трасса после поворота на Славянку, обочина                         | \n",
       "| Thunb.                                                             | 2017-06-13                                                         | FAGACEAE                                                           | VBGI                                                               | From plantlist                                                     |                                                                    |  TRUE                                                              | dentata                                                            | Russia                                                             |                                                                    | ⋯                                                                  | NULL                                                               |                                                                    |                                                                    |                                                                    | 42.45782                                                           | Приморский край                                                    | Quercus                                                            |                                                                    |                                                                    | оз. Лотос, берег                                                   | \n",
       "| Thunb.                                                             | 2017-06-13                                                         | FAGACEAE                                                           | VBGI                                                               | From plantlist                                                     |                                                                    |  TRUE                                                              | dentata                                                            | Russia                                                             |                                                                    | ⋯                                                                  | NULL                                                               |                                                                    |                                                                    |                                                                    | 42.45782                                                           | Приморский край                                                    | Quercus                                                            |                                                                    |                                                                    | оз. Лотос, берег                                                   | \n",
       "| (Siebold et Zucc.) Sojak                                           | 2017-06-13                                                         | POLYGONACEAE                                                       | VBGI                                                               | From plantlist                                                     |                                                                    |  TRUE                                                              | thunbergii                                                         | Russia                                                             |                                                                    | ⋯                                                                  | NULL                                                               |                                                                    |                                                                    |                                                                    | 42.45782                                                           | Приморский край                                                    | Truellum                                                           |                                                                    |                                                                    | оз. Лотос, на сплавине                                             | \n",
       "| (Siebold et Zucc.) Sojak                                           | 2017-06-13                                                         | POLYGONACEAE                                                       | VBGI                                                               | From plantlist                                                     |                                                                    |  TRUE                                                              | thunbergii                                                         | Russia                                                             |                                                                    | ⋯                                                                  | NULL                                                               |                                                                    |                                                                    |                                                                    | 42.45782                                                           | Приморский край                                                    | Truellum                                                           |                                                                    |                                                                    | оз. Лотос, на сплавине                                             | \n",
       "| Hance                                                              | 2017-06-13                                                         | COMPOSITAE                                                         | VBGI                                                               | From plantlist                                                     |                                                                    | FALSE                                                              | sinica                                                             | Russia                                                             |                                                                    | ⋯                                                                  | NULL                                                               |                                                                    |                                                                    |                                                                    | 42.44926                                                           | Приморский край                                                    | Anaphalis                                                          |                                                                    |                                                                    | оз. Лотос, разреженный дубняк                                      | \n",
       "| Willd.                                                             | 2017-06-13                                                         | COMPOSITAE                                                         | VBGI                                                               | From plantlist                                                     |                                                                    | FALSE                                                              | parviflora                                                         | Russia                                                             |                                                                    | ⋯                                                                  | NULL                                                               |                                                                    |                                                                    |                                                                    | 42.55994                                                           | Приморский край                                                    | Bidens                                                             |                                                                    |                                                                    | дорога к пос. Хасан, скала у дороги                                | \n",
       "| Planch.                                                            | 2017-06-13                                                         | LINACEAE                                                           | VBGI                                                               | From plantlist                                                     |                                                                    | FALSE                                                              | stelleroides                                                       | Russia                                                             |                                                                    | ⋯                                                                  | NULL                                                               |                                                                    |                                                                    |                                                                    | 42.55918                                                           | Приморский край                                                    | Linum                                                              |                                                                    |                                                                    | дорога к пос. Хасан, скала, обочина дороги                         | \n",
       "| Maxim.                                                             | 2017-06-13                                                         | ORCHIDACEAE                                                        | VBGI                                                               | From plantlist                                                     |                                                                    |  TRUE                                                              | hologlottis                                                        | Russia                                                             |                                                                    | ⋯                                                                  | NULL                                                               |                                                                    |                                                                    |                                                                    | 42.53378                                                           | Приморский край                                                    | Platanthera                                                        |                                                                    |                                                                    | небольшой перевал к оз. Птичье, сырой луг                          | \n",
       "| Maxim.                                                             | 2017-06-13                                                         | ORCHIDACEAE                                                        | VBGI                                                               | From plantlist                                                     |                                                                    |  TRUE                                                              | hologlottis                                                        | Russia                                                             |                                                                    | ⋯                                                                  | NULL                                                               |                                                                    |                                                                    |                                                                    | 42.53378                                                           | Приморский край                                                    | Platanthera                                                        |                                                                    |                                                                    | небольшой перевал к оз. Птичье, сырой луг                          | \n",
       "| ⋮ | ⋮ | ⋮ | ⋮ | ⋮ | ⋮ | ⋮ | ⋮ | ⋮ | ⋮ | ⋱ | ⋮ | ⋮ | ⋮ | ⋮ | ⋮ | ⋮ | ⋮ | ⋮ | ⋮ | ⋮ | \n",
       "| (Christ) Koidz.                                                                                                                                 | 2017-10-16                                                                                                                                      | ATHYRIACEAE                                                                                                                                     | VBGI                                                                                                                                            | Approved                                                                                                                                        |                                                                                                                                                 |  TRUE                                                                                                                                           | pycnosorum                                                                                                                                      | Russia                                                                                                                                          |                                                                                                                                                 | ⋯                                                                                                                                               | NULL                                                                                                                                            |                                                                                                                                                 |                                                                                                                                                 |                                                                                                                                                 | 43.38875                                                                                                                                        | Приморский край                                                                                                                                 | Lunathyrium                                                                                                                                     |                                                                                                                                                 |                                                                                                                                                 | р. Амба, водораздел руч. Антоновского и Безымянного, смешанный влажный лес.                                                                     | \n",
       "| L.                                                                                                                                              | 2017-10-17                                                                                                                                      | ONOCLEACEAE                                                                                                                                     | VBGI                                                                                                                                            | From plantlist                                                                                                                                  |                                                                                                                                                 |  TRUE                                                                                                                                           | sensibilis                                                                                                                                      | Russia                                                                                                                                          |                                                                                                                                                 | ⋯                                                                                                                                               | NULL                                                                                                                                            |                                                                                                                                                 |                                                                                                                                                 |                                                                                                                                                 | 43.36154                                                                                                                                        | Приморский край                                                                                                                                 | Onoclea                                                                                                                                         |                                                                                                                                                 |                                                                                                                                                 | р. Грязная, юго-зап. склон к реке, у дороги.                                                                                                    | \n",
       "| L.                                                                                                                                              | 2017-10-17                                                                                                                                      | ONOCLEACEAE                                                                                                                                     | VBGI                                                                                                                                            | From plantlist                                                                                                                                  |                                                                                                                                                 |  TRUE                                                                                                                                           | sensibilis                                                                                                                                      | Russia                                                                                                                                          |                                                                                                                                                 | ⋯                                                                                                                                               | NULL                                                                                                                                            |                                                                                                                                                 |                                                                                                                                                 |                                                                                                                                                 | 42.78200                                                                                                                                        | Приморский край                                                                                                                                 | Onoclea                                                                                                                                         |                                                                                                                                                 |                                                                                                                                                 | с. Цуканово, долина реки у заставы.                                                                                                             | \n",
       "| Hayata                                                                                                                                          | 2017-10-19                                                                                                                                      | ASPLENIACEAE                                                                                                                                    | VBGI                                                                                                                                            | From plantlist                                                                                                                                  |                                                                                                                                                 |  TRUE                                                                                                                                           | tenuicaule                                                                                                                                      | Russia                                                                                                                                          |                                                                                                                                                 | ⋯                                                                                                                                               | NULL                                                                                                                                            |                                                                                                                                                 |                                                                                                                                                 |                                                                                                                                                 | 43.39235                                                                                                                                        | Приморский край                                                                                                                                 | Asplenium                                                                                                                                       |                                                                                                                                                 |                                                                                                                                                 | лощина у длинной скалы, на камне.                                                                                                               | \n",
       "| Hayata                                                                                                                                          | 2017-10-19                                                                                                                                      | ASPLENIACEAE                                                                                                                                    | VBGI                                                                                                                                            | From plantlist                                                                                                                                  |                                                                                                                                                 | FALSE                                                                                                                                           | tenuicaule                                                                                                                                      | Russia                                                                                                                                          |                                                                                                                                                 | ⋯                                                                                                                                               | NULL                                                                                                                                            |                                                                                                                                                 |                                                                                                                                                 |                                                                                                                                                 | 43.39235                                                                                                                                        | Приморский край                                                                                                                                 | Asplenium                                                                                                                                       |                                                                                                                                                 |                                                                                                                                                 | Борисовское плато, верх. течение р. Нежинка, устье руч. Раздольненский, на скалах.                                                              | \n",
       "| Rupr.                                                                                                                                           | 2017-10-19                                                                                                                                      | ASPLENIACEAE                                                                                                                                    | VBGI                                                                                                                                            | From plantlist                                                                                                                                  |                                                                                                                                                 |  TRUE                                                                                                                                           | sibiricus                                                                                                                                       | Russia                                                                                                                                          |                                                                                                                                                 | ⋯                                                                                                                                               | NULL                                                                                                                                            |                                                                                                                                                 |                                                                                                                                                 |                                                                                                                                                 | 43.32975                                                                                                                                        | Приморский край                                                                                                                                 | Camptosorus                                                                                                                                     |                                                                                                                                                 |                                                                                                                                                 | р. Амба, скала.                                                                                                                                 | \n",
       "| (Turcz. ex Kunze) Sa. Kurata                                                                                                                    | 2017-10-19                                                                                                                                      | ATHYRIACEAE                                                                                                                                     | VBGI                                                                                                                                            | From plantlist                                                                                                                                  |                                                                                                                                                 |  TRUE                                                                                                                                           | sibiricum                                                                                                                                       | Russia                                                                                                                                          |                                                                                                                                                 | ⋯                                                                                                                                               | NULL                                                                                                                                            |                                                                                                                                                 |                                                                                                                                                 |                                                                                                                                                 | 43.35326                                                                                                                                        | Приморский край                                                                                                                                 | Diplazium                                                                                                                                       |                                                                                                                                                 |                                                                                                                                                 | водораздел р. Грязная и р. КедровкаЖ, смешанный лес.                                                                                            | \n",
       "| (L.) Tod.                                                                                                                                       | 2017-10-19                                                                                                                                      | ONOCLEACEAE                                                                                                                                     | VBGI                                                                                                                                            | From plantlist                                                                                                                                  |                                                                                                                                                 |  TRUE                                                                                                                                           | struthiopteris                                                                                                                                  | Russia                                                                                                                                          |                                                                                                                                                 | ⋯                                                                                                                                               | NULL                                                                                                                                            |                                                                                                                                                 |                                                                                                                                                 |                                                                                                                                                 | 42.78200                                                                                                                                        | Приморский край                                                                                                                                 | Matteuccia                                                                                                                                      |                                                                                                                                                 |                                                                                                                                                 | с. Цуканово, долина р. у заставы.                                                                                                               | \n",
       "| (Baker) Kurata                                                                                                                                  | 2017-10-20                                                                                                                                      | ATHYRIACEAE                                                                                                                                     | VBGI                                                                                                                                            | Approved                                                                                                                                        |                                                                                                                                                 |  TRUE                                                                                                                                           | henryi                                                                                                                                          | Russia                                                                                                                                          |                                                                                                                                                 | ⋯                                                                                                                                               | NULL                                                                                                                                            |                                                                                                                                                 |                                                                                                                                                 |                                                                                                                                                 | 43.38443                                                                                                                                        | Приморский край                                                                                                                                 | Lunathyrium                                                                                                                                     |                                                                                                                                                 |                                                                                                                                                 | р. Амба, водораздел руч. Антоновского и руч. Безымянный, нижн. часть пологого склона, широколиственный лес.                                     | \n",
       "| (Baker) Kurata                                                                                                                                  | 2017-10-20                                                                                                                                      | ATHYRIACEAE                                                                                                                                     | VBGI                                                                                                                                            | Approved                                                                                                                                        |                                                                                                                                                 |  TRUE                                                                                                                                           | henryi                                                                                                                                          | Russia                                                                                                                                          |                                                                                                                                                 | ⋯                                                                                                                                               | NULL                                                                                                                                            |                                                                                                                                                 |                                                                                                                                                 |                                                                                                                                                 | 43.38443                                                                                                                                        | Приморский край                                                                                                                                 | Lunathyrium                                                                                                                                     |                                                                                                                                                 |                                                                                                                                                 | р. Амба, водораздел руч. Антоновского и руч. Безымянный, нижн. часть пологого склона, широколиственный лес.                                     | \n",
       "| (Hook.) Ching                                                                                                                                   | 2017-10-20                                                                                                                                      | WOODSIACEAE                                                                                                                                     | VBGI                                                                                                                                            | Approved                                                                                                                                        |                                                                                                                                                 |  TRUE                                                                                                                                           | manchuriensis                                                                                                                                   | Russia                                                                                                                                          |                                                                                                                                                 | ⋯                                                                                                                                               | NULL                                                                                                                                            |                                                                                                                                                 |                                                                                                                                                 |                                                                                                                                                 | 43.32975                                                                                                                                        | Приморский край                                                                                                                                 | Protowoodsia                                                                                                                                    |                                                                                                                                                 |                                                                                                                                                 | р. Амба, скала.                                                                                                                                 | \n",
       "| (Kunze) Koidz.                                                                                                                                  | 2017-10-26                                                                                                                                      | DRYOPTERIDACEAE                                                                                                                                 | VBGI                                                                                                                                            | From plantlist                                                                                                                                  |                                                                                                                                                 |  TRUE                                                                                                                                           | goeringiana                                                                                                                                     | Russia                                                                                                                                          |                                                                                                                                                 | ⋯                                                                                                                                               | NULL                                                                                                                                            |                                                                                                                                                 |                                                                                                                                                 |                                                                                                                                                 | 43.29804                                                                                                                                        | Приморский край                                                                                                                                 | Dryopteris                                                                                                                                      |                                                                                                                                                 |                                                                                                                                                 | р. Амба, влдораздел руч. Пятый и руч. Четвертый, верхняя часть, смешанно-широколиственный лес.                                                  | \n",
       "| L.                                                                                                                                              | 2017-10-31                                                                                                                                      | PTERIDACEAE                                                                                                                                     | VBGI                                                                                                                                            | From plantlist                                                                                                                                  |                                                                                                                                                 |  TRUE                                                                                                                                           | pedatum                                                                                                                                         | Russia                                                                                                                                          |                                                                                                                                                 | ⋯                                                                                                                                               | NULL                                                                                                                                            |                                                                                                                                                 |                                                                                                                                                 |                                                                                                                                                 | 43.31606                                                                                                                                        | Приморский край                                                                                                                                 | Adiantum                                                                                                                                        |                                                                                                                                                 |                                                                                                                                                 | р. Амба, водораздел руч. Пятый и руч. Кривой, смешанный лес.                                                                                    | \n",
       "| L.                                                                                                                                              | 2017-10-31                                                                                                                                      | PTERIDACEAE                                                                                                                                     | VBGI                                                                                                                                            | From plantlist                                                                                                                                  |                                                                                                                                                 |  TRUE                                                                                                                                           | pedatum                                                                                                                                         | Russia                                                                                                                                          |                                                                                                                                                 | ⋯                                                                                                                                               | NULL                                                                                                                                            |                                                                                                                                                 |                                                                                                                                                 |                                                                                                                                                 | 43.31606                                                                                                                                        | Приморский край                                                                                                                                 | Adiantum                                                                                                                                        |                                                                                                                                                 |                                                                                                                                                 | р. Амба, водораздел руч. Пятый и руч. Кривой, смешанный лес.                                                                                    | \n",
       "| L.                                                                                                                                              | 2017-10-31                                                                                                                                      | PTERIDACEAE                                                                                                                                     | VBGI                                                                                                                                            | From plantlist                                                                                                                                  |                                                                                                                                                 | FALSE                                                                                                                                           | pedatum                                                                                                                                         | Russia                                                                                                                                          |                                                                                                                                                 | ⋯                                                                                                                                               | NULL                                                                                                                                            |                                                                                                                                                 |                                                                                                                                                 |                                                                                                                                                 | 43.48235                                                                                                                                        | Приморский край                                                                                                                                 | Adiantum                                                                                                                                        |                                                                                                                                                 |                                                                                                                                                 | Борисовское плато, верх. течение р. Нежинка, выше устья руч. Раздолненский, долинный лес.                                                       | \n",
       "| L.                                                                                                                                              | 2017-10-31                                                                                                                                      | PTERIDACEAE                                                                                                                                     | VBGI                                                                                                                                            | From plantlist                                                                                                                                  |                                                                                                                                                 | FALSE                                                                                                                                           | pedatum                                                                                                                                         | Russia                                                                                                                                          |                                                                                                                                                 | ⋯                                                                                                                                               | NULL                                                                                                                                            |                                                                                                                                                 |                                                                                                                                                 |                                                                                                                                                 | 43.48235                                                                                                                                        | Приморский край                                                                                                                                 | Adiantum                                                                                                                                        |                                                                                                                                                 |                                                                                                                                                 | Борисовское плато, верх. течение р. Нежинка, выше устья руч. Раздолненский, долинный лес.                                                       | \n",
       "| (Makino) Nakai                                                                                                                                  | 2017-11-01                                                                                                                                      | ATHYRIACEAE                                                                                                                                     | VBGI                                                                                                                                            | From plantlist                                                                                                                                  |                                                                                                                                                 |  TRUE                                                                                                                                           | crenulatoserrulata                                                                                                                              | Russia                                                                                                                                          |                                                                                                                                                 | ⋯                                                                                                                                               | NULL                                                                                                                                            |                                                                                                                                                 |                                                                                                                                                 |                                                                                                                                                 | 43.29804                                                                                                                                        | Приморский край                                                                                                                                 | Cornopteris                                                                                                                                     |                                                                                                                                                 |                                                                                                                                                 | р. Амба,  верхняя часть водораздела руч. Пятый и руч. Четвертый, смешанно-широколиственный лес.                                                 | \n",
       "| (Maxim.) Ching                                                                                                                                  | 2017-11-01                                                                                                                                      | ATHYRIACEAE                                                                                                                                     | VBGI                                                                                                                                            | From plantlist                                                                                                                                  |                                                                                                                                                 |  TRUE                                                                                                                                           | spinulosa                                                                                                                                       | Russia                                                                                                                                          |                                                                                                                                                 | ⋯                                                                                                                                               | NULL                                                                                                                                            |                                                                                                                                                 |                                                                                                                                                 |                                                                                                                                                 | 43.31606                                                                                                                                        | Приморский край                                                                                                                                 | Pseudocystopteris                                                                                                                               |                                                                                                                                                 |                                                                                                                                                 | р. Амба, водораздел руч. Пятый и руч. Кривой, смешанный лес.                                                                                    | \n",
       "| (Maxim.) Ching                                                                                                                                  | 2017-11-01                                                                                                                                      | ATHYRIACEAE                                                                                                                                     | VBGI                                                                                                                                            | From plantlist                                                                                                                                  |                                                                                                                                                 |  TRUE                                                                                                                                           | spinulosa                                                                                                                                       | Russia                                                                                                                                          |                                                                                                                                                 | ⋯                                                                                                                                               | NULL                                                                                                                                            |                                                                                                                                                 |                                                                                                                                                 |                                                                                                                                                 | 43.31606                                                                                                                                        | Приморский край                                                                                                                                 | Pseudocystopteris                                                                                                                               |                                                                                                                                                 |                                                                                                                                                 | р. Амба, водораздел руч. Пятый и руч. Кривой, смешанный лес.                                                                                    | \n",
       "| (Maxim.) Ching                                                                                                                                  | 2017-11-01                                                                                                                                      | ATHYRIACEAE                                                                                                                                     | VBGI                                                                                                                                            | From plantlist                                                                                                                                  |                                                                                                                                                 |  TRUE                                                                                                                                           | spinulosa                                                                                                                                       | Russia                                                                                                                                          |                                                                                                                                                 | ⋯                                                                                                                                               | NULL                                                                                                                                            |                                                                                                                                                 |                                                                                                                                                 |                                                                                                                                                 | 43.31606                                                                                                                                        | Приморский край                                                                                                                                 | Pseudocystopteris                                                                                                                               |                                                                                                                                                 |                                                                                                                                                 | р. Амба, водораздел руч. Пятый и руч. Кривой, смешанный лес.                                                                                    | \n",
       "| (Turcz. ex Kunze) Sa. Kurata                                                                                                                    | 2017-11-09                                                                                                                                      | ATHYRIACEAE                                                                                                                                     | VBGI                                                                                                                                            | From plantlist                                                                                                                                  |                                                                                                                                                 | FALSE                                                                                                                                           | sibiricum                                                                                                                                       | Russia                                                                                                                                          |                                                                                                                                                 | ⋯                                                                                                                                               | NULL                                                                                                                                            |                                                                                                                                                 |                                                                                                                                                 |                                                                                                                                                 | 43.49601                                                                                                                                        | Приморский край                                                                                                                                 | Diplazium                                                                                                                                       |                                                                                                                                                 |                                                                                                                                                 | Борисовское плато, верх. течение р. Нежинка, водораздел руч. Раздольненский и р. Вторая Речка, склон, смешанный лес.                            | \n",
       "| (Turcz. ex Kunze) Sa. Kurata                                                                                                                    | 2017-11-09                                                                                                                                      | ATHYRIACEAE                                                                                                                                     | VBGI                                                                                                                                            | From plantlist                                                                                                                                  |                                                                                                                                                 |  TRUE                                                                                                                                           | sibiricum                                                                                                                                       | Russia                                                                                                                                          |                                                                                                                                                 | ⋯                                                                                                                                               | NULL                                                                                                                                            |                                                                                                                                                 |                                                                                                                                                 |                                                                                                                                                 | 43.28614                                                                                                                                        | Приморский край                                                                                                                                 | Diplazium                                                                                                                                       |                                                                                                                                                 |                                                                                                                                                 | р. Амба, правый берег, водораздел руч. Пятый и руч. Четвертый, крутой каменистый склон под скалами сев. эксп.                                   | \n",
       "| (Turcz. ex Kunze) Sa. Kurata                                                                                                                    | 2017-11-09                                                                                                                                      | ATHYRIACEAE                                                                                                                                     | VBGI                                                                                                                                            | From plantlist                                                                                                                                  |                                                                                                                                                 |  TRUE                                                                                                                                           | sibiricum                                                                                                                                       | Russia                                                                                                                                          |                                                                                                                                                 | ⋯                                                                                                                                               | NULL                                                                                                                                            |                                                                                                                                                 |                                                                                                                                                 |                                                                                                                                                 | 43.28614                                                                                                                                        | Приморский край                                                                                                                                 | Diplazium                                                                                                                                       |                                                                                                                                                 |                                                                                                                                                 | р. Амба, правый берег, водораздел руч. Пятый и руч. Четвертый, крутой каменистый склон под скалами сев. эксп.                                   | \n",
       "| (Turcz. ex Kunze) Sa. Kurata                                                                                                                    | 2017-11-09                                                                                                                                      | ATHYRIACEAE                                                                                                                                     | VBGI                                                                                                                                            | From plantlist                                                                                                                                  |                                                                                                                                                 |  TRUE                                                                                                                                           | sibiricum                                                                                                                                       | Russia                                                                                                                                          |                                                                                                                                                 | ⋯                                                                                                                                               | NULL                                                                                                                                            |                                                                                                                                                 |                                                                                                                                                 |                                                                                                                                                 | 43.28614                                                                                                                                        | Приморский край                                                                                                                                 | Diplazium                                                                                                                                       |                                                                                                                                                 |                                                                                                                                                 | р. Амба, правый берег, водораздел руч. Пятый и руч. Четвертый, крутой каменистый склон под скалами сев. эксп.                                   | \n",
       "| (Rupr.) Underw.                                                                                                                                 | 2017-11-09                                                                                                                                      | OPHIOGLOSSACEAE                                                                                                                                 | VBGI                                                                                                                                            | From plantlist                                                                                                                                  |                                                                                                                                                 | FALSE                                                                                                                                           | robustum                                                                                                                                        | Russia                                                                                                                                          |                                                                                                                                                 | ⋯                                                                                                                                               | NULL                                                                                                                                            |                                                                                                                                                 |                                                                                                                                                 |                                                                                                                                                 | 43.23689                                                                                                                                        | Приморский край                                                                                                                                 | Botrychium                                                                                                                                      |                                                                                                                                                 |                                                                                                                                                 | 5 км от с. Овчинниково на запад, ср. течение р. Барабашевка, левый приток, лиственный лес.                                                      | \n",
       "| (L.) Sw.                                                                                                                                        | 2017-11-09                                                                                                                                      | OPHIOGLOSSACEAE                                                                                                                                 | VBGI                                                                                                                                            | From plantlist                                                                                                                                  |                                                                                                                                                 | FALSE                                                                                                                                           | lunaria                                                                                                                                         | Russia                                                                                                                                          |                                                                                                                                                 | ⋯                                                                                                                                               | NULL                                                                                                                                            |                                                                                                                                                 |                                                                                                                                                 |                                                                                                                                                 | 43.41527                                                                                                                                        | Приморский край                                                                                                                                 | Botrychium                                                                                                                                      |                                                                                                                                                 |                                                                                                                                                 | Борисовское плато, верх. течение р. Нежинка, водораздел р. Нежинка и руч. Форелевый, крутой сухой склон, смешанный хвойно-широколиственный лес. | \n",
       "| (Fern.)  Tagawa                                                                                                                                 | 2017-11-10                                                                                                                                      | OSMUNDACEAE                                                                                                                                     | VBGI                                                                                                                                            | Approved                                                                                                                                        |                                                                                                                                                 | FALSE                                                                                                                                           | asiaticum                                                                                                                                       | Russia                                                                                                                                          |                                                                                                                                                 | ⋯                                                                                                                                               | NULL                                                                                                                                            |                                                                                                                                                 |                                                                                                                                                 |                                                                                                                                                 | 43.49053                                                                                                                                        | Приморский край                                                                                                                                 | Osmundastrum                                                                                                                                    |                                                                                                                                                 |                                                                                                                                                 | Борисовское плато, верх. течение р. Нежинка, водораздел руч. Раздольненский и р. Вторая Речка, влажные места, смешанный лес.                    | \n",
       "| (Fern.)  Tagawa                                                                                                                                 | 2017-11-10                                                                                                                                      | OSMUNDACEAE                                                                                                                                     | VBGI                                                                                                                                            | Approved                                                                                                                                        |                                                                                                                                                 | FALSE                                                                                                                                           | asiaticum                                                                                                                                       | Russia                                                                                                                                          |                                                                                                                                                 | ⋯                                                                                                                                               | NULL                                                                                                                                            |                                                                                                                                                 |                                                                                                                                                 |                                                                                                                                                 | 43.49053                                                                                                                                        | Приморский край                                                                                                                                 | Osmundastrum                                                                                                                                    |                                                                                                                                                 |                                                                                                                                                 | Борисовское плато, верх. течение р. Нежинка, водораздел руч. Раздольненский и р. Вторая Речка, влажные места, смешанный лес.                    | \n",
       "| (Fern.)  Tagawa                                                                                                                                 | 2017-11-10                                                                                                                                      | OSMUNDACEAE                                                                                                                                     | VBGI                                                                                                                                            | Approved                                                                                                                                        |                                                                                                                                                 | FALSE                                                                                                                                           | asiaticum                                                                                                                                       | Russia                                                                                                                                          |                                                                                                                                                 | ⋯                                                                                                                                               | NULL                                                                                                                                            |                                                                                                                                                 |                                                                                                                                                 |                                                                                                                                                 | 50.33339                                                                                                                                        | Приморский край                                                                                                                                 | Osmundastrum                                                                                                                                    |                                                                                                                                                 |                                                                                                                                                 | 5 км от с. Овчинниково на запад, среднее течение р. Барабашевка, надпойменная терраса, лиственный лес.                                          | \n",
       "| (Christ) Ching                                                                                                                                  | 2017-11-10                                                                                                                                      | POLYPODIACEAE                                                                                                                                   | VBGI                                                                                                                                            | From plantlist                                                                                                                                  |                                                                                                                                                 | FALSE                                                                                                                                           | petiolosa                                                                                                                                       | Russia                                                                                                                                          |                                                                                                                                                 | ⋯                                                                                                                                               | NULL                                                                                                                                            |                                                                                                                                                 |                                                                                                                                                 |                                                                                                                                                 | 43.48107                                                                                                                                        | Приморский край                                                                                                                                 | Pyrrosia                                                                                                                                        |                                                                                                                                                 |                                                                                                                                                 | Борисовское плато, верх. течение р. Нежинка, водораздел руч.... и руч. Форельный, на скалах.                                                    | \n",
       "\n",
       "\n"
      ],
      "text/plain": [
       "     species_authorship                updated    family          acronym\n",
       "1    (Spenn.) Fée                      2017-06-13 DRYOPTERIDACEAE VBGI   \n",
       "2    Hara                              2017-06-13 CRASSULACEAE    VBGI   \n",
       "3    Chaix                             2017-06-13 JUNCACEAE       VBGI   \n",
       "4    Willd. ex Schult. & Schult.f.     2017-06-13 AMARYLLIDACEAE  VBGI   \n",
       "5    (Regel) Sojak                     2017-06-13 POLYGONACEAE    VBGI   \n",
       "6    (Regel) Sojak                     2017-06-13 POLYGONACEAE    VBGI   \n",
       "7    (Regel) Sojak                     2017-06-13 POLYGONACEAE    VBGI   \n",
       "8    (Maxim.) Maxim. ex Franch. & Sav. 2017-07-13 CUCURBITACEAE   VBGI   \n",
       "9    (Buch.-Ham. ex Roxb.) Maxim.      2017-06-13 LAMIACEAE       VBGI   \n",
       "10   (Buch.-Ham. ex Roxb.) Maxim.      2017-06-13 LAMIACEAE       VBGI   \n",
       "11   Makino                            2017-06-13 LAMIACEAE       VBGI   \n",
       "12   (R. Keller) Y. Kimura             2017-06-13 HYPERICACEAE    VBGI   \n",
       "13   (R. Keller) Y. Kimura             2017-06-13 HYPERICACEAE    VBGI   \n",
       "14   Benth.                            2017-06-13 OROBANCHACEAE   VBGI   \n",
       "15   Benth.                            2017-06-13 OROBANCHACEAE   VBGI   \n",
       "16   Miq.                              2017-06-13 SALICACEAE      VBGI   \n",
       "17   L.                                2017-06-13 SALICACEAE      VBGI   \n",
       "18   (Thunb.) Schindl.                 2017-06-13 LEGUMINOSAE     VBGI   \n",
       "19   Miq.                              2017-06-13 LEGUMINOSAE     VBGI   \n",
       "20   Miq.                              2017-06-13 LEGUMINOSAE     VBGI   \n",
       "21   (Pall.) DC.                       2017-06-13 LEGUMINOSAE     VBGI   \n",
       "22   Thunb.                            2017-06-13 FAGACEAE        VBGI   \n",
       "23   Thunb.                            2017-06-13 FAGACEAE        VBGI   \n",
       "24   (Siebold et Zucc.) Sojak          2017-06-13 POLYGONACEAE    VBGI   \n",
       "25   (Siebold et Zucc.) Sojak          2017-06-13 POLYGONACEAE    VBGI   \n",
       "26   Hance                             2017-06-13 COMPOSITAE      VBGI   \n",
       "27   Willd.                            2017-06-13 COMPOSITAE      VBGI   \n",
       "28   Planch.                           2017-06-13 LINACEAE        VBGI   \n",
       "29   Maxim.                            2017-06-13 ORCHIDACEAE     VBGI   \n",
       "30   Maxim.                            2017-06-13 ORCHIDACEAE     VBGI   \n",
       "⋮    ⋮                                 ⋮          ⋮               ⋮      \n",
       "1377 (Christ) Koidz.                   2017-10-16 ATHYRIACEAE     VBGI   \n",
       "1378 L.                                2017-10-17 ONOCLEACEAE     VBGI   \n",
       "1379 L.                                2017-10-17 ONOCLEACEAE     VBGI   \n",
       "1380 Hayata                            2017-10-19 ASPLENIACEAE    VBGI   \n",
       "1381 Hayata                            2017-10-19 ASPLENIACEAE    VBGI   \n",
       "1382 Rupr.                             2017-10-19 ASPLENIACEAE    VBGI   \n",
       "1383 (Turcz. ex Kunze) Sa. Kurata      2017-10-19 ATHYRIACEAE     VBGI   \n",
       "1384 (L.) Tod.                         2017-10-19 ONOCLEACEAE     VBGI   \n",
       "1385 (Baker) Kurata                    2017-10-20 ATHYRIACEAE     VBGI   \n",
       "1386 (Baker) Kurata                    2017-10-20 ATHYRIACEAE     VBGI   \n",
       "1387 (Hook.) Ching                     2017-10-20 WOODSIACEAE     VBGI   \n",
       "1388 (Kunze) Koidz.                    2017-10-26 DRYOPTERIDACEAE VBGI   \n",
       "1389 L.                                2017-10-31 PTERIDACEAE     VBGI   \n",
       "1390 L.                                2017-10-31 PTERIDACEAE     VBGI   \n",
       "1391 L.                                2017-10-31 PTERIDACEAE     VBGI   \n",
       "1392 L.                                2017-10-31 PTERIDACEAE     VBGI   \n",
       "1393 (Makino) Nakai                    2017-11-01 ATHYRIACEAE     VBGI   \n",
       "1394 (Maxim.) Ching                    2017-11-01 ATHYRIACEAE     VBGI   \n",
       "1395 (Maxim.) Ching                    2017-11-01 ATHYRIACEAE     VBGI   \n",
       "1396 (Maxim.) Ching                    2017-11-01 ATHYRIACEAE     VBGI   \n",
       "1397 (Turcz. ex Kunze) Sa. Kurata      2017-11-09 ATHYRIACEAE     VBGI   \n",
       "1398 (Turcz. ex Kunze) Sa. Kurata      2017-11-09 ATHYRIACEAE     VBGI   \n",
       "1399 (Turcz. ex Kunze) Sa. Kurata      2017-11-09 ATHYRIACEAE     VBGI   \n",
       "1400 (Turcz. ex Kunze) Sa. Kurata      2017-11-09 ATHYRIACEAE     VBGI   \n",
       "1401 (Rupr.) Underw.                   2017-11-09 OPHIOGLOSSACEAE VBGI   \n",
       "1402 (L.) Sw.                          2017-11-09 OPHIOGLOSSACEAE VBGI   \n",
       "1403 (Fern.)  Tagawa                   2017-11-10 OSMUNDACEAE     VBGI   \n",
       "1404 (Fern.)  Tagawa                   2017-11-10 OSMUNDACEAE     VBGI   \n",
       "1405 (Fern.)  Tagawa                   2017-11-10 OSMUNDACEAE     VBGI   \n",
       "1406 (Christ) Ching                    2017-11-10 POLYPODIACEAE   VBGI   \n",
       "     species_status significance gpsbased species_epithet    country\n",
       "1    From plantlist              FALSE    braunii            Russia \n",
       "2    From plantlist               TRUE    iwarenge           Russia \n",
       "3    From plantlist              FALSE    alpinoarticulatus  Russia \n",
       "4    From plantlist               TRUE    splendens          Russia \n",
       "5    From plantlist               TRUE    maackianum         Russia \n",
       "6    From plantlist               TRUE    maackianum         Russia \n",
       "7    From plantlist               TRUE    maackianum         Russia \n",
       "8    From plantlist               TRUE    lobatum            Russia \n",
       "9    From plantlist               TRUE    dianthera          Russia \n",
       "10   From plantlist               TRUE    dianthera          Russia \n",
       "11   From plantlist               TRUE    jatabeana          Russia \n",
       "12   From plantlist               TRUE    japonicum          Russia \n",
       "13   From plantlist               TRUE    japonicum          Russia \n",
       "14   From plantlist              FALSE    chinensis          Russia \n",
       "15   From plantlist              FALSE    chinensis          Russia \n",
       "16   From plantlist              FALSE    pierotii           Russia \n",
       "17   From plantlist              FALSE    caprea             Russia \n",
       "18   From plantlist              FALSE    striata            Russia \n",
       "19   From plantlist              FALSE    cyrtobotrya        Russia \n",
       "20   From plantlist              FALSE    cyrtobotrya        Russia \n",
       "21   From plantlist              FALSE    dahuricus          Russia \n",
       "22   From plantlist               TRUE    dentata            Russia \n",
       "23   From plantlist               TRUE    dentata            Russia \n",
       "24   From plantlist               TRUE    thunbergii         Russia \n",
       "25   From plantlist               TRUE    thunbergii         Russia \n",
       "26   From plantlist              FALSE    sinica             Russia \n",
       "27   From plantlist              FALSE    parviflora         Russia \n",
       "28   From plantlist              FALSE    stelleroides       Russia \n",
       "29   From plantlist               TRUE    hologlottis        Russia \n",
       "30   From plantlist               TRUE    hologlottis        Russia \n",
       "⋮    ⋮              ⋮            ⋮        ⋮                  ⋮      \n",
       "1377 Approved                     TRUE    pycnosorum         Russia \n",
       "1378 From plantlist               TRUE    sensibilis         Russia \n",
       "1379 From plantlist               TRUE    sensibilis         Russia \n",
       "1380 From plantlist               TRUE    tenuicaule         Russia \n",
       "1381 From plantlist              FALSE    tenuicaule         Russia \n",
       "1382 From plantlist               TRUE    sibiricus          Russia \n",
       "1383 From plantlist               TRUE    sibiricum          Russia \n",
       "1384 From plantlist               TRUE    struthiopteris     Russia \n",
       "1385 Approved                     TRUE    henryi             Russia \n",
       "1386 Approved                     TRUE    henryi             Russia \n",
       "1387 Approved                     TRUE    manchuriensis      Russia \n",
       "1388 From plantlist               TRUE    goeringiana        Russia \n",
       "1389 From plantlist               TRUE    pedatum            Russia \n",
       "1390 From plantlist               TRUE    pedatum            Russia \n",
       "1391 From plantlist              FALSE    pedatum            Russia \n",
       "1392 From plantlist              FALSE    pedatum            Russia \n",
       "1393 From plantlist               TRUE    crenulatoserrulata Russia \n",
       "1394 From plantlist               TRUE    spinulosa          Russia \n",
       "1395 From plantlist               TRUE    spinulosa          Russia \n",
       "1396 From plantlist               TRUE    spinulosa          Russia \n",
       "1397 From plantlist              FALSE    sibiricum          Russia \n",
       "1398 From plantlist               TRUE    sibiricum          Russia \n",
       "1399 From plantlist               TRUE    sibiricum          Russia \n",
       "1400 From plantlist               TRUE    sibiricum          Russia \n",
       "1401 From plantlist              FALSE    robustum           Russia \n",
       "1402 From plantlist              FALSE    lunaria            Russia \n",
       "1403 Approved                    FALSE    asiaticum          Russia \n",
       "1404 Approved                    FALSE    asiaticum          Russia \n",
       "1405 Approved                    FALSE    asiaticum          Russia \n",
       "1406 From plantlist              FALSE    petiolosa          Russia \n",
       "     identification_finished ⋯ additionals collection_finished branch\n",
       "1                            ⋯ NULL                                  \n",
       "2                            ⋯ NULL                                  \n",
       "3    2015-04-01              ⋯ NULL                                  \n",
       "4    2015-04-01              ⋯ NULL                                  \n",
       "5                            ⋯ NULL                                  \n",
       "6                            ⋯ NULL                                  \n",
       "7                            ⋯ NULL                                  \n",
       "8                            ⋯ NULL                                  \n",
       "9                            ⋯ NULL                                  \n",
       "10                           ⋯ NULL                                  \n",
       "11                           ⋯ NULL                                  \n",
       "12                           ⋯ NULL                                  \n",
       "13                           ⋯ NULL                                  \n",
       "14                           ⋯ NULL                                  \n",
       "15                           ⋯ NULL                                  \n",
       "16                           ⋯ NULL                                  \n",
       "17                           ⋯ NULL                                  \n",
       "18                           ⋯ NULL                                  \n",
       "19                           ⋯ NULL                                  \n",
       "20                           ⋯ NULL                                  \n",
       "21                           ⋯ NULL                                  \n",
       "22                           ⋯ NULL                                  \n",
       "23                           ⋯ NULL                                  \n",
       "24                           ⋯ NULL                                  \n",
       "25                           ⋯ NULL                                  \n",
       "26                           ⋯ NULL                                  \n",
       "27                           ⋯ NULL                                  \n",
       "28                           ⋯ NULL                                  \n",
       "29                           ⋯ NULL                                  \n",
       "30                           ⋯ NULL                                  \n",
       "⋮    ⋮                       ⋱ ⋮           ⋮                   ⋮     \n",
       "1377                         ⋯ NULL                                  \n",
       "1378                         ⋯ NULL                                  \n",
       "1379                         ⋯ NULL                                  \n",
       "1380                         ⋯ NULL                                  \n",
       "1381                         ⋯ NULL                                  \n",
       "1382                         ⋯ NULL                                  \n",
       "1383                         ⋯ NULL                                  \n",
       "1384                         ⋯ NULL                                  \n",
       "1385                         ⋯ NULL                                  \n",
       "1386                         ⋯ NULL                                  \n",
       "1387                         ⋯ NULL                                  \n",
       "1388                         ⋯ NULL                                  \n",
       "1389                         ⋯ NULL                                  \n",
       "1390                         ⋯ NULL                                  \n",
       "1391                         ⋯ NULL                                  \n",
       "1392                         ⋯ NULL                                  \n",
       "1393                         ⋯ NULL                                  \n",
       "1394                         ⋯ NULL                                  \n",
       "1395                         ⋯ NULL                                  \n",
       "1396                         ⋯ NULL                                  \n",
       "1397                         ⋯ NULL                                  \n",
       "1398                         ⋯ NULL                                  \n",
       "1399                         ⋯ NULL                                  \n",
       "1400                         ⋯ NULL                                  \n",
       "1401                         ⋯ NULL                                  \n",
       "1402                         ⋯ NULL                                  \n",
       "1403                         ⋯ NULL                                  \n",
       "1404                         ⋯ NULL                                  \n",
       "1405                         ⋯ NULL                                  \n",
       "1406                         ⋯ NULL                                  \n",
       "     short_note latitude region          genus             fieldid\n",
       "1               43.06703 Приморский край Polystichum              \n",
       "2               42.89162 Приморский край Orostachys               \n",
       "3               45.82908 Приморский край Juncus                   \n",
       "4               45.89254 Приморский край Allium                   \n",
       "5               42.45782 Приморский край Truellum                 \n",
       "6               42.45782 Приморский край Truellum                 \n",
       "7               42.45782 Приморский край Truellum                 \n",
       "8               42.45782 Приморский край Actinostemma             \n",
       "9               42.45782 Приморский край Mosla                    \n",
       "10              42.45782 Приморский край Mosla                    \n",
       "11              42.45782 Приморский край Dysophylla               \n",
       "12              42.45782 Приморский край Triadenum                \n",
       "13              42.45782 Приморский край Triadenum                \n",
       "14              42.56007 Приморский край Siphonostegia            \n",
       "15              42.55994 Приморский край Siphonostegia            \n",
       "16              42.55981 Приморский край Salix                    \n",
       "17              42.56045 Приморский край Salix                    \n",
       "18              42.55943 Приморский край Kummerowia               \n",
       "19              42.47370 Приморский край Lespedeza                \n",
       "20              42.47415 Приморский край Lespedeza                \n",
       "21              42.87962 Приморский край Astragalus               \n",
       "22              42.45782 Приморский край Quercus                  \n",
       "23              42.45782 Приморский край Quercus                  \n",
       "24              42.45782 Приморский край Truellum                 \n",
       "25              42.45782 Приморский край Truellum                 \n",
       "26              42.44926 Приморский край Anaphalis                \n",
       "27              42.55994 Приморский край Bidens                   \n",
       "28              42.55918 Приморский край Linum                    \n",
       "29              42.53378 Приморский край Platanthera              \n",
       "30              42.53378 Приморский край Platanthera              \n",
       "⋮    ⋮          ⋮        ⋮               ⋮                 ⋮      \n",
       "1377            43.38875 Приморский край Lunathyrium              \n",
       "1378            43.36154 Приморский край Onoclea                  \n",
       "1379            42.78200 Приморский край Onoclea                  \n",
       "1380            43.39235 Приморский край Asplenium                \n",
       "1381            43.39235 Приморский край Asplenium                \n",
       "1382            43.32975 Приморский край Camptosorus              \n",
       "1383            43.35326 Приморский край Diplazium                \n",
       "1384            42.78200 Приморский край Matteuccia               \n",
       "1385            43.38443 Приморский край Lunathyrium              \n",
       "1386            43.38443 Приморский край Lunathyrium              \n",
       "1387            43.32975 Приморский край Protowoodsia             \n",
       "1388            43.29804 Приморский край Dryopteris               \n",
       "1389            43.31606 Приморский край Adiantum                 \n",
       "1390            43.31606 Приморский край Adiantum                 \n",
       "1391            43.48235 Приморский край Adiantum                 \n",
       "1392            43.48235 Приморский край Adiantum                 \n",
       "1393            43.29804 Приморский край Cornopteris              \n",
       "1394            43.31606 Приморский край Pseudocystopteris        \n",
       "1395            43.31606 Приморский край Pseudocystopteris        \n",
       "1396            43.31606 Приморский край Pseudocystopteris        \n",
       "1397            43.49601 Приморский край Diplazium                \n",
       "1398            43.28614 Приморский край Diplazium                \n",
       "1399            43.28614 Приморский край Diplazium                \n",
       "1400            43.28614 Приморский край Diplazium                \n",
       "1401            43.23689 Приморский край Botrychium               \n",
       "1402            43.41527 Приморский край Botrychium               \n",
       "1403            43.49053 Приморский край Osmundastrum             \n",
       "1404            43.49053 Приморский край Osmundastrum             \n",
       "1405            50.33339 Приморский край Osmundastrum             \n",
       "1406            43.48107 Приморский край Pyrrosia                 \n",
       "     infraspecific_epithet\n",
       "1                         \n",
       "2                         \n",
       "3                         \n",
       "4                         \n",
       "5                         \n",
       "6                         \n",
       "7                         \n",
       "8                         \n",
       "9                         \n",
       "10                        \n",
       "11                        \n",
       "12                        \n",
       "13                        \n",
       "14                        \n",
       "15                        \n",
       "16                        \n",
       "17                        \n",
       "18                        \n",
       "19                        \n",
       "20                        \n",
       "21                        \n",
       "22                        \n",
       "23                        \n",
       "24                        \n",
       "25                        \n",
       "26                        \n",
       "27                        \n",
       "28                        \n",
       "29                        \n",
       "30                        \n",
       "⋮    ⋮                    \n",
       "1377                      \n",
       "1378                      \n",
       "1379                      \n",
       "1380                      \n",
       "1381                      \n",
       "1382                      \n",
       "1383                      \n",
       "1384                      \n",
       "1385                      \n",
       "1386                      \n",
       "1387                      \n",
       "1388                      \n",
       "1389                      \n",
       "1390                      \n",
       "1391                      \n",
       "1392                      \n",
       "1393                      \n",
       "1394                      \n",
       "1395                      \n",
       "1396                      \n",
       "1397                      \n",
       "1398                      \n",
       "1399                      \n",
       "1400                      \n",
       "1401                      \n",
       "1402                      \n",
       "1403                      \n",
       "1404                      \n",
       "1405                      \n",
       "1406                      \n",
       "     details                                                                                                                                        \n",
       "1    г. Ливадийская (Фалаза), кедрово-широколиственный лес                                                                                          \n",
       "2    Залив Восток, база \"Восток\", мыс Пашинникова, скалы на берегу моря                                                                             \n",
       "3    с. Амгу, близ устья р. Амгу                                                                                                                    \n",
       "4    г. Туман, щебнистая осыпь в подгольцовом поясе                                                                                                 \n",
       "5    оз. Лотос, на сплавине                                                                                                                         \n",
       "6    оз. Лотос, на сплавине                                                                                                                         \n",
       "7    оз. Лотос, на сплавине                                                                                                                         \n",
       "8    оз. Лотос, на сплавине                                                                                                                         \n",
       "9    оз. Лотос, на сплавине                                                                                                                         \n",
       "10   оз. Лотос, на сплавине                                                                                                                         \n",
       "11   оз. Лотос, на сплавине                                                                                                                         \n",
       "12   оз. Лотос, на сплавине                                                                                                                         \n",
       "13   оз. Лотос, на сплавине                                                                                                                         \n",
       "14   дорога к пос. Хасан, перевал                                                                                                                   \n",
       "15   дорога к пос. Хасан, перевал                                                                                                                   \n",
       "16   дорога на пос. Хасан, скала у дороги                                                                                                           \n",
       "17   дорога н апос. Хасан, скала у дороги                                                                                                           \n",
       "18   дорога на пос. Хасан, скала у дороги                                                                                                           \n",
       "19   перевал от оз. Лотос                                                                                                                           \n",
       "20   перевал от оз. Лотос                                                                                                                           \n",
       "21   трасса после поворота на Славянку, обочина                                                                                                     \n",
       "22   оз. Лотос, берег                                                                                                                               \n",
       "23   оз. Лотос, берег                                                                                                                               \n",
       "24   оз. Лотос, на сплавине                                                                                                                         \n",
       "25   оз. Лотос, на сплавине                                                                                                                         \n",
       "26   оз. Лотос, разреженный дубняк                                                                                                                  \n",
       "27   дорога к пос. Хасан, скала у дороги                                                                                                            \n",
       "28   дорога к пос. Хасан, скала, обочина дороги                                                                                                     \n",
       "29   небольшой перевал к оз. Птичье, сырой луг                                                                                                      \n",
       "30   небольшой перевал к оз. Птичье, сырой луг                                                                                                      \n",
       "⋮    ⋮                                                                                                                                              \n",
       "1377 р. Амба, водораздел руч. Антоновского и Безымянного, смешанный влажный лес.                                                                    \n",
       "1378 р. Грязная, юго-зап. склон к реке, у дороги.                                                                                                   \n",
       "1379 с. Цуканово, долина реки у заставы.                                                                                                            \n",
       "1380 лощина у длинной скалы, на камне.                                                                                                              \n",
       "1381 Борисовское плато, верх. течение р. Нежинка, устье руч. Раздольненский, на скалах.                                                             \n",
       "1382 р. Амба, скала.                                                                                                                                \n",
       "1383 водораздел р. Грязная и р. КедровкаЖ, смешанный лес.                                                                                           \n",
       "1384 с. Цуканово, долина р. у заставы.                                                                                                              \n",
       "1385 р. Амба, водораздел руч. Антоновского и руч. Безымянный, нижн. часть пологого склона, широколиственный лес.                                    \n",
       "1386 р. Амба, водораздел руч. Антоновского и руч. Безымянный, нижн. часть пологого склона, широколиственный лес.                                    \n",
       "1387 р. Амба, скала.                                                                                                                                \n",
       "1388 р. Амба, влдораздел руч. Пятый и руч. Четвертый, верхняя часть, смешанно-широколиственный лес.                                                 \n",
       "1389 р. Амба, водораздел руч. Пятый и руч. Кривой, смешанный лес.                                                                                   \n",
       "1390 р. Амба, водораздел руч. Пятый и руч. Кривой, смешанный лес.                                                                                   \n",
       "1391 Борисовское плато, верх. течение р. Нежинка, выше устья руч. Раздолненский, долинный лес.                                                      \n",
       "1392 Борисовское плато, верх. течение р. Нежинка, выше устья руч. Раздолненский, долинный лес.                                                      \n",
       "1393 р. Амба,  верхняя часть водораздела руч. Пятый и руч. Четвертый, смешанно-широколиственный лес.                                                \n",
       "1394 р. Амба, водораздел руч. Пятый и руч. Кривой, смешанный лес.                                                                                   \n",
       "1395 р. Амба, водораздел руч. Пятый и руч. Кривой, смешанный лес.                                                                                   \n",
       "1396 р. Амба, водораздел руч. Пятый и руч. Кривой, смешанный лес.                                                                                   \n",
       "1397 Борисовское плато, верх. течение р. Нежинка, водораздел руч. Раздольненский и р. Вторая Речка, склон, смешанный лес.                           \n",
       "1398 р. Амба, правый берег, водораздел руч. Пятый и руч. Четвертый, крутой каменистый склон под скалами сев. эксп.                                  \n",
       "1399 р. Амба, правый берег, водораздел руч. Пятый и руч. Четвертый, крутой каменистый склон под скалами сев. эксп.                                  \n",
       "1400 р. Амба, правый берег, водораздел руч. Пятый и руч. Четвертый, крутой каменистый склон под скалами сев. эксп.                                  \n",
       "1401 5 км от с. Овчинниково на запад, ср. течение р. Барабашевка, левый приток, лиственный лес.                                                     \n",
       "1402 Борисовское плато, верх. течение р. Нежинка, водораздел р. Нежинка и руч. Форелевый, крутой сухой склон, смешанный хвойно-широколиственный лес.\n",
       "1403 Борисовское плато, верх. течение р. Нежинка, водораздел руч. Раздольненский и р. Вторая Речка, влажные места, смешанный лес.                   \n",
       "1404 Борисовское плато, верх. течение р. Нежинка, водораздел руч. Раздольненский и р. Вторая Речка, влажные места, смешанный лес.                   \n",
       "1405 5 км от с. Овчинниково на запад, среднее течение р. Барабашевка, надпойменная терраса, лиственный лес.                                         \n",
       "1406 Борисовское плато, верх. течение р. Нежинка, водораздел руч.... и руч. Форельный, на скалах.                                                   "
      ]
     },
     "metadata": {},
     "output_type": "display_data"
    }
   ],
   "source": [
    "data$data"
   ]
  },
  {
   "cell_type": "markdown",
   "metadata": {},
   "source": [
    "Более сложные поисковые запросы можно структурировать используя списки:"
   ]
  },
  {
   "cell_type": "code",
   "execution_count": 4,
   "metadata": {
    "collapsed": true
   },
   "outputs": [],
   "source": [
    "http_api_base_url <- 'http://botsad.ru/hitem/json/?'\n",
    "search_parameters <- c('collectedby', 'Пименова', 'identifiedby', 'Крестов')"
   ]
  },
  {
   "cell_type": "markdown",
   "metadata": {},
   "source": [
    "В данном случае, параметры, наряду с их значениями, определены в виде списка `search_parameters`; далее, используется функция `paste`, чтобы построить из параметров и их значений поисковый URI (`c(TRUE,FALSE)` и `c(False, True)` используется, чтобы получить все четные и нечетные позиции массива `search_parameters` и правильно расставить символы `&` и `=`):"
   ]
  },
  {
   "cell_type": "code",
   "execution_count": 5,
   "metadata": {
    "collapsed": true
   },
   "outputs": [],
   "source": [
    "search_url <- paste(http_api_base_url, paste(search_parameters[c(TRUE, FALSE)], search_parameters[c(FALSE, TRUE)], sep='=', collapse='&'), sep='')"
   ]
  },
  {
   "cell_type": "code",
   "execution_count": 6,
   "metadata": {
    "collapsed": true
   },
   "outputs": [],
   "source": [
    "new_data <- fromJSON(search_url)"
   ]
  },
  {
   "cell_type": "code",
   "execution_count": 7,
   "metadata": {},
   "outputs": [
    {
     "data": {
      "text/html": [
       "<ol class=list-inline>\n",
       "\t<li>2</li>\n",
       "\t<li>41</li>\n",
       "</ol>\n"
      ],
      "text/latex": [
       "\\begin{enumerate*}\n",
       "\\item 2\n",
       "\\item 41\n",
       "\\end{enumerate*}\n"
      ],
      "text/markdown": [
       "1. 2\n",
       "2. 41\n",
       "\n",
       "\n"
      ],
      "text/plain": [
       "[1]  2 41"
      ]
     },
     "metadata": {},
     "output_type": "display_data"
    }
   ],
   "source": [
    "dim(new_data$data)"
   ]
  },
  {
   "cell_type": "code",
   "execution_count": 8,
   "metadata": {},
   "outputs": [
    {
     "data": {
      "text/html": [
       "<table>\n",
       "<thead><tr><th scope=col>species_authorship</th><th scope=col>updated</th><th scope=col>family</th><th scope=col>acronym</th><th scope=col>species_status</th><th scope=col>significance</th><th scope=col>gpsbased</th><th scope=col>species_epithet</th><th scope=col>country</th><th scope=col>identification_finished</th><th scope=col>⋯</th><th scope=col>additionals</th><th scope=col>collection_finished</th><th scope=col>branch</th><th scope=col>short_note</th><th scope=col>latitude</th><th scope=col>region</th><th scope=col>genus</th><th scope=col>fieldid</th><th scope=col>infraspecific_epithet</th><th scope=col>details</th></tr></thead>\n",
       "<tbody>\n",
       "\t<tr><td>Tzvelev                                                                                                                     </td><td>2017-06-13                                                                                                                  </td><td>DRYOPTERIDACEAE                                                                                                             </td><td>VBGI                                                                                                                        </td><td>From plantlist                                                                                                              </td><td>                                                                                                                            </td><td>FALSE                                                                                                                       </td><td>subtripteron                                                                                                                </td><td>                                                                                                                            </td><td>                                                                                                                            </td><td>⋯                                                                                                                           </td><td>NULL                                                                                                                        </td><td>2014-05-20                                                                                                                  </td><td>                                                                                                                            </td><td>                                                                                                                            </td><td>43.53312                                                                                                                    </td><td>Приморский край                                                                                                             </td><td>Polystichum                                                                                                                 </td><td>                                                                                                                            </td><td>                                                                                                                            </td><td>Борисовское плато. верх. течение р. Нежинка, р. Раздольненский, долинный смешанный лес на надпойменной террасе.             </td></tr>\n",
       "\t<tr><td>Tzvelev                                                                                                                     </td><td>2017-06-13                                                                                                                  </td><td>DRYOPTERIDACEAE                                                                                                             </td><td>VBGI                                                                                                                        </td><td>From plantlist                                                                                                              </td><td>                                                                                                                            </td><td>FALSE                                                                                                                       </td><td>subtripteron                                                                                                                </td><td>                                                                                                                            </td><td>                                                                                                                            </td><td>⋯                                                                                                                           </td><td>NULL                                                                                                                        </td><td>                                                                                                                            </td><td>                                                                                                                            </td><td>                                                                                                                            </td><td>43.44694                                                                                                                    </td><td>Приморский край                                                                                                             </td><td>Polystichum                                                                                                                 </td><td>                                                                                                                            </td><td>                                                                                                                            </td><td>Борисовское плато, верх. течение р. Нежинка, выше устья руч. Раздольненский, долинный смешанный лес на надпойменной террасе.</td></tr>\n",
       "</tbody>\n",
       "</table>\n"
      ],
      "text/latex": [
       "\\begin{tabular}{r|lllllllllllllllllllllllllllllllllllllllll}\n",
       " species\\_authorship & updated & family & acronym & species\\_status & significance & gpsbased & species\\_epithet & country & identification\\_finished & ⋯ & additionals & collection\\_finished & branch & short\\_note & latitude & region & genus & fieldid & infraspecific\\_epithet & details\\\\\n",
       "\\hline\n",
       "\t Tzvelev                                                                                                                      & 2017-06-13                                                                                                                   & DRYOPTERIDACEAE                                                                                                              & VBGI                                                                                                                         & From plantlist                                                                                                               &                                                                                                                              & FALSE                                                                                                                        & subtripteron                                                                                                                 &                                                                                                                              &                                                                                                                              & ⋯                                                                                                                            & NULL                                                                                                                         & 2014-05-20                                                                                                                   &                                                                                                                              &                                                                                                                              & 43.53312                                                                                                                     & Приморский край                                                                                                              & Polystichum                                                                                                                  &                                                                                                                              &                                                                                                                              & Борисовское плато. верх. течение р. Нежинка, р. Раздольненский, долинный смешанный лес на надпойменной террасе.             \\\\\n",
       "\t Tzvelev                                                                                                                      & 2017-06-13                                                                                                                   & DRYOPTERIDACEAE                                                                                                              & VBGI                                                                                                                         & From plantlist                                                                                                               &                                                                                                                              & FALSE                                                                                                                        & subtripteron                                                                                                                 &                                                                                                                              &                                                                                                                              & ⋯                                                                                                                            & NULL                                                                                                                         &                                                                                                                              &                                                                                                                              &                                                                                                                              & 43.44694                                                                                                                     & Приморский край                                                                                                              & Polystichum                                                                                                                  &                                                                                                                              &                                                                                                                              & Борисовское плато, верх. течение р. Нежинка, выше устья руч. Раздольненский, долинный смешанный лес на надпойменной террасе.\\\\\n",
       "\\end{tabular}\n"
      ],
      "text/markdown": [
       "\n",
       "species_authorship | updated | family | acronym | species_status | significance | gpsbased | species_epithet | country | identification_finished | ⋯ | additionals | collection_finished | branch | short_note | latitude | region | genus | fieldid | infraspecific_epithet | details | \n",
       "|---|---|\n",
       "| Tzvelev                                                                                                                      | 2017-06-13                                                                                                                   | DRYOPTERIDACEAE                                                                                                              | VBGI                                                                                                                         | From plantlist                                                                                                               |                                                                                                                              | FALSE                                                                                                                        | subtripteron                                                                                                                 |                                                                                                                              |                                                                                                                              | ⋯                                                                                                                            | NULL                                                                                                                         | 2014-05-20                                                                                                                   |                                                                                                                              |                                                                                                                              | 43.53312                                                                                                                     | Приморский край                                                                                                              | Polystichum                                                                                                                  |                                                                                                                              |                                                                                                                              | Борисовское плато. верх. течение р. Нежинка, р. Раздольненский, долинный смешанный лес на надпойменной террасе.              | \n",
       "| Tzvelev                                                                                                                      | 2017-06-13                                                                                                                   | DRYOPTERIDACEAE                                                                                                              | VBGI                                                                                                                         | From plantlist                                                                                                               |                                                                                                                              | FALSE                                                                                                                        | subtripteron                                                                                                                 |                                                                                                                              |                                                                                                                              | ⋯                                                                                                                            | NULL                                                                                                                         |                                                                                                                              |                                                                                                                              |                                                                                                                              | 43.44694                                                                                                                     | Приморский край                                                                                                              | Polystichum                                                                                                                  |                                                                                                                              |                                                                                                                              | Борисовское плато, верх. течение р. Нежинка, выше устья руч. Раздольненский, долинный смешанный лес на надпойменной террасе. | \n",
       "\n",
       "\n"
      ],
      "text/plain": [
       "  species_authorship updated    family          acronym species_status\n",
       "1 Tzvelev            2017-06-13 DRYOPTERIDACEAE VBGI    From plantlist\n",
       "2 Tzvelev            2017-06-13 DRYOPTERIDACEAE VBGI    From plantlist\n",
       "  significance gpsbased species_epithet country identification_finished ⋯\n",
       "1              FALSE    subtripteron                                    ⋯\n",
       "2              FALSE    subtripteron                                    ⋯\n",
       "  additionals collection_finished branch short_note latitude region         \n",
       "1 NULL        2014-05-20                            43.53312 Приморский край\n",
       "2 NULL                                              43.44694 Приморский край\n",
       "  genus       fieldid infraspecific_epithet\n",
       "1 Polystichum                              \n",
       "2 Polystichum                              \n",
       "  details                                                                                                                     \n",
       "1 Борисовское плато. верх. течение р. Нежинка, р. Раздольненский, долинный смешанный лес на надпойменной террасе.             \n",
       "2 Борисовское плато, верх. течение р. Нежинка, выше устья руч. Раздольненский, долинный смешанный лес на надпойменной террасе."
      ]
     },
     "metadata": {},
     "output_type": "display_data"
    }
   ],
   "source": [
    "new_data$data"
   ]
  },
  {
   "cell_type": "markdown",
   "metadata": {},
   "source": [
    "Вложенные структуры данных, представленные полями `dethistory` и `additionals`, также корректно преобразуются в data.frame посредством функции `fromJSON`:"
   ]
  },
  {
   "cell_type": "code",
   "execution_count": 9,
   "metadata": {},
   "outputs": [
    {
     "data": {
      "text/html": [
       "<ol>\n",
       "\t<li></li>\n",
       "\t<li><table>\n",
       "<thead><tr><th scope=col>species_authorship</th><th scope=col>family</th><th scope=col>species_status</th><th scope=col>species_epithet</th><th scope=col>infraspecific_authorship</th><th scope=col>infraspecific_rank</th><th scope=col>genus_authorship</th><th scope=col>species_fullname</th><th scope=col>species_id</th><th scope=col>valid_from</th><th scope=col>identifiers</th><th scope=col>family_authorship</th><th scope=col>valid_to</th><th scope=col>significance</th><th scope=col>genus</th><th scope=col>infraspecific_epithet</th></tr></thead>\n",
       "<tbody>\n",
       "\t<tr><td>Tzvelev                         </td><td>DRYOPTERIDACEAE                 </td><td>From plantlist                  </td><td>subtripteron                    </td><td>                                </td><td>                                </td><td>                                </td><td>Polystichum subtripteron Tzvelev</td><td>216942                          </td><td>2016-09-17                      </td><td>Храпко О.В.                     </td><td>                                </td><td>                                </td><td>                                </td><td>Polystichum                     </td><td>                                </td></tr>\n",
       "</tbody>\n",
       "</table>\n",
       "</li>\n",
       "</ol>\n"
      ],
      "text/latex": [
       "\\begin{enumerate}\n",
       "\\item \n",
       "\\item \\begin{tabular}{r|llllllllllllllll}\n",
       " species\\_authorship & family & species\\_status & species\\_epithet & infraspecific\\_authorship & infraspecific\\_rank & genus\\_authorship & species\\_fullname & species\\_id & valid\\_from & identifiers & family\\_authorship & valid\\_to & significance & genus & infraspecific\\_epithet\\\\\n",
       "\\hline\n",
       "\t Tzvelev                          & DRYOPTERIDACEAE                  & From plantlist                   & subtripteron                     &                                  &                                  &                                  & Polystichum subtripteron Tzvelev & 216942                           & 2016-09-17                       & Храпко О.В.                      &                                  &                                  &                                  & Polystichum                      &                                 \\\\\n",
       "\\end{tabular}\n",
       "\n",
       "\\end{enumerate}\n"
      ],
      "text/markdown": [
       "1. \n",
       "2. \n",
       "species_authorship | family | species_status | species_epithet | infraspecific_authorship | infraspecific_rank | genus_authorship | species_fullname | species_id | valid_from | identifiers | family_authorship | valid_to | significance | genus | infraspecific_epithet | \n",
       "|---|\n",
       "| Tzvelev                          | DRYOPTERIDACEAE                  | From plantlist                   | subtripteron                     |                                  |                                  |                                  | Polystichum subtripteron Tzvelev | 216942                           | 2016-09-17                       | Храпко О.В.                      |                                  |                                  |                                  | Polystichum                      |                                  | \n",
       "\n",
       "\n",
       "\n",
       "\n",
       "\n"
      ],
      "text/plain": [
       "[[1]]\n",
       "data frame with 0 columns and 0 rows\n",
       "\n",
       "[[2]]\n",
       "  species_authorship          family species_status species_epithet\n",
       "1            Tzvelev DRYOPTERIDACEAE From plantlist    subtripteron\n",
       "  infraspecific_authorship infraspecific_rank genus_authorship\n",
       "1                                                             \n",
       "                  species_fullname species_id valid_from identifiers\n",
       "1 Polystichum subtripteron Tzvelev     216942 2016-09-17 Храпко О.В.\n",
       "  family_authorship valid_to significance       genus infraspecific_epithet\n",
       "1                                         Polystichum                      \n"
      ]
     },
     "metadata": {},
     "output_type": "display_data"
    }
   ],
   "source": [
    "new_data$data$dethistory"
   ]
  },
  {
   "cell_type": "markdown",
   "metadata": {},
   "source": [
    "Поскольку информация о гербарных сборах хранится в аттрибует `data` при загрузке данных с сервера, можно ввести вспомогательную переменную, чтобы не писать многократно `new_data$data` при обращении к данным:"
   ]
  },
  {
   "cell_type": "code",
   "execution_count": 10,
   "metadata": {
    "collapsed": true
   },
   "outputs": [],
   "source": [
    "my_data <- data$data"
   ]
  },
  {
   "cell_type": "code",
   "execution_count": 11,
   "metadata": {},
   "outputs": [
    {
     "data": {
      "text/html": [
       "<table>\n",
       "<thead><tr><th scope=col>Var1</th><th scope=col>Freq</th></tr></thead>\n",
       "<tbody>\n",
       "\t<tr><td>ACORACEAE       </td><td> 1              </td></tr>\n",
       "\t<tr><td>ACTINIDIACEAE   </td><td> 4              </td></tr>\n",
       "\t<tr><td>ADOXACEAE       </td><td>14              </td></tr>\n",
       "\t<tr><td>ALISMATACEAE    </td><td> 1              </td></tr>\n",
       "\t<tr><td>ALLISONIACEAE   </td><td> 2              </td></tr>\n",
       "\t<tr><td>AMARANTHACEAE   </td><td> 1              </td></tr>\n",
       "\t<tr><td>AMARYLLIDACEAE  </td><td>10              </td></tr>\n",
       "\t<tr><td>APIACEAE        </td><td>23              </td></tr>\n",
       "\t<tr><td>APOCYNACEAE     </td><td> 3              </td></tr>\n",
       "\t<tr><td>AQUIFOLIACEAE   </td><td> 1              </td></tr>\n",
       "\t<tr><td>ARACEAE         </td><td>11              </td></tr>\n",
       "\t<tr><td>ARALIACEAE      </td><td>13              </td></tr>\n",
       "\t<tr><td>ARISTOLOCHIACEAE</td><td> 9              </td></tr>\n",
       "\t<tr><td>ASPARAGACEAE    </td><td>17              </td></tr>\n",
       "\t<tr><td>ASPLENIACEAE    </td><td> 3              </td></tr>\n",
       "\t<tr><td>ATHYRIACEAE     </td><td>78              </td></tr>\n",
       "\t<tr><td>AYTONIACEAE     </td><td> 1              </td></tr>\n",
       "\t<tr><td>BERBERIDACEAE   </td><td> 8              </td></tr>\n",
       "\t<tr><td>BETULACEAE      </td><td>21              </td></tr>\n",
       "\t<tr><td>BORAGINACEAE    </td><td>16              </td></tr>\n",
       "\t<tr><td>BRASSICACEAE    </td><td>26              </td></tr>\n",
       "\t<tr><td>CAMPANULACEAE   </td><td> 4              </td></tr>\n",
       "\t<tr><td>CAPRIFOLIACEAE  </td><td>19              </td></tr>\n",
       "\t<tr><td>CARYOPHYLLACEAE </td><td>22              </td></tr>\n",
       "\t<tr><td>CELASTRACEAE    </td><td> 2              </td></tr>\n",
       "\t<tr><td>CHLORANTHACEAE  </td><td> 5              </td></tr>\n",
       "\t<tr><td>COMPOSITAE      </td><td>58              </td></tr>\n",
       "\t<tr><td>CONOCEPHALACEAE </td><td> 2              </td></tr>\n",
       "\t<tr><td>CRASSULACEAE    </td><td> 9              </td></tr>\n",
       "\t<tr><td>CUCURBITACEAE   </td><td> 1              </td></tr>\n",
       "\t<tr><td>⋮</td><td>⋮</td></tr>\n",
       "\t<tr><td>PHRYMACEAE      </td><td> 1              </td></tr>\n",
       "\t<tr><td>PINACEAE        </td><td> 9              </td></tr>\n",
       "\t<tr><td>PLANTAGINACEAE  </td><td> 1              </td></tr>\n",
       "\t<tr><td>POACEAE         </td><td>61              </td></tr>\n",
       "\t<tr><td>POLEMONIACEAE   </td><td> 2              </td></tr>\n",
       "\t<tr><td>POLYGALACEAE    </td><td> 1              </td></tr>\n",
       "\t<tr><td>POLYGONACEAE    </td><td> 7              </td></tr>\n",
       "\t<tr><td>POLYPODIACEAE   </td><td> 8              </td></tr>\n",
       "\t<tr><td>PONTEDERIACEAE  </td><td> 1              </td></tr>\n",
       "\t<tr><td>POTAMOGETONACEAE</td><td> 1              </td></tr>\n",
       "\t<tr><td>PRIMULACEAE     </td><td> 7              </td></tr>\n",
       "\t<tr><td>PTERIDACEAE     </td><td>20              </td></tr>\n",
       "\t<tr><td>RANUNCULACEAE   </td><td>51              </td></tr>\n",
       "\t<tr><td>RHAMNACEAE      </td><td>14              </td></tr>\n",
       "\t<tr><td>ROSACEAE        </td><td>75              </td></tr>\n",
       "\t<tr><td>RUBIACEAE       </td><td>18              </td></tr>\n",
       "\t<tr><td>RUTACEAE        </td><td> 5              </td></tr>\n",
       "\t<tr><td>SALICACEAE      </td><td>65              </td></tr>\n",
       "\t<tr><td>SANTALACEAE     </td><td> 5              </td></tr>\n",
       "\t<tr><td>SAPINDACEAE     </td><td>17              </td></tr>\n",
       "\t<tr><td>SAXIFRAGACEAE   </td><td> 2              </td></tr>\n",
       "\t<tr><td>SMILACACEAE     </td><td> 1              </td></tr>\n",
       "\t<tr><td>TAXACEAE        </td><td> 1              </td></tr>\n",
       "\t<tr><td>THELYPTERIDACEAE</td><td>16              </td></tr>\n",
       "\t<tr><td>ULMACEAE        </td><td> 2              </td></tr>\n",
       "\t<tr><td>URTICACEAE      </td><td> 2              </td></tr>\n",
       "\t<tr><td>VIOLACEAE       </td><td>46              </td></tr>\n",
       "\t<tr><td>VITACEAE        </td><td> 2              </td></tr>\n",
       "\t<tr><td>WOODSIACEAE     </td><td>31              </td></tr>\n",
       "\t<tr><td>XANTHORRHOEACEAE</td><td> 4              </td></tr>\n",
       "</tbody>\n",
       "</table>\n"
      ],
      "text/latex": [
       "\\begin{tabular}{r|ll}\n",
       " Var1 & Freq\\\\\n",
       "\\hline\n",
       "\t ACORACEAE        &  1              \\\\\n",
       "\t ACTINIDIACEAE    &  4              \\\\\n",
       "\t ADOXACEAE        & 14              \\\\\n",
       "\t ALISMATACEAE     &  1              \\\\\n",
       "\t ALLISONIACEAE    &  2              \\\\\n",
       "\t AMARANTHACEAE    &  1              \\\\\n",
       "\t AMARYLLIDACEAE   & 10              \\\\\n",
       "\t APIACEAE         & 23              \\\\\n",
       "\t APOCYNACEAE      &  3              \\\\\n",
       "\t AQUIFOLIACEAE    &  1              \\\\\n",
       "\t ARACEAE          & 11              \\\\\n",
       "\t ARALIACEAE       & 13              \\\\\n",
       "\t ARISTOLOCHIACEAE &  9              \\\\\n",
       "\t ASPARAGACEAE     & 17              \\\\\n",
       "\t ASPLENIACEAE     &  3              \\\\\n",
       "\t ATHYRIACEAE      & 78              \\\\\n",
       "\t AYTONIACEAE      &  1              \\\\\n",
       "\t BERBERIDACEAE    &  8              \\\\\n",
       "\t BETULACEAE       & 21              \\\\\n",
       "\t BORAGINACEAE     & 16              \\\\\n",
       "\t BRASSICACEAE     & 26              \\\\\n",
       "\t CAMPANULACEAE    &  4              \\\\\n",
       "\t CAPRIFOLIACEAE   & 19              \\\\\n",
       "\t CARYOPHYLLACEAE  & 22              \\\\\n",
       "\t CELASTRACEAE     &  2              \\\\\n",
       "\t CHLORANTHACEAE   &  5              \\\\\n",
       "\t COMPOSITAE       & 58              \\\\\n",
       "\t CONOCEPHALACEAE  &  2              \\\\\n",
       "\t CRASSULACEAE     &  9              \\\\\n",
       "\t CUCURBITACEAE    &  1              \\\\\n",
       "\t ⋮ & ⋮\\\\\n",
       "\t PHRYMACEAE       &  1              \\\\\n",
       "\t PINACEAE         &  9              \\\\\n",
       "\t PLANTAGINACEAE   &  1              \\\\\n",
       "\t POACEAE          & 61              \\\\\n",
       "\t POLEMONIACEAE    &  2              \\\\\n",
       "\t POLYGALACEAE     &  1              \\\\\n",
       "\t POLYGONACEAE     &  7              \\\\\n",
       "\t POLYPODIACEAE    &  8              \\\\\n",
       "\t PONTEDERIACEAE   &  1              \\\\\n",
       "\t POTAMOGETONACEAE &  1              \\\\\n",
       "\t PRIMULACEAE      &  7              \\\\\n",
       "\t PTERIDACEAE      & 20              \\\\\n",
       "\t RANUNCULACEAE    & 51              \\\\\n",
       "\t RHAMNACEAE       & 14              \\\\\n",
       "\t ROSACEAE         & 75              \\\\\n",
       "\t RUBIACEAE        & 18              \\\\\n",
       "\t RUTACEAE         &  5              \\\\\n",
       "\t SALICACEAE       & 65              \\\\\n",
       "\t SANTALACEAE      &  5              \\\\\n",
       "\t SAPINDACEAE      & 17              \\\\\n",
       "\t SAXIFRAGACEAE    &  2              \\\\\n",
       "\t SMILACACEAE      &  1              \\\\\n",
       "\t TAXACEAE         &  1              \\\\\n",
       "\t THELYPTERIDACEAE & 16              \\\\\n",
       "\t ULMACEAE         &  2              \\\\\n",
       "\t URTICACEAE       &  2              \\\\\n",
       "\t VIOLACEAE        & 46              \\\\\n",
       "\t VITACEAE         &  2              \\\\\n",
       "\t WOODSIACEAE      & 31              \\\\\n",
       "\t XANTHORRHOEACEAE &  4              \\\\\n",
       "\\end{tabular}\n"
      ],
      "text/markdown": [
       "\n",
       "Var1 | Freq | \n",
       "|---|---|---|---|---|---|---|---|---|---|---|---|---|---|---|---|---|---|---|---|---|---|---|---|---|---|---|---|---|---|---|---|---|---|---|---|---|---|---|---|---|---|---|---|---|---|---|---|---|---|---|---|---|---|---|---|---|---|---|---|---|\n",
       "| ACORACEAE        |  1               | \n",
       "| ACTINIDIACEAE    |  4               | \n",
       "| ADOXACEAE        | 14               | \n",
       "| ALISMATACEAE     |  1               | \n",
       "| ALLISONIACEAE    |  2               | \n",
       "| AMARANTHACEAE    |  1               | \n",
       "| AMARYLLIDACEAE   | 10               | \n",
       "| APIACEAE         | 23               | \n",
       "| APOCYNACEAE      |  3               | \n",
       "| AQUIFOLIACEAE    |  1               | \n",
       "| ARACEAE          | 11               | \n",
       "| ARALIACEAE       | 13               | \n",
       "| ARISTOLOCHIACEAE |  9               | \n",
       "| ASPARAGACEAE     | 17               | \n",
       "| ASPLENIACEAE     |  3               | \n",
       "| ATHYRIACEAE      | 78               | \n",
       "| AYTONIACEAE      |  1               | \n",
       "| BERBERIDACEAE    |  8               | \n",
       "| BETULACEAE       | 21               | \n",
       "| BORAGINACEAE     | 16               | \n",
       "| BRASSICACEAE     | 26               | \n",
       "| CAMPANULACEAE    |  4               | \n",
       "| CAPRIFOLIACEAE   | 19               | \n",
       "| CARYOPHYLLACEAE  | 22               | \n",
       "| CELASTRACEAE     |  2               | \n",
       "| CHLORANTHACEAE   |  5               | \n",
       "| COMPOSITAE       | 58               | \n",
       "| CONOCEPHALACEAE  |  2               | \n",
       "| CRASSULACEAE     |  9               | \n",
       "| CUCURBITACEAE    |  1               | \n",
       "| ⋮ | ⋮ | \n",
       "| PHRYMACEAE       |  1               | \n",
       "| PINACEAE         |  9               | \n",
       "| PLANTAGINACEAE   |  1               | \n",
       "| POACEAE          | 61               | \n",
       "| POLEMONIACEAE    |  2               | \n",
       "| POLYGALACEAE     |  1               | \n",
       "| POLYGONACEAE     |  7               | \n",
       "| POLYPODIACEAE    |  8               | \n",
       "| PONTEDERIACEAE   |  1               | \n",
       "| POTAMOGETONACEAE |  1               | \n",
       "| PRIMULACEAE      |  7               | \n",
       "| PTERIDACEAE      | 20               | \n",
       "| RANUNCULACEAE    | 51               | \n",
       "| RHAMNACEAE       | 14               | \n",
       "| ROSACEAE         | 75               | \n",
       "| RUBIACEAE        | 18               | \n",
       "| RUTACEAE         |  5               | \n",
       "| SALICACEAE       | 65               | \n",
       "| SANTALACEAE      |  5               | \n",
       "| SAPINDACEAE      | 17               | \n",
       "| SAXIFRAGACEAE    |  2               | \n",
       "| SMILACACEAE      |  1               | \n",
       "| TAXACEAE         |  1               | \n",
       "| THELYPTERIDACEAE | 16               | \n",
       "| ULMACEAE         |  2               | \n",
       "| URTICACEAE       |  2               | \n",
       "| VIOLACEAE        | 46               | \n",
       "| VITACEAE         |  2               | \n",
       "| WOODSIACEAE      | 31               | \n",
       "| XANTHORRHOEACEAE |  4               | \n",
       "\n",
       "\n"
      ],
      "text/plain": [
       "   Var1             Freq\n",
       "1  ACORACEAE         1  \n",
       "2  ACTINIDIACEAE     4  \n",
       "3  ADOXACEAE        14  \n",
       "4  ALISMATACEAE      1  \n",
       "5  ALLISONIACEAE     2  \n",
       "6  AMARANTHACEAE     1  \n",
       "7  AMARYLLIDACEAE   10  \n",
       "8  APIACEAE         23  \n",
       "9  APOCYNACEAE       3  \n",
       "10 AQUIFOLIACEAE     1  \n",
       "11 ARACEAE          11  \n",
       "12 ARALIACEAE       13  \n",
       "13 ARISTOLOCHIACEAE  9  \n",
       "14 ASPARAGACEAE     17  \n",
       "15 ASPLENIACEAE      3  \n",
       "16 ATHYRIACEAE      78  \n",
       "17 AYTONIACEAE       1  \n",
       "18 BERBERIDACEAE     8  \n",
       "19 BETULACEAE       21  \n",
       "20 BORAGINACEAE     16  \n",
       "21 BRASSICACEAE     26  \n",
       "22 CAMPANULACEAE     4  \n",
       "23 CAPRIFOLIACEAE   19  \n",
       "24 CARYOPHYLLACEAE  22  \n",
       "25 CELASTRACEAE      2  \n",
       "26 CHLORANTHACEAE    5  \n",
       "27 COMPOSITAE       58  \n",
       "28 CONOCEPHALACEAE   2  \n",
       "29 CRASSULACEAE      9  \n",
       "30 CUCURBITACEAE     1  \n",
       "⋮  ⋮                ⋮   \n",
       "70 PHRYMACEAE        1  \n",
       "71 PINACEAE          9  \n",
       "72 PLANTAGINACEAE    1  \n",
       "73 POACEAE          61  \n",
       "74 POLEMONIACEAE     2  \n",
       "75 POLYGALACEAE      1  \n",
       "76 POLYGONACEAE      7  \n",
       "77 POLYPODIACEAE     8  \n",
       "78 PONTEDERIACEAE    1  \n",
       "79 POTAMOGETONACEAE  1  \n",
       "80 PRIMULACEAE       7  \n",
       "81 PTERIDACEAE      20  \n",
       "82 RANUNCULACEAE    51  \n",
       "83 RHAMNACEAE       14  \n",
       "84 ROSACEAE         75  \n",
       "85 RUBIACEAE        18  \n",
       "86 RUTACEAE          5  \n",
       "87 SALICACEAE       65  \n",
       "88 SANTALACEAE       5  \n",
       "89 SAPINDACEAE      17  \n",
       "90 SAXIFRAGACEAE     2  \n",
       "91 SMILACACEAE       1  \n",
       "92 TAXACEAE          1  \n",
       "93 THELYPTERIDACEAE 16  \n",
       "94 ULMACEAE          2  \n",
       "95 URTICACEAE        2  \n",
       "96 VIOLACEAE        46  \n",
       "97 VITACEAE          2  \n",
       "98 WOODSIACEAE      31  \n",
       "99 XANTHORRHOEACEAE  4  "
      ]
     },
     "metadata": {},
     "output_type": "display_data"
    }
   ],
   "source": [
    "data.frame(table(my_data$family))"
   ]
  },
  {
   "cell_type": "markdown",
   "metadata": {},
   "source": [
    "Для статистеской среды R создано огромное количество пакетов для решения задач статистической обработки данных практически на все случаи жизни. Например, если необходимо вычислить индекс биоразнообразия Шеннона, можно воспользоваться пакетом [vegan](http://cc.oulu.fi/~jarioksa/softhelp/vegan/), который также включает множество других дополнительных возможностей для решения задач обработки ботанических данных."
   ]
  },
  {
   "cell_type": "code",
   "execution_count": 12,
   "metadata": {},
   "outputs": [
    {
     "name": "stderr",
     "output_type": "stream",
     "text": [
      "Loading required package: permute\n",
      "Loading required package: lattice\n",
      "This is vegan 2.4-3\n"
     ]
    }
   ],
   "source": [
    "library(vegan)"
   ]
  },
  {
   "cell_type": "markdown",
   "metadata": {},
   "source": [
    "Индекс биоразнообразия Шэннона по аттрибуту \"Семейство\" (Family):"
   ]
  },
  {
   "cell_type": "code",
   "execution_count": 13,
   "metadata": {},
   "outputs": [
    {
     "data": {
      "text/html": [
       "3.89076611655237"
      ],
      "text/latex": [
       "3.89076611655237"
      ],
      "text/markdown": [
       "3.89076611655237"
      ],
      "text/plain": [
       "[1] 3.890766"
      ]
     },
     "metadata": {},
     "output_type": "display_data"
    }
   ],
   "source": [
    "diversity(table(my_data$family))"
   ]
  },
  {
   "cell_type": "markdown",
   "metadata": {},
   "source": [
    "## Эмуляция OR-запросов"
   ]
  },
  {
   "cell_type": "markdown",
   "metadata": {},
   "source": [
    "Поскольку HTTP-API при задании нескольких GET-параметров выполняет поиск тех записей, у которых одновременно выполняются все поисковые условия (т.е. AND-поисковый запрос), для имитации условий типа ИЛИ (OR) необходимо выполнить несколько последовательных запросов к поисковому сервису с последующей склейкой полученных результатов по уникальному коду записей ID.\n",
    "\n",
    "Приведем пример выполнения OR-запроса; определим два набора параметров запроса в переменных `search_parameters1` и `search_parameters2`:"
   ]
  },
  {
   "cell_type": "code",
   "execution_count": 14,
   "metadata": {
    "collapsed": true
   },
   "outputs": [],
   "source": [
    "search_parameters1 <- c('identifiedby', 'Пименова', 'collectedby', 'Пименова')\n",
    "search_parameters2 <- c('identifiedby', 'Крестов', 'collectedby', 'Крестов')\n",
    "search_url1 <- paste(http_api_base_url, paste(search_parameters1[c(TRUE, FALSE)], search_parameters1[c(FALSE, TRUE)], sep='=', collapse='&'), sep='')\n",
    "search_url2 <- paste(http_api_base_url, paste(search_parameters2[c(TRUE, FALSE)], search_parameters2[c(FALSE, TRUE)], sep='=', collapse='&'), sep='')"
   ]
  },
  {
   "cell_type": "code",
   "execution_count": 15,
   "metadata": {},
   "outputs": [
    {
     "data": {
      "text/html": [
       "'http://botsad.ru/hitem/json/?identifiedby=Пименова&amp;collectedby=Пименова'"
      ],
      "text/latex": [
       "'http://botsad.ru/hitem/json/?identifiedby=Пименова\\&collectedby=Пименова'"
      ],
      "text/markdown": [
       "'http://botsad.ru/hitem/json/?identifiedby=Пименова&amp;collectedby=Пименова'"
      ],
      "text/plain": [
       "[1] \"http://botsad.ru/hitem/json/?identifiedby=Пименова&collectedby=Пименова\""
      ]
     },
     "metadata": {},
     "output_type": "display_data"
    }
   ],
   "source": [
    "search_url1"
   ]
  },
  {
   "cell_type": "code",
   "execution_count": 16,
   "metadata": {},
   "outputs": [
    {
     "data": {
      "text/html": [
       "'http://botsad.ru/hitem/json/?identifiedby=Крестов&amp;collectedby=Крестов'"
      ],
      "text/latex": [
       "'http://botsad.ru/hitem/json/?identifiedby=Крестов\\&collectedby=Крестов'"
      ],
      "text/markdown": [
       "'http://botsad.ru/hitem/json/?identifiedby=Крестов&amp;collectedby=Крестов'"
      ],
      "text/plain": [
       "[1] \"http://botsad.ru/hitem/json/?identifiedby=Крестов&collectedby=Крестов\""
      ]
     },
     "metadata": {},
     "output_type": "display_data"
    }
   ],
   "source": [
    "search_url2"
   ]
  },
  {
   "cell_type": "code",
   "execution_count": 17,
   "metadata": {
    "collapsed": true
   },
   "outputs": [],
   "source": [
    "dataset1 <- fromJSON(search_url1)\n",
    "dataset2 <- fromJSON(search_url2)"
   ]
  },
  {
   "cell_type": "code",
   "execution_count": 18,
   "metadata": {
    "collapsed": true
   },
   "outputs": [],
   "source": [
    "df1<-data.frame(dataset1$data)\n",
    "df2<-data.frame(dataset2$data)"
   ]
  },
  {
   "cell_type": "code",
   "execution_count": 19,
   "metadata": {
    "collapsed": true
   },
   "outputs": [],
   "source": [
    "merged_data <- rbind(df1, df2)"
   ]
  },
  {
   "cell_type": "code",
   "execution_count": 20,
   "metadata": {},
   "outputs": [
    {
     "data": {
      "text/html": [
       "<ol class=list-inline>\n",
       "\t<li>179</li>\n",
       "\t<li>41</li>\n",
       "</ol>\n"
      ],
      "text/latex": [
       "\\begin{enumerate*}\n",
       "\\item 179\n",
       "\\item 41\n",
       "\\end{enumerate*}\n"
      ],
      "text/markdown": [
       "1. 179\n",
       "2. 41\n",
       "\n",
       "\n"
      ],
      "text/plain": [
       "[1] 179  41"
      ]
     },
     "metadata": {},
     "output_type": "display_data"
    },
    {
     "data": {
      "text/html": [
       "<ol class=list-inline>\n",
       "\t<li>1008</li>\n",
       "\t<li>41</li>\n",
       "</ol>\n"
      ],
      "text/latex": [
       "\\begin{enumerate*}\n",
       "\\item 1008\n",
       "\\item 41\n",
       "\\end{enumerate*}\n"
      ],
      "text/markdown": [
       "1. 1008\n",
       "2. 41\n",
       "\n",
       "\n"
      ],
      "text/plain": [
       "[1] 1008   41"
      ]
     },
     "metadata": {},
     "output_type": "display_data"
    },
    {
     "data": {
      "text/html": [
       "<ol class=list-inline>\n",
       "\t<li>1187</li>\n",
       "\t<li>41</li>\n",
       "</ol>\n"
      ],
      "text/latex": [
       "\\begin{enumerate*}\n",
       "\\item 1187\n",
       "\\item 41\n",
       "\\end{enumerate*}\n"
      ],
      "text/markdown": [
       "1. 1187\n",
       "2. 41\n",
       "\n",
       "\n"
      ],
      "text/plain": [
       "[1] 1187   41"
      ]
     },
     "metadata": {},
     "output_type": "display_data"
    }
   ],
   "source": [
    "dim(df2)\n",
    "dim(df1)\n",
    "dim(merged_data)"
   ]
  },
  {
   "cell_type": "markdown",
   "metadata": {},
   "source": [
    "Сейчас переменная `merged_data` может содержать дублирующиеся строки; эти строки можно удалить, используя тот факт, что параметр `id` является для них уникальным."
   ]
  },
  {
   "cell_type": "code",
   "execution_count": 21,
   "metadata": {
    "collapsed": true
   },
   "outputs": [],
   "source": [
    "data_without_dups<-merged_data[!duplicated(merged_data$id),]"
   ]
  },
  {
   "cell_type": "code",
   "execution_count": 22,
   "metadata": {},
   "outputs": [
    {
     "data": {
      "text/html": [
       "<ol class=list-inline>\n",
       "\t<li>1185</li>\n",
       "\t<li>41</li>\n",
       "</ol>\n"
      ],
      "text/latex": [
       "\\begin{enumerate*}\n",
       "\\item 1185\n",
       "\\item 41\n",
       "\\end{enumerate*}\n"
      ],
      "text/markdown": [
       "1. 1185\n",
       "2. 41\n",
       "\n",
       "\n"
      ],
      "text/plain": [
       "[1] 1185   41"
      ]
     },
     "metadata": {},
     "output_type": "display_data"
    }
   ],
   "source": [
    "dim(data_without_dups)"
   ]
  },
  {
   "cell_type": "markdown",
   "metadata": {},
   "source": [
    "Таким образом, контейнер данных (`data.frame`) `data_without_dups` представляет собой результат поискового запроса c параметрами `search_parameters1` или `search_parameters2` (т.е. найдены все записи, у которых в сборах и определении участвовал \"Крестов\", либо в сборах и определении участвовала \"Пименова\")."
   ]
  },
  {
   "cell_type": "markdown",
   "metadata": {},
   "source": [
    "## Поиск объектов в заданной области"
   ]
  },
  {
   "cell_type": "markdown",
   "metadata": {},
   "source": [
    "Предположим, что область поиска задана и представляет собой ESRI-shapefile. Поскольку оброботчик поисковых запросов поддреживает задание только прямоугольных областей поиска, поиск по сложной области будет проходить в несколько этапов: 1) определим минимальную по площади прямоугольную область, в которую включается заданная; 2) выполним поиск данных в найденной прямоугольной области; 3) отфильтруем записи, не принадлежащие заданной области.\n",
    "\n",
    "Для чтения shape-файлов в R нам потребуется установить библиотеку `rgdal`. Данный пакет используется отрытую библиотеку для обработки географически распределенных данных GDAL, которая нередко используется при создании различного рода геоинформационных систем (ГИС).\n",
    "\n",
    "Таким образом, установка `rgdal` требует установленной библиотеки [GDAL](http://www.gdal.org/) (наличие GDAL в меньшей степени касается пользователей Windows, поскольку пакет `rgdal` в своем Windows-дистрибутиве уже включает GDAL)."
   ]
  },
  {
   "cell_type": "code",
   "execution_count": 23,
   "metadata": {},
   "outputs": [
    {
     "name": "stderr",
     "output_type": "stream",
     "text": [
      "Loading required package: sp\n",
      "rgdal: version: 1.2-8, (SVN revision 663)\n",
      " Geospatial Data Abstraction Library extensions to R successfully loaded\n",
      " Loaded GDAL runtime: GDAL 1.11.3, released 2015/09/16\n",
      " Path to GDAL shared files: /usr/share/gdal\n",
      " Loaded PROJ.4 runtime: Rel. 4.9.2, 08 September 2015, [PJ_VERSION: 492]\n",
      " Path to PROJ.4 shared files: (autodetected)\n",
      " Linking to sp version: 1.2-5 \n"
     ]
    },
    {
     "name": "stdout",
     "output_type": "stream",
     "text": [
      "OGR data source with driver: ESRI Shapefile \n",
      "Source: \"/home/dmitry/workspace/herbs/herbs/docs/tutorial/R/ru/sakhalin\", layer: \"sakhalin\"\n",
      "with 1 features\n",
      "It has 8 fields\n"
     ]
    }
   ],
   "source": [
    "library('rgdal')\n",
    "shape_rgdal <- readOGR(dsn=path.expand(\"/home/dmitry/workspace/herbs/herbs/docs/tutorial/R/ru/sakhalin\"), layer=\"sakhalin\")"
   ]
  },
  {
   "cell_type": "code",
   "execution_count": 24,
   "metadata": {},
   "outputs": [
    {
     "data": {
      "text/plain": [
       "An object of class \"SpatialPolygonsDataFrame\"\n",
       "Slot \"data\":\n",
       "  iso_code level_4_na level4_cod level4_2 level3_cod level2_cod level1_cod\n",
       "0       RU   Sakhalin     SAK-OO       OO        SAK         31          3\n",
       "  mrgid\n",
       "0 48418\n",
       "\n",
       "Slot \"polygons\":\n",
       "[[1]]\n",
       "An object of class \"Polygons\"\n",
       "Slot \"Polygons\":\n",
       "[[1]]\n",
       "An object of class \"Polygon\"\n",
       "Slot \"labpt\":\n",
       "[1] 142.71208  50.33426\n",
       "\n",
       "Slot \"area\":\n",
       "[1] 9.533439\n",
       "\n",
       "Slot \"hole\":\n",
       "[1] FALSE\n",
       "\n",
       "Slot \"ringDir\":\n",
       "[1] 1\n",
       "\n",
       "Slot \"coords\":\n",
       "           [,1]     [,2]\n",
       "  [1,] 141.8425 53.14527\n",
       "  [2,] 141.8364 53.14888\n",
       "  [3,] 141.8319 53.15277\n",
       "  [4,] 141.8272 53.16666\n",
       "  [5,] 141.8094 53.25639\n",
       "  [6,] 141.8105 53.29527\n",
       "  [7,] 141.7708 53.35833\n",
       "  [8,] 141.7647 53.36500\n",
       "  [9,] 141.7669 53.37138\n",
       " [10,] 141.7780 53.37638\n",
       " [11,] 141.9814 53.45499\n",
       " [12,] 142.0922 53.49138\n",
       " [13,] 142.2136 53.51860\n",
       " [14,] 142.2269 53.51833\n",
       " [15,] 142.2519 53.48555\n",
       " [16,] 142.2539 53.47887\n",
       " [17,] 142.2514 53.47249\n",
       " [18,] 142.2397 53.45305\n",
       " [19,] 142.2364 53.42055\n",
       " [20,] 142.2358 53.40749\n",
       " [21,] 142.2447 53.38721\n",
       " [22,] 142.2533 53.38055\n",
       " [23,] 142.2747 53.36971\n",
       " [24,] 142.3516 53.35610\n",
       " [25,] 142.4641 53.38305\n",
       " [26,] 142.4753 53.38694\n",
       " [27,] 142.4864 53.39194\n",
       " [28,] 142.4955 53.39833\n",
       " [29,] 142.5025 53.40471\n",
       " [30,] 142.5092 53.41110\n",
       " [31,] 142.5208 53.42388\n",
       " [32,] 142.5530 53.46249\n",
       " [33,] 142.5577 53.46888\n",
       " [34,] 142.6803 53.50999\n",
       " [35,] 142.6819 53.52361\n",
       " [36,] 142.6764 53.54305\n",
       " [37,] 142.6722 53.54972\n",
       " [38,] 142.6139 53.56916\n",
       " [39,] 142.6030 53.57055\n",
       " [40,] 142.5591 53.56999\n",
       " [41,] 142.5478 53.56361\n",
       " [42,] 142.5411 53.55721\n",
       " [43,] 142.5364 53.55083\n",
       " [44,] 142.5294 53.54444\n",
       " [45,] 142.5183 53.53805\n",
       " [46,] 142.5119 53.54333\n",
       " [47,] 142.5056 53.55000\n",
       " [48,] 142.5016 53.56305\n",
       " [49,] 142.4950 53.60889\n",
       " [50,] 142.4936 53.62833\n",
       " [51,] 142.4927 53.65443\n",
       " [52,] 142.4950 53.66110\n",
       " [53,] 142.5042 53.66721\n",
       " [54,] 142.5153 53.67110\n",
       " [55,] 142.5375 53.67332\n",
       " [56,] 142.6367 53.67944\n",
       " [57,] 142.6478 53.67666\n",
       " [58,] 142.6583 53.66999\n",
       " [59,] 142.6669 53.66332\n",
       " [60,] 142.6750 53.64999\n",
       " [61,] 142.6769 53.64361\n",
       " [62,] 142.6830 53.63694\n",
       " [63,] 142.6938 53.63027\n",
       " [64,] 142.7047 53.62860\n",
       " [65,] 142.7158 53.62971\n",
       " [66,] 142.7269 53.63361\n",
       " [67,] 142.7361 53.63999\n",
       " [68,] 142.7750 53.67166\n",
       " [69,] 142.7983 53.69749\n",
       " [70,] 142.8008 53.70388\n",
       " [71,] 142.7994 53.71693\n",
       " [72,] 142.7944 53.74972\n",
       " [73,] 142.7858 53.79555\n",
       " [74,] 142.7747 53.83472\n",
       " [75,] 142.7705 53.84138\n",
       " [76,] 142.7594 53.84277\n",
       " [77,] 142.7389 53.82221\n",
       " [78,] 142.7322 53.82154\n",
       " [79,] 142.7254 53.81855\n",
       " [80,] 142.7140 53.80305\n",
       " [81,] 142.7110 53.79538\n",
       " [82,] 142.7092 53.78755\n",
       " [83,] 142.7089 53.77972\n",
       " [84,] 142.7064 53.76772\n",
       " [85,] 142.6891 53.73916\n",
       " [86,] 142.6772 53.71971\n",
       " [87,] 142.6703 53.71333\n",
       " [88,] 142.6614 53.70833\n",
       " [89,] 142.6500 53.70332\n",
       " [90,] 142.6164 53.69083\n",
       " [91,] 142.6055 53.69110\n",
       " [92,] 142.6036 53.69749\n",
       " [93,] 142.6111 53.71693\n",
       " [94,] 142.6678 53.80527\n",
       " [95,] 142.6907 53.84010\n",
       " [96,] 142.6952 53.84777\n",
       " [97,] 142.6969 53.85560\n",
       " [98,] 142.7216 53.92444\n",
       " [99,] 142.7197 53.93082\n",
       "[100,] 142.7116 53.94415\n",
       "[101,] 142.7052 53.95083\n",
       "[102,] 142.6625 53.98416\n",
       "[103,] 142.5964 54.03611\n",
       "[104,] 142.5000 54.11194\n",
       "[105,] 142.4847 54.12527\n",
       "[106,] 142.4658 54.14500\n",
       "[107,] 142.4594 54.15166\n",
       "[108,] 142.3939 54.23750\n",
       "[109,] 142.4019 54.26611\n",
       "[110,] 142.4803 54.27388\n",
       "[111,] 142.5269 54.24249\n",
       "[112,] 142.5289 54.23611\n",
       "[113,] 142.5352 54.23082\n",
       "[114,] 142.5464 54.22916\n",
       "[115,] 142.5686 54.22887\n",
       "[116,] 142.5800 54.23388\n",
       "[117,] 142.6394 54.26277\n",
       "[118,] 142.6466 54.27583\n",
       "[119,] 142.6519 54.28860\n",
       "[120,] 142.6269 54.32555\n",
       "[121,] 142.6805 54.41332\n",
       "[122,] 142.6852 54.41972\n",
       "[123,] 142.6966 54.42471\n",
       "[124,] 142.7077 54.42471\n",
       "[125,] 142.7191 54.42444\n",
       "[126,] 142.7303 54.42305\n",
       "[127,] 142.7411 54.41750\n",
       "[128,] 142.7475 54.41082\n",
       "[129,] 142.7536 54.39777\n",
       "[130,] 142.7597 54.38472\n",
       "[131,] 142.7617 54.37804\n",
       "[132,] 142.7739 54.35833\n",
       "[133,] 142.8133 54.29888\n",
       "[134,] 142.8197 54.29222\n",
       "[135,] 142.9136 54.21471\n",
       "[136,] 143.0050 54.13750\n",
       "[137,] 143.0114 54.13082\n",
       "[138,] 143.0150 54.11749\n",
       "[139,] 143.0086 54.08527\n",
       "[140,] 142.9983 54.05916\n",
       "[141,] 142.9911 54.04639\n",
       "[142,] 142.9814 54.03361\n",
       "[143,] 142.9602 54.01444\n",
       "[144,] 142.9511 54.00805\n",
       "[145,] 142.9369 53.99527\n",
       "[146,] 142.9253 53.98249\n",
       "[147,] 142.8786 53.89610\n",
       "[148,] 142.8813 53.80804\n",
       "[149,] 142.9016 53.77499\n",
       "[150,] 142.9547 53.71860\n",
       "[151,] 143.0114 53.66527\n",
       "[152,] 143.1039 53.55499\n",
       "[153,] 143.1247 53.50249\n",
       "[154,] 143.1319 53.47610\n",
       "[155,] 143.1100 53.40110\n",
       "[156,] 143.0941 53.38972\n",
       "[157,] 143.0872 53.38333\n",
       "[158,] 143.0955 53.37666\n",
       "[159,] 143.1064 53.37638\n",
       "[160,] 143.1186 53.37804\n",
       "[161,] 143.1297 53.38055\n",
       "[162,] 143.1408 53.38527\n",
       "[163,] 143.1500 53.39166\n",
       "[164,] 143.1611 53.39666\n",
       "[165,] 143.1722 53.39916\n",
       "[166,] 143.1811 53.39888\n",
       "[167,] 143.1991 53.37249\n",
       "[168,] 143.2030 53.36583\n",
       "[169,] 143.2263 53.32083\n",
       "[170,] 143.2855 53.14999\n",
       "[171,] 143.2892 53.13694\n",
       "[172,] 143.2908 53.13027\n",
       "[173,] 143.3291 52.91444\n",
       "[174,] 143.3375 52.82916\n",
       "[175,] 143.3375 52.73860\n",
       "[176,] 143.3375 52.73360\n",
       "[177,] 143.3369 52.71832\n",
       "[178,] 143.3350 52.69249\n",
       "[179,] 143.3258 52.59888\n",
       "[180,] 143.3216 52.55721\n",
       "[181,] 143.3169 52.53055\n",
       "[182,] 143.3086 52.48777\n",
       "[183,] 143.3064 52.47694\n",
       "[184,] 143.3011 52.46055\n",
       "[185,] 143.2919 52.44276\n",
       "[186,] 143.2852 52.43111\n",
       "[187,] 143.2542 52.39249\n",
       "[188,] 143.2402 52.37666\n",
       "[189,] 143.2305 52.36694\n",
       "[190,] 143.2041 52.34471\n",
       "[191,] 143.1950 52.34638\n",
       "[192,] 143.1919 52.40971\n",
       "[193,] 143.1958 52.42083\n",
       "[194,] 143.2000 52.42694\n",
       "[195,] 143.2136 52.44276\n",
       "[196,] 143.2188 52.44721\n",
       "[197,] 143.2316 52.45249\n",
       "[198,] 143.2928 52.57916\n",
       "[199,] 143.2941 52.58443\n",
       "[200,] 143.2939 52.58943\n",
       "[201,] 143.2852 52.59222\n",
       "[202,] 143.2669 52.59471\n",
       "[203,] 143.2580 52.59527\n",
       "[204,] 143.2511 52.59361\n",
       "[205,] 143.2477 52.58860\n",
       "[206,] 143.1528 52.38166\n",
       "[207,] 143.1650 52.32722\n",
       "[208,] 143.1797 52.31583\n",
       "[209,] 143.1814 52.31138\n",
       "[210,] 143.1497 52.13110\n",
       "[211,] 143.1316 52.07639\n",
       "[212,] 143.1250 51.96055\n",
       "[213,] 143.1344 51.92332\n",
       "[214,] 143.1650 51.86500\n",
       "[215,] 143.1750 51.85750\n",
       "[216,] 143.1950 51.85278\n",
       "[217,] 143.2119 51.85194\n",
       "[218,] 143.2183 51.85471\n",
       "[219,] 143.2219 51.87110\n",
       "[220,] 143.2213 51.88110\n",
       "[221,] 143.2266 51.88555\n",
       "[222,] 143.2336 51.88750\n",
       "[223,] 143.2380 51.88333\n",
       "[224,] 143.2427 51.87444\n",
       "[225,] 143.2969 51.77110\n",
       "[226,] 143.3014 51.76221\n",
       "[227,] 143.3150 51.72943\n",
       "[228,] 143.3172 51.70471\n",
       "[229,] 143.3127 51.70277\n",
       "[230,] 143.3083 51.70694\n",
       "[231,] 143.3025 51.71027\n",
       "[232,] 143.2947 51.71249\n",
       "[233,] 143.2883 51.70972\n",
       "[234,] 143.2833 51.70527\n",
       "[235,] 143.2647 51.68416\n",
       "[236,] 143.2583 51.67222\n",
       "[237,] 143.2350 51.61277\n",
       "[238,] 143.2339 51.60750\n",
       "[239,] 143.2194 51.52583\n",
       "[240,] 143.2208 51.52138\n",
       "[241,] 143.2286 51.50805\n",
       "[242,] 143.2341 51.50444\n",
       "[243,] 143.2413 51.50111\n",
       "[244,] 143.3105 51.51250\n",
       "[245,] 143.3350 51.55360\n",
       "[246,] 143.3289 51.56750\n",
       "[247,] 143.3258 51.57666\n",
       "[248,] 143.3236 51.59138\n",
       "[249,] 143.3250 51.60777\n",
       "[250,] 143.3261 51.61305\n",
       "[251,] 143.3352 51.62360\n",
       "[252,] 143.3402 51.62804\n",
       "[253,] 143.3572 51.63972\n",
       "[254,] 143.3641 51.64166\n",
       "[255,] 143.3708 51.64138\n",
       "[256,] 143.3766 51.63277\n",
       "[257,] 143.4500 51.49860\n",
       "[258,] 143.4561 51.48472\n",
       "[259,] 143.4591 51.47027\n",
       "[260,] 143.4661 51.39555\n",
       "[261,] 143.4688 51.36055\n",
       "[262,] 143.4589 51.34860\n",
       "[263,] 143.4530 51.35722\n",
       "[264,] 143.4472 51.36082\n",
       "[265,] 143.4280 51.36500\n",
       "[266,] 143.4150 51.36055\n",
       "[267,] 143.3819 51.34860\n",
       "[268,] 143.3783 51.34471\n",
       "[269,] 143.3827 51.34055\n",
       "[270,] 143.4700 51.26777\n",
       "[271,] 143.4958 51.29916\n",
       "[272,] 143.4969 51.30471\n",
       "[273,] 143.5031 51.30332\n",
       "[274,] 143.5103 51.29500\n",
       "[275,] 143.5191 51.27694\n",
       "[276,] 143.5269 51.25861\n",
       "[277,] 143.5341 51.23943\n",
       "[278,] 143.5658 51.10722\n",
       "[279,] 143.5705 51.07749\n",
       "[280,] 143.5711 51.06221\n",
       "[281,] 143.5886 50.99527\n",
       "[282,] 143.6491 50.83388\n",
       "[283,] 143.6600 50.80083\n",
       "[284,] 143.6869 50.69554\n",
       "[285,] 143.6936 50.65638\n",
       "[286,] 143.7222 50.52499\n",
       "[287,] 143.7691 50.36944\n",
       "[288,] 143.7750 50.35055\n",
       "[289,] 143.7919 50.30054\n",
       "[290,] 143.7978 50.28694\n",
       "[291,] 143.8080 50.26916\n",
       "[292,] 143.8108 50.26472\n",
       "[293,] 143.8280 50.24361\n",
       "[294,] 143.8350 50.23527\n",
       "[295,] 143.8463 50.22305\n",
       "[296,] 143.8591 50.21111\n",
       "[297,] 143.8747 50.19471\n",
       "[298,] 143.8905 50.17332\n",
       "[299,] 143.9413 50.10416\n",
       "[300,] 143.9938 50.03111\n",
       "[301,] 144.0025 50.01805\n",
       "[302,] 144.0042 50.00833\n",
       "[303,] 144.0641 49.84471\n",
       "[304,] 144.2141 49.47110\n",
       "[305,] 144.2222 49.41666\n",
       "[306,] 144.2280 49.39777\n",
       "[307,] 144.2758 49.26138\n",
       "[308,] 144.3930 49.05222\n",
       "[309,] 144.4036 49.03388\n",
       "[310,] 144.4077 49.02999\n",
       "[311,] 144.4175 49.02222\n",
       "[312,] 144.4991 48.97221\n",
       "[313,] 144.5183 48.96194\n",
       "[314,] 144.5591 48.94221\n",
       "[315,] 144.5728 48.93555\n",
       "[316,] 144.6367 48.90138\n",
       "[317,] 144.6650 48.88333\n",
       "[318,] 144.6869 48.86860\n",
       "[319,] 144.6908 48.86444\n",
       "[320,] 144.6936 48.85999\n",
       "[321,] 144.6950 48.85527\n",
       "[322,] 144.7066 48.78055\n",
       "[323,] 144.7052 48.77527\n",
       "[324,] 144.7003 48.77083\n",
       "[325,] 144.6917 48.75500\n",
       "[326,] 144.6897 48.75200\n",
       "[327,] 144.6890 48.74866\n",
       "[328,] 144.6890 48.74249\n",
       "[329,] 144.6909 48.73366\n",
       "[330,] 144.6908 48.71333\n",
       "[331,] 144.6972 48.69415\n",
       "[332,] 144.7041 48.68055\n",
       "[333,] 144.7097 48.67166\n",
       "[334,] 144.7177 48.66360\n",
       "[335,] 144.7233 48.65999\n",
       "[336,] 144.7366 48.65332\n",
       "[337,] 144.7461 48.65054\n",
       "[338,] 144.7503 48.64666\n",
       "[339,] 144.7516 48.64194\n",
       "[340,] 144.7466 48.63721\n",
       "[341,] 144.7394 48.63638\n",
       "[342,] 144.7316 48.63638\n",
       "[343,] 144.6900 48.64055\n",
       "[344,] 144.6839 48.64305\n",
       "[345,] 144.6783 48.64666\n",
       "[346,] 144.6741 48.65582\n",
       "[347,] 144.6531 48.72266\n",
       "[348,] 144.6530 48.72882\n",
       "[349,] 144.6520 48.74099\n",
       "[350,] 144.6495 48.74949\n",
       "[351,] 144.6470 48.75499\n",
       "[352,] 144.6350 48.78999\n",
       "[353,] 144.6155 48.82083\n",
       "[354,] 144.5580 48.89277\n",
       "[355,] 144.5375 48.91305\n",
       "[356,] 144.4539 48.98472\n",
       "[357,] 144.4413 48.99166\n",
       "[358,] 144.3711 49.01361\n",
       "[359,] 144.3641 49.01694\n",
       "[360,] 144.3575 49.02027\n",
       "[361,] 144.3463 49.02749\n",
       "[362,] 144.2864 49.06777\n",
       "[363,] 144.2780 49.07583\n",
       "[364,] 144.2667 49.09361\n",
       "[365,] 144.2597 49.10694\n",
       "[366,] 144.2583 49.11194\n",
       "[367,] 144.2542 49.12110\n",
       "[368,] 144.2458 49.12916\n",
       "[369,] 144.1528 49.19694\n",
       "[370,] 144.1417 49.20416\n",
       "[371,] 144.1022 49.22443\n",
       "[372,] 144.0611 49.24416\n",
       "[373,] 144.0203 49.25861\n",
       "[374,] 143.9819 49.26888\n",
       "[375,] 143.9455 49.27638\n",
       "[376,] 143.9286 49.27777\n",
       "[377,] 143.9130 49.27777\n",
       "[378,] 143.8701 49.28219\n",
       "[379,] 143.8361 49.28638\n",
       "[380,] 143.7069 49.30249\n",
       "[381,] 143.4655 49.35972\n",
       "[382,] 143.4569 49.36749\n",
       "[383,] 143.4291 49.38583\n",
       "[384,] 143.4100 49.39583\n",
       "[385,] 143.3919 49.39916\n",
       "[386,] 143.3672 49.40054\n",
       "[387,] 143.3513 49.40027\n",
       "[388,] 143.2969 49.39861\n",
       "[389,] 143.2825 49.39666\n",
       "[390,] 143.2622 49.39083\n",
       "[391,] 143.2561 49.38833\n",
       "[392,] 143.2505 49.38472\n",
       "[393,] 143.2461 49.37916\n",
       "[394,] 143.2463 49.37416\n",
       "[395,] 143.2480 49.36944\n",
       "[396,] 143.2572 49.36111\n",
       "[397,] 143.3122 49.31638\n",
       "[398,] 143.3203 49.31361\n",
       "[399,] 143.3438 49.31388\n",
       "[400,] 143.3669 49.31527\n",
       "[401,] 143.3966 49.31833\n",
       "[402,] 143.4117 49.31944\n",
       "[403,] 143.4347 49.32055\n",
       "[404,] 143.4975 49.32138\n",
       "[405,] 143.6011 49.32027\n",
       "[406,] 143.6344 49.31805\n",
       "[407,] 143.6619 49.31221\n",
       "[408,] 143.6661 49.30833\n",
       "[409,] 143.6600 49.30555\n",
       "[410,] 143.6525 49.30444\n",
       "[411,] 143.6055 49.30388\n",
       "[412,] 143.5422 49.30388\n",
       "[413,] 143.5005 49.30694\n",
       "[414,] 143.4850 49.30666\n",
       "[415,] 143.4261 49.29972\n",
       "[416,] 143.3394 49.28694\n",
       "[417,] 143.2903 49.27721\n",
       "[418,] 143.2694 49.27249\n",
       "[419,] 143.2628 49.27055\n",
       "[420,] 143.1936 49.24610\n",
       "[421,] 143.1433 49.22582\n",
       "[422,] 143.1372 49.22305\n",
       "[423,] 143.1255 49.21666\n",
       "[424,] 143.0789 49.19110\n",
       "[425,] 143.0736 49.18749\n",
       "[426,] 143.0364 49.15943\n",
       "[427,] 143.0314 49.15499\n",
       "[428,] 143.0178 49.13972\n",
       "[429,] 143.0133 49.13416\n",
       "[430,] 142.9891 49.10139\n",
       "[431,] 142.9841 49.08971\n",
       "[432,] 142.9719 49.06027\n",
       "[433,] 142.9683 49.04888\n",
       "[434,] 142.9661 49.03805\n",
       "[435,] 142.9650 49.02721\n",
       "[436,] 142.9658 49.01194\n",
       "[437,] 142.9719 48.99305\n",
       "[438,] 142.9763 48.98388\n",
       "[439,] 142.9822 48.97499\n",
       "[440,] 142.9866 48.96082\n",
       "[441,] 142.9900 48.94610\n",
       "[442,] 142.9916 48.93638\n",
       "[443,] 142.9925 48.92083\n",
       "[444,] 142.9902 48.90999\n",
       "[445,] 142.9783 48.89194\n",
       "[446,] 142.9738 48.88666\n",
       "[447,] 142.9280 48.81944\n",
       "[448,] 142.8630 48.70972\n",
       "[449,] 142.7811 48.55416\n",
       "[450,] 142.7686 48.52972\n",
       "[451,] 142.7600 48.51167\n",
       "[452,] 142.7505 48.48804\n",
       "[453,] 142.7469 48.47665\n",
       "[454,] 142.6722 48.30444\n",
       "[455,] 142.6197 48.20499\n",
       "[456,] 142.6164 48.19332\n",
       "[457,] 142.6127 48.18194\n",
       "[458,] 142.5991 48.14555\n",
       "[459,] 142.5686 48.07527\n",
       "[460,] 142.5358 48.00805\n",
       "[461,] 142.5347 48.00278\n",
       "[462,] 142.5291 47.89666\n",
       "[463,] 142.5300 47.87582\n",
       "[464,] 142.5347 47.80416\n",
       "[465,] 142.5367 47.78916\n",
       "[466,] 142.5572 47.71666\n",
       "[467,] 142.5680 47.68333\n",
       "[468,] 142.5725 47.67416\n",
       "[469,] 142.6039 47.62054\n",
       "[470,] 142.6197 47.59388\n",
       "[471,] 142.6311 47.57639\n",
       "[472,] 142.7139 47.48499\n",
       "[473,] 142.7797 47.42583\n",
       "[474,] 142.7969 47.42055\n",
       "[475,] 142.8291 47.40916\n",
       "[476,] 142.8450 47.40332\n",
       "[477,] 142.8600 47.39722\n",
       "[478,] 142.8733 47.39055\n",
       "[479,] 142.9005 47.37249\n",
       "[480,] 142.9142 47.36082\n",
       "[481,] 142.9264 47.34860\n",
       "[482,] 143.0144 47.25417\n",
       "[483,] 143.0200 47.24527\n",
       "[484,] 143.0214 47.24055\n",
       "[485,] 143.1058 46.91999\n",
       "[486,] 143.1119 46.89055\n",
       "[487,] 143.1069 46.84277\n",
       "[488,] 143.0950 46.83721\n",
       "[489,] 143.0902 46.83277\n",
       "[490,] 143.0861 46.82722\n",
       "[491,] 143.0836 46.82138\n",
       "[492,] 143.0839 46.81610\n",
       "[493,] 143.0883 46.80166\n",
       "[494,] 143.1669 46.70916\n",
       "[495,] 143.1722 46.70555\n",
       "[496,] 143.1902 46.70139\n",
       "[497,] 143.3436 46.68055\n",
       "[498,] 143.3589 46.68082\n",
       "[499,] 143.3716 46.68443\n",
       "[500,] 143.3769 46.68804\n",
       "[501,] 143.3867 46.69721\n",
       "[502,] 143.3908 46.70277\n",
       "[503,] 143.3919 46.70833\n",
       "[504,] 143.3867 46.71721\n",
       "[505,] 143.3688 46.73305\n",
       "[506,] 143.3769 46.78638\n",
       "[507,] 143.4319 46.83305\n",
       "[508,] 143.4372 46.83665\n",
       "[509,] 143.4433 46.83943\n",
       "[510,] 143.4497 46.84138\n",
       "[511,] 143.4577 46.84055\n",
       "[512,] 143.4725 46.83416\n",
       "[513,] 143.4805 46.82610\n",
       "[514,] 143.4916 46.80860\n",
       "[515,] 143.5219 46.71805\n",
       "[516,] 143.5233 46.70805\n",
       "[517,] 143.5236 46.70277\n",
       "[518,] 143.5225 46.69721\n",
       "[519,] 143.5150 46.68472\n",
       "[520,] 143.5125 46.67860\n",
       "[521,] 143.5114 46.67305\n",
       "[522,] 143.5117 46.66805\n",
       "[523,] 143.5150 46.64277\n",
       "[524,] 143.5244 46.58221\n",
       "[525,] 143.5486 46.49972\n",
       "[526,] 143.5544 46.48055\n",
       "[527,] 143.5786 46.40916\n",
       "[528,] 143.6019 46.38361\n",
       "[529,] 143.5875 46.35166\n",
       "[530,] 143.5203 46.22694\n",
       "[531,] 143.5164 46.22054\n",
       "[532,] 143.5111 46.21693\n",
       "[533,] 143.5005 46.20972\n",
       "[534,] 143.4897 46.20222\n",
       "[535,] 143.4803 46.19332\n",
       "[536,] 143.4761 46.18777\n",
       "[537,] 143.4688 46.16999\n",
       "[538,] 143.4655 46.15332\n",
       "[539,] 143.4658 46.14805\n",
       "[540,] 143.4713 46.12888\n",
       "[541,] 143.4747 46.10860\n",
       "[542,] 143.4750 46.09833\n",
       "[543,] 143.4738 46.09277\n",
       "[544,] 143.4314 46.01944\n",
       "[545,] 143.4253 46.01944\n",
       "[546,] 143.4077 46.07749\n",
       "[547,] 143.4075 46.08250\n",
       "[548,] 143.4247 46.12860\n",
       "[549,] 143.4280 46.18194\n",
       "[550,] 143.4275 46.20277\n",
       "[551,] 143.4230 46.21721\n",
       "[552,] 143.4175 46.23138\n",
       "[553,] 143.4119 46.24527\n",
       "[554,] 143.3880 46.29610\n",
       "[555,] 143.3589 46.35555\n",
       "[556,] 143.3455 46.37833\n",
       "[557,] 143.3397 46.39749\n",
       "[558,] 143.3394 46.40804\n",
       "[559,] 143.3452 46.46221\n",
       "[560,] 143.3650 46.48666\n",
       "[561,] 143.3708 46.48943\n",
       "[562,] 143.3752 46.49500\n",
       "[563,] 143.3861 46.51916\n",
       "[564,] 143.3883 46.53027\n",
       "[565,] 143.3867 46.53500\n",
       "[566,] 143.3786 46.54833\n",
       "[567,] 143.3677 46.55582\n",
       "[568,] 143.3614 46.55888\n",
       "[569,] 143.3522 46.56166\n",
       "[570,] 143.3436 46.56305\n",
       "[571,] 143.1691 46.58999\n",
       "[572,] 143.1361 46.59388\n",
       "[573,] 143.1291 46.59277\n",
       "[574,] 143.1164 46.58888\n",
       "[575,] 143.1105 46.58611\n",
       "[576,] 143.1036 46.58499\n",
       "[577,] 143.0825 46.58194\n",
       "[578,] 143.0594 46.58250\n",
       "[579,] 143.0097 46.58888\n",
       "[580,] 142.8791 46.59721\n",
       "[581,] 142.8047 46.59388\n",
       "[582,] 142.7972 46.59388\n",
       "[583,] 142.7805 46.59610\n",
       "[584,] 142.7739 46.59943\n",
       "[585,] 142.7697 46.60361\n",
       "[586,] 142.7469 46.64916\n",
       "[587,] 142.7339 46.68194\n",
       "[588,] 142.7325 46.68694\n",
       "[589,] 142.7272 46.71666\n",
       "[590,] 142.7283 46.72221\n",
       "[591,] 142.7274 46.73777\n",
       "[592,] 142.7236 46.74194\n",
       "[593,] 142.7175 46.74416\n",
       "[594,] 142.7097 46.74416\n",
       "[595,] 142.6003 46.71138\n",
       "[596,] 142.5753 46.70277\n",
       "[597,] 142.5264 46.68250\n",
       "[598,] 142.4969 46.66833\n",
       "[599,] 142.4869 46.65999\n",
       "[600,] 142.4680 46.64166\n",
       "[601,] 142.4214 46.58250\n",
       "[602,] 142.2953 46.34083\n",
       "[603,] 142.2500 46.19638\n",
       "[604,] 142.2272 46.11250\n",
       "[605,] 142.2000 46.02610\n",
       "[606,] 142.1964 46.01971\n",
       "[607,] 142.0963 45.89527\n",
       "[608,] 142.0911 45.89138\n",
       "[609,] 142.0855 45.88860\n",
       "[610,] 142.0775 45.89138\n",
       "[611,] 142.0505 45.91471\n",
       "[612,] 142.0341 45.93082\n",
       "[613,] 141.9291 46.03583\n",
       "[614,] 141.9264 46.04028\n",
       "[615,] 141.9250 46.04500\n",
       "[616,] 141.9247 46.05027\n",
       "[617,] 141.9255 46.05582\n",
       "[618,] 141.9278 46.06194\n",
       "[619,] 141.9350 46.07471\n",
       "[620,] 141.9372 46.08055\n",
       "[621,] 141.9383 46.08611\n",
       "[622,] 141.9380 46.09138\n",
       "[623,] 141.9000 46.26971\n",
       "[624,] 141.8936 46.28889\n",
       "[625,] 141.8878 46.30277\n",
       "[626,] 141.8816 46.31667\n",
       "[627,] 141.8522 46.38166\n",
       "[628,] 141.8380 46.40721\n",
       "[629,] 141.8308 46.42083\n",
       "[630,] 141.8291 46.42555\n",
       "[631,] 141.8272 46.43555\n",
       "[632,] 141.8194 46.48582\n",
       "[633,] 141.8152 46.53944\n",
       "[634,] 141.8127 46.58611\n",
       "[635,] 141.8136 46.59166\n",
       "[636,] 141.8158 46.59777\n",
       "[637,] 141.9753 46.89471\n",
       "[638,] 141.9836 46.90582\n",
       "[639,] 141.9913 46.91750\n",
       "[640,] 142.0225 46.97638\n",
       "[641,] 142.0308 46.99471\n",
       "[642,] 142.0480 47.03666\n",
       "[643,] 142.0503 47.04250\n",
       "[644,] 142.0514 47.04805\n",
       "[645,] 142.0555 47.07055\n",
       "[646,] 142.0586 47.08721\n",
       "[647,] 142.0594 47.12471\n",
       "[648,] 142.0583 47.14527\n",
       "[649,] 142.0550 47.16027\n",
       "[650,] 142.0519 47.16972\n",
       "[651,] 142.0411 47.20305\n",
       "[652,] 142.0297 47.23221\n",
       "[653,] 142.0180 47.25000\n",
       "[654,] 142.0142 47.25388\n",
       "[655,] 141.9936 47.26860\n",
       "[656,] 141.9783 47.27999\n",
       "[657,] 141.9702 47.28805\n",
       "[658,] 141.9528 47.45750\n",
       "[659,] 141.9511 47.48860\n",
       "[660,] 141.9614 47.59138\n",
       "[661,] 141.9647 47.60860\n",
       "[662,] 142.0033 47.69666\n",
       "[663,] 142.0816 47.83665\n",
       "[664,] 142.0855 47.84305\n",
       "[665,] 142.1028 47.86388\n",
       "[666,] 142.1219 47.88221\n",
       "[667,] 142.1333 47.88860\n",
       "[668,] 142.1436 47.89694\n",
       "[669,] 142.1580 47.91055\n",
       "[670,] 142.1722 47.92444\n",
       "[671,] 142.1766 47.92972\n",
       "[672,] 142.1864 47.94833\n",
       "[673,] 142.1886 47.95416\n",
       "[674,] 142.1894 47.96500\n",
       "[675,] 142.1889 47.97527\n",
       "[676,] 142.1841 47.98943\n",
       "[677,] 142.1789 48.01416\n",
       "[678,] 142.1769 48.02416\n",
       "[679,] 142.1733 48.04388\n",
       "[680,] 142.1686 48.08416\n",
       "[681,] 142.1619 48.16638\n",
       "[682,] 142.1566 48.24332\n",
       "[683,] 142.1514 48.26777\n",
       "[684,] 142.1480 48.28249\n",
       "[685,] 142.1464 48.28722\n",
       "[686,] 142.1355 48.31554\n",
       "[687,] 142.1311 48.32444\n",
       "[688,] 142.1075 48.37054\n",
       "[689,] 142.1003 48.38388\n",
       "[690,] 142.0855 48.40582\n",
       "[691,] 142.0755 48.41860\n",
       "[692,] 142.0155 48.48972\n",
       "[693,] 141.9358 48.58167\n",
       "[694,] 141.9169 48.60750\n",
       "[695,] 141.9083 48.62054\n",
       "[696,] 141.8886 48.65638\n",
       "[697,] 141.8750 48.68388\n",
       "[698,] 141.8605 48.72638\n",
       "[699,] 141.8524 48.75027\n",
       "[700,] 141.8530 48.76083\n",
       "[701,] 141.8569 48.76721\n",
       "[702,] 141.8697 48.78333\n",
       "[703,] 141.9128 48.82527\n",
       "[704,] 141.9225 48.83443\n",
       "[705,] 141.9475 48.84527\n",
       "[706,] 141.9530 48.84888\n",
       "[707,] 141.9625 48.85805\n",
       "[708,] 141.9675 48.86999\n",
       "[709,] 141.9963 48.94916\n",
       "[710,] 142.0022 48.96638\n",
       "[711,] 142.0278 49.04166\n",
       "[712,] 142.0700 49.24222\n",
       "[713,] 142.0669 49.25166\n",
       "[714,] 142.0650 49.26167\n",
       "[715,] 142.0641 49.27694\n",
       "[716,] 142.0644 49.29778\n",
       "[717,] 142.0647 49.31361\n",
       "[718,] 142.0667 49.32972\n",
       "[719,] 142.0686 49.34055\n",
       "[720,] 142.0741 49.36305\n",
       "[721,] 142.0791 49.37471\n",
       "[722,] 142.0864 49.38721\n",
       "[723,] 142.0969 49.40499\n",
       "[724,] 142.1044 49.41750\n",
       "[725,] 142.1188 49.45277\n",
       "[726,] 142.1236 49.46444\n",
       "[727,] 142.1353 49.52499\n",
       "[728,] 142.1405 49.55249\n",
       "[729,] 142.1511 49.63333\n",
       "[730,] 142.1605 49.78638\n",
       "[731,] 142.1591 49.81194\n",
       "[732,] 142.1555 49.82639\n",
       "[733,] 142.1522 49.83582\n",
       "[734,] 142.1392 49.85860\n",
       "[735,] 142.1272 49.88110\n",
       "[736,] 142.1263 49.89111\n",
       "[737,] 142.1386 49.94860\n",
       "[738,] 142.1528 50.00527\n",
       "[739,] 142.1739 50.09415\n",
       "[740,] 142.1508 50.33167\n",
       "[741,] 142.1472 50.35139\n",
       "[742,] 142.1372 50.37943\n",
       "[743,] 142.1324 50.38860\n",
       "[744,] 142.1297 50.39277\n",
       "[745,] 142.1127 50.40916\n",
       "[746,] 142.1097 50.41360\n",
       "[747,] 142.0566 50.49694\n",
       "[748,] 142.0489 50.51028\n",
       "[749,] 142.0425 50.52888\n",
       "[750,] 142.0422 50.53416\n",
       "[751,] 142.0441 50.55000\n",
       "[752,] 142.0511 50.59833\n",
       "[753,] 142.0519 50.60388\n",
       "[754,] 142.0950 50.81305\n",
       "[755,] 142.1252 50.88638\n",
       "[756,] 142.1342 50.89722\n",
       "[757,] 142.1441 50.90610\n",
       "[758,] 142.1547 50.91415\n",
       "[759,] 142.1716 50.92500\n",
       "[760,] 142.1825 50.93305\n",
       "[761,] 142.2014 50.95277\n",
       "[762,] 142.2191 50.97416\n",
       "[763,] 142.2316 50.99833\n",
       "[764,] 142.2366 51.01009\n",
       "[765,] 142.2488 51.03916\n",
       "[766,] 142.2550 51.05610\n",
       "[767,] 142.2633 51.07916\n",
       "[768,] 142.2678 51.10083\n",
       "[769,] 142.2678 51.10805\n",
       "[770,] 142.2672 51.12027\n",
       "[771,] 142.2608 51.13916\n",
       "[772,] 142.2561 51.14805\n",
       "[773,] 142.2514 51.15694\n",
       "[774,] 142.2380 51.17388\n",
       "[775,] 142.2305 51.18221\n",
       "[776,] 142.0852 51.39833\n",
       "[777,] 142.0805 51.40749\n",
       "[778,] 142.0772 51.41666\n",
       "[779,] 142.0811 51.42305\n",
       "[780,] 142.0916 51.42888\n",
       "[781,] 142.0966 51.43333\n",
       "[782,] 142.0977 51.43888\n",
       "[783,] 142.0944 51.44833\n",
       "[784,] 142.0897 51.45721\n",
       "[785,] 142.0791 51.46971\n",
       "[786,] 142.0688 51.47721\n",
       "[787,] 142.0052 51.51611\n",
       "[788,] 141.9233 51.57055\n",
       "[789,] 141.7972 51.67749\n",
       "[790,] 141.8047 51.71749\n",
       "[791,] 141.8111 51.72027\n",
       "[792,] 141.8211 51.72916\n",
       "[793,] 141.8250 51.73527\n",
       "[794,] 141.8208 51.78027\n",
       "[795,] 141.8175 51.78972\n",
       "[796,] 141.7772 51.82471\n",
       "[797,] 141.7597 51.83527\n",
       "[798,] 141.6480 51.88666\n",
       "[799,] 141.6400 52.07972\n",
       "[800,] 141.6414 52.08582\n",
       "[801,] 141.6439 52.09166\n",
       "[802,] 141.6478 52.09777\n",
       "[803,] 141.6522 52.10305\n",
       "[804,] 141.6778 52.12555\n",
       "[805,] 141.6866 52.13611\n",
       "[806,] 141.6930 52.14805\n",
       "[807,] 141.6950 52.15888\n",
       "[808,] 141.6936 52.17916\n",
       "[809,] 141.6686 52.25916\n",
       "[810,] 141.6400 52.31110\n",
       "[811,] 141.6380 52.31583\n",
       "[812,] 141.6519 52.36555\n",
       "[813,] 141.6569 52.37721\n",
       "[814,] 141.6608 52.38333\n",
       "[815,] 141.6658 52.38777\n",
       "[816,] 141.6772 52.39500\n",
       "[817,] 141.7030 52.40665\n",
       "[818,] 141.7433 52.43194\n",
       "[819,] 141.7536 52.44083\n",
       "[820,] 141.7683 52.45527\n",
       "[821,] 141.7908 52.48166\n",
       "[822,] 141.8377 52.57805\n",
       "[823,] 141.8389 52.58360\n",
       "[824,] 141.8497 52.71305\n",
       "[825,] 141.8586 52.85139\n",
       "[826,] 141.8911 52.93555\n",
       "[827,] 141.9219 53.00388\n",
       "[828,] 141.9253 53.01999\n",
       "[829,] 141.9247 53.02499\n",
       "[830,] 141.9172 53.05332\n",
       "[831,] 141.9122 53.06721\n",
       "[832,] 141.8933 53.09277\n",
       "[833,] 141.8669 53.12138\n",
       "[834,] 141.8516 53.13750\n",
       "[835,] 141.8425 53.14527\n",
       "\n",
       "\n",
       "\n",
       "Slot \"plotOrder\":\n",
       "[1] 1\n",
       "\n",
       "Slot \"labpt\":\n",
       "[1] 142.71208  50.33426\n",
       "\n",
       "Slot \"ID\":\n",
       "[1] \"0\"\n",
       "\n",
       "Slot \"area\":\n",
       "[1] 9.533439\n",
       "\n",
       "\n",
       "\n",
       "Slot \"plotOrder\":\n",
       "[1] 1\n",
       "\n",
       "Slot \"bbox\":\n",
       "       min       max\n",
       "x 141.6380 144.75165\n",
       "y  45.8886  54.42471\n",
       "\n",
       "Slot \"proj4string\":\n",
       "CRS arguments:\n",
       " +proj=longlat +datum=WGS84 +no_defs +ellps=WGS84 +towgs84=0,0,0 \n"
      ]
     },
     "metadata": {},
     "output_type": "display_data"
    }
   ],
   "source": [
    "shape_rgdal"
   ]
  },
  {
   "cell_type": "code",
   "execution_count": 25,
   "metadata": {
    "collapsed": true
   },
   "outputs": [],
   "source": [
    "bbox<-shape_rgdal@bbox"
   ]
  },
  {
   "cell_type": "code",
   "execution_count": 26,
   "metadata": {},
   "outputs": [
    {
     "data": {
      "text/html": [
       "<ol class=list-inline>\n",
       "\t<li>141.638031005859</li>\n",
       "\t<li>45.8886032104492</li>\n",
       "\t<li>144.751647949219</li>\n",
       "\t<li>54.4247131347656</li>\n",
       "</ol>\n"
      ],
      "text/latex": [
       "\\begin{enumerate*}\n",
       "\\item 141.638031005859\n",
       "\\item 45.8886032104492\n",
       "\\item 144.751647949219\n",
       "\\item 54.4247131347656\n",
       "\\end{enumerate*}\n"
      ],
      "text/markdown": [
       "1. 141.638031005859\n",
       "2. 45.8886032104492\n",
       "3. 144.751647949219\n",
       "4. 54.4247131347656\n",
       "\n",
       "\n"
      ],
      "text/plain": [
       "[1] 141.63803  45.88860 144.75165  54.42471"
      ]
     },
     "metadata": {},
     "output_type": "display_data"
    }
   ],
   "source": [
    "as.numeric(bbox)"
   ]
  },
  {
   "cell_type": "markdown",
   "metadata": {},
   "source": [
    "Поскольку в текущей версии HTTP API поддерживаются только поисковые запросы с прямоугольными областями поиска, определим прямоугольную область, включающую необходимый контур shape-файла. Такая прмоугольная область хранится в слоте `bbox`, поэтому достаточно извлечь крайние значения широт и долгот из этого слота."
   ]
  },
  {
   "cell_type": "code",
   "execution_count": 27,
   "metadata": {
    "collapsed": true
   },
   "outputs": [],
   "source": [
    "lonl<-as.numeric(bbox)[1]\n",
    "lonu<-as.numeric(bbox)[3]\n",
    "latl<-as.numeric(bbox)[2]\n",
    "latu<-as.numeric(bbox)[4]"
   ]
  },
  {
   "cell_type": "markdown",
   "metadata": {},
   "source": [
    "Далее, сформируем поисковый `url` и выполним поисковый запрос."
   ]
  },
  {
   "cell_type": "code",
   "execution_count": 28,
   "metadata": {
    "collapsed": true
   },
   "outputs": [],
   "source": [
    "search_parameters_sakhalin <- c('lonl', lonl, 'lonu', lonu, 'latl', latl, 'latu', latu)"
   ]
  },
  {
   "cell_type": "code",
   "execution_count": 29,
   "metadata": {
    "collapsed": true
   },
   "outputs": [],
   "source": [
    "search_url_sakhalin <- paste(http_api_base_url, paste(search_parameters_sakhalin[c(TRUE, FALSE)], search_parameters_sakhalin[c(FALSE, TRUE)], sep='=', collapse='&'), sep='')"
   ]
  },
  {
   "cell_type": "code",
   "execution_count": 30,
   "metadata": {},
   "outputs": [
    {
     "data": {
      "text/html": [
       "'http://botsad.ru/hitem/json/?lonl=141.638031005859&amp;lonu=144.751647949219&amp;latl=45.8886032104492&amp;latu=54.4247131347656'"
      ],
      "text/latex": [
       "'http://botsad.ru/hitem/json/?lonl=141.638031005859\\&lonu=144.751647949219\\&latl=45.8886032104492\\&latu=54.4247131347656'"
      ],
      "text/markdown": [
       "'http://botsad.ru/hitem/json/?lonl=141.638031005859&amp;lonu=144.751647949219&amp;latl=45.8886032104492&amp;latu=54.4247131347656'"
      ],
      "text/plain": [
       "[1] \"http://botsad.ru/hitem/json/?lonl=141.638031005859&lonu=144.751647949219&latl=45.8886032104492&latu=54.4247131347656\""
      ]
     },
     "metadata": {},
     "output_type": "display_data"
    }
   ],
   "source": [
    "search_url_sakhalin"
   ]
  },
  {
   "cell_type": "code",
   "execution_count": 31,
   "metadata": {
    "collapsed": true
   },
   "outputs": [],
   "source": [
    "sakhalin_data <- fromJSON(search_url_sakhalin)"
   ]
  },
  {
   "cell_type": "markdown",
   "metadata": {},
   "source": [
    "Посмотрим, сколько данных принадлежит прямоугольной поисковой области, которая включает контур острова Сахалин."
   ]
  },
  {
   "cell_type": "code",
   "execution_count": 32,
   "metadata": {},
   "outputs": [
    {
     "data": {
      "text/html": [
       "<ol class=list-inline>\n",
       "\t<li>574</li>\n",
       "\t<li>41</li>\n",
       "</ol>\n"
      ],
      "text/latex": [
       "\\begin{enumerate*}\n",
       "\\item 574\n",
       "\\item 41\n",
       "\\end{enumerate*}\n"
      ],
      "text/markdown": [
       "1. 574\n",
       "2. 41\n",
       "\n",
       "\n"
      ],
      "text/plain": [
       "[1] 574  41"
      ]
     },
     "metadata": {},
     "output_type": "display_data"
    }
   ],
   "source": [
    "dim(sakhalin_data$data)"
   ]
  },
  {
   "cell_type": "code",
   "execution_count": 33,
   "metadata": {
    "collapsed": true
   },
   "outputs": [],
   "source": [
    "number_in_rectangle <- dim(sakhalin_data$data)[1]"
   ]
  },
  {
   "cell_type": "code",
   "execution_count": 34,
   "metadata": {},
   "outputs": [
    {
     "data": {
      "text/html": [
       "'Таким образом, количество точек, принадлежащих прямоугольной области включающей о.Сахалин: 574'"
      ],
      "text/latex": [
       "'Таким образом, количество точек, принадлежащих прямоугольной области включающей о.Сахалин: 574'"
      ],
      "text/markdown": [
       "'Таким образом, количество точек, принадлежащих прямоугольной области включающей о.Сахалин: 574'"
      ],
      "text/plain": [
       "[1] \"Таким образом, количество точек, принадлежащих прямоугольной области включающей о.Сахалин: 574\""
      ]
     },
     "metadata": {},
     "output_type": "display_data"
    }
   ],
   "source": [
    "sprintf(\"Таким образом, количество точек, принадлежащих прямоугольной области включающей о.Сахалин: %d\", number_in_rectangle)"
   ]
  },
  {
   "cell_type": "markdown",
   "metadata": {},
   "source": [
    "Проведем дополнительную фильтрацию, чтобы исключить точки, которые принадлежат прямоугольно области, но не попадают в контур острова, определенный в shape-файле.\n",
    "Для этого будем использовать пакет `sp`."
   ]
  },
  {
   "cell_type": "code",
   "execution_count": 35,
   "metadata": {
    "collapsed": true
   },
   "outputs": [],
   "source": [
    "library(sp)"
   ]
  },
  {
   "cell_type": "code",
   "execution_count": 36,
   "metadata": {
    "collapsed": true
   },
   "outputs": [],
   "source": [
    "sakhalin_nonfiltered <- sakhalin_data$data"
   ]
  },
  {
   "cell_type": "markdown",
   "metadata": {},
   "source": [
    "Преобразуем массив данных `sakhalin_nonfiltered` в массив пространственно-распределенных данных (S4 - объект среды R), для которого можно применить операцию  "
   ]
  },
  {
   "cell_type": "code",
   "execution_count": 37,
   "metadata": {
    "collapsed": true
   },
   "outputs": [],
   "source": [
    "coordinates(sakhalin_nonfiltered) <- cbind(sakhalin_nonfiltered$longitude , sakhalin_nonfiltered$latitude)"
   ]
  },
  {
   "cell_type": "code",
   "execution_count": 38,
   "metadata": {
    "collapsed": true
   },
   "outputs": [],
   "source": [
    "sakhalin_nonfiltered@proj4string <- CRS(proj4string(shape_rgdal))"
   ]
  },
  {
   "cell_type": "code",
   "execution_count": 39,
   "metadata": {
    "collapsed": true
   },
   "outputs": [],
   "source": [
    "sakhalin_filtered<-sakhalin_nonfiltered[shape_rgdal,]"
   ]
  },
  {
   "cell_type": "code",
   "execution_count": 40,
   "metadata": {},
   "outputs": [
    {
     "data": {
      "text/html": [
       "<ol class=list-inline>\n",
       "\t<li>549</li>\n",
       "\t<li>41</li>\n",
       "</ol>\n"
      ],
      "text/latex": [
       "\\begin{enumerate*}\n",
       "\\item 549\n",
       "\\item 41\n",
       "\\end{enumerate*}\n"
      ],
      "text/markdown": [
       "1. 549\n",
       "2. 41\n",
       "\n",
       "\n"
      ],
      "text/plain": [
       "[1] 549  41"
      ]
     },
     "metadata": {},
     "output_type": "display_data"
    }
   ],
   "source": [
    "dim(sakhalin_filtered)"
   ]
  },
  {
   "cell_type": "code",
   "execution_count": 41,
   "metadata": {
    "collapsed": true
   },
   "outputs": [],
   "source": [
    "number_in_sakhalin <- dim(sakhalin_filtered)[1]"
   ]
  },
  {
   "cell_type": "code",
   "execution_count": 42,
   "metadata": {},
   "outputs": [
    {
     "data": {
      "text/html": [
       "'Число записей, принадлежащих прямоугольной области, но не принадлежащих контуру о. Сахалин: 25'"
      ],
      "text/latex": [
       "'Число записей, принадлежащих прямоугольной области, но не принадлежащих контуру о. Сахалин: 25'"
      ],
      "text/markdown": [
       "'Число записей, принадлежащих прямоугольной области, но не принадлежащих контуру о. Сахалин: 25'"
      ],
      "text/plain": [
       "[1] \"Число записей, принадлежащих прямоугольной области, но не принадлежащих контуру о. Сахалин: 25\""
      ]
     },
     "metadata": {},
     "output_type": "display_data"
    }
   ],
   "source": [
    "sprintf('Число записей, принадлежащих прямоугольной области, но не принадлежащих контуру о. Сахалин: %d', number_in_rectangle -number_in_sakhalin)"
   ]
  },
  {
   "cell_type": "markdown",
   "metadata": {},
   "source": [
    "Изложенная схема позволяет автоматизировать поисковые запросы к гербарной базе, выполнять поиск записей по сложным географическим областям и, в конечном счете, использовать возможности среды статистической обработки данных на базе R для выполнения научно-исследовательской работы."
   ]
  },
  {
   "cell_type": "code",
   "execution_count": 43,
   "metadata": {},
   "outputs": [
    {
     "data": {
      "text/html": [
       "'Дата выполнения кода документа: 2017-11-12'"
      ],
      "text/latex": [
       "'Дата выполнения кода документа: 2017-11-12'"
      ],
      "text/markdown": [
       "'Дата выполнения кода документа: 2017-11-12'"
      ],
      "text/plain": [
       "[1] \"Дата выполнения кода документа: 2017-11-12\""
      ]
     },
     "metadata": {},
     "output_type": "display_data"
    }
   ],
   "source": [
    "sprintf('Дата выполнения кода документа: %s', Sys.Date())"
   ]
  }
 ],
 "metadata": {
  "kernelspec": {
   "display_name": "R",
   "language": "R",
   "name": "ir"
  },
  "language_info": {
   "codemirror_mode": "r",
   "file_extension": ".r",
   "mimetype": "text/x-r-source",
   "name": "R",
   "pygments_lexer": "r",
   "version": "3.3.1"
  }
 },
 "nbformat": 4,
 "nbformat_minor": 2
}
